{
 "cells": [
  {
   "cell_type": "markdown",
   "metadata": {},
   "source": [
    "# Analysing Question 1.2 results\n",
    "\n",
    "The following notebook analyses the results using helper code. First, let's define methods that will asist us further."
   ]
  },
  {
   "cell_type": "code",
   "execution_count": 92,
   "metadata": {},
   "outputs": [],
   "source": [
    "# Load the predicted and gold results\n",
    "\n",
    "def load(predicted, gold):\n",
    "    out = []\n",
    "    for file_name in [predicted, gold]:\n",
    "        with open(file_name, 'r') as f:\n",
    "            out.append(f.read().splitlines())\n",
    "    return out\n",
    "    \n",
    "predicted, gold = load('./output/predicted12j.txt', './data/heb-ctrees.joint')\n",
    "assert len(predicted) <= len(gold)"
   ]
  },
  {
   "cell_type": "code",
   "execution_count": 263,
   "metadata": {},
   "outputs": [],
   "source": [
    "# Load evalb output file to a dataframe\n",
    "from collections import defaultdict\n",
    "import pandas as pd\n",
    "\n",
    "def load_eval(file_name):\n",
    "    out = defaultdict(dict)\n",
    "    t_tags = ['index', '_', '_', '_', 'parent', 'tag']\n",
    "    nt_tags = ['index', '_', '_', '_', 'start', 'end', 'tag']\n",
    "    int_tags = ['index', 'start', 'end']\n",
    "    meta_tags = ['ID', 'Len.', 'Stat.', 'Recal', 'Prec.', 'Matched Bracket', 'Bracket gold', 'Bracket test', 'Cross Bracket', 'Words', 'Correct Tags', 'Tag Accracy']\n",
    "    with open(file_name, 'r') as f:\n",
    "        started = False\n",
    "\n",
    "        for line in f:\n",
    "            split = [word for word in line.strip().split(' ') if word]\n",
    "            if len(split) == 12:\n",
    "                try:\n",
    "                    _ = float(split[-2])  # Only meta lines have floats at [-2]\n",
    "                    line_num = int(split[0])\n",
    "                    out[line_num]['line'] = gold[line_num - 1]\n",
    "                    out[line_num]['meta'] = dict(zip(meta_tags, map(float, split)))\n",
    "                    continue\n",
    "                except ValueError:\n",
    "                    pass\n",
    "\n",
    "            if line == '============================================================================\\n':\n",
    "                if not started:\n",
    "                    started = True\n",
    "                else:\n",
    "                    return out  # ended\n",
    "            elif not started:\n",
    "                continue\n",
    "            else:\n",
    "                if len(split) == 12 or len(split) == 14:\n",
    "                    parsing_terminals = len(split) == 12\n",
    "                    keys = ['t-predicted', 't-gold'] if parsing_terminals else ['nt-predicted', 'nt-gold']\n",
    "                    tags = t_tags if parsing_terminals else nt_tags\n",
    "\n",
    "                    half = int(len(split) / 2)\n",
    "                    for i, place in enumerate(keys):\n",
    "                        out[line_num][place] = out[line_num].get(place, [])\n",
    "                        place_tags = dict(zip(tags, split[i * half:(i + 1) * half]))\n",
    "                        for t in int_tags:\n",
    "                            if t in place_tags:\n",
    "                                place_tags[t] = int(place_tags[t])\n",
    "                        out[line_num][place].append(place_tags)\n",
    "    return out\n",
    "\n",
    "evalb = load_eval('output/evalb-result12j.txt')\n",
    "\n",
    "data = [r['meta'] for r in evalb.values()]\n",
    "evalb_df = pd.DataFrame(data)"
   ]
  },
  {
   "cell_type": "code",
   "execution_count": 264,
   "metadata": {},
   "outputs": [
    {
     "data": {
      "text/plain": [
       "{'line': '(TOP (S (VP (VB KTWB)) (SBAR (yyCLN yyCLN) (S (yyQUOT yyQUOT) (S (PP (IN B) (NP (NN XWKMH))) (VP (VB EFH)) (PP (IN L) (NP (PRP ATH))) (NP (NN MLXMH))) (yyQUOT yyQUOT))) (yyDOT yyDOT)))',\n",
       " 'meta': {'ID': 1.0,\n",
       "  'Len.': 11.0,\n",
       "  'Stat.': 0.0,\n",
       "  'Recal': 100.0,\n",
       "  'Prec.': 100.0,\n",
       "  'Matched Bracket': 12.0,\n",
       "  'Bracket gold': 12.0,\n",
       "  'Bracket test': 12.0,\n",
       "  'Cross Bracket': 0.0,\n",
       "  'Words': 11.0,\n",
       "  'Correct Tags': 11.0,\n",
       "  'Tag Accracy': 100.0},\n",
       " 't-predicted': [{'index': 0, '_': ':', 'parent': 'VB', 'tag': 'KTWB'},\n",
       "  {'index': 1, '_': ':', 'parent': 'yyCLN', 'tag': 'yyCLN'},\n",
       "  {'index': 2, '_': ':', 'parent': 'yyQUOT', 'tag': 'yyQUOT'},\n",
       "  {'index': 3, '_': ':', 'parent': 'IN', 'tag': 'B'},\n",
       "  {'index': 4, '_': ':', 'parent': 'NN', 'tag': 'XWKMH'},\n",
       "  {'index': 5, '_': ':', 'parent': 'VB', 'tag': 'EFH'},\n",
       "  {'index': 6, '_': ':', 'parent': 'IN', 'tag': 'L'},\n",
       "  {'index': 7, '_': ':', 'parent': 'PRP', 'tag': 'ATH'},\n",
       "  {'index': 8, '_': ':', 'parent': 'NN', 'tag': 'MLXMH'},\n",
       "  {'index': 9, '_': ':', 'parent': 'yyQUOT', 'tag': 'yyQUOT'},\n",
       "  {'index': 10, '_': ':', 'parent': 'yyDOT', 'tag': 'yyDOT'}],\n",
       " 't-gold': [{'index': 0, '_': ':', 'parent': 'VB', 'tag': 'KTWB'},\n",
       "  {'index': 1, '_': ':', 'parent': 'yyCLN', 'tag': 'yyCLN'},\n",
       "  {'index': 2, '_': ':', 'parent': 'yyQUOT', 'tag': 'yyQUOT'},\n",
       "  {'index': 3, '_': ':', 'parent': 'IN', 'tag': 'B'},\n",
       "  {'index': 4, '_': ':', 'parent': 'NN', 'tag': 'XWKMH'},\n",
       "  {'index': 5, '_': ':', 'parent': 'VB', 'tag': 'EFH'},\n",
       "  {'index': 6, '_': ':', 'parent': 'IN', 'tag': 'L'},\n",
       "  {'index': 7, '_': ':', 'parent': 'PRP', 'tag': 'ATH'},\n",
       "  {'index': 8, '_': ':', 'parent': 'NN', 'tag': 'MLXMH'},\n",
       "  {'index': 9, '_': ':', 'parent': 'yyQUOT', 'tag': 'yyQUOT'},\n",
       "  {'index': 10, '_': ':', 'parent': 'yyDOT', 'tag': 'yyDOT'}],\n",
       " 'nt-predicted': [{'index': 0, '_': ':', 'start': 0, 'end': 11, 'tag': 'TOP'},\n",
       "  {'index': 1, '_': ':', 'start': 0, 'end': 11, 'tag': 'S'},\n",
       "  {'index': 2, '_': ':', 'start': 0, 'end': 1, 'tag': 'VP'},\n",
       "  {'index': 3, '_': ':', 'start': 1, 'end': 10, 'tag': 'SBAR'},\n",
       "  {'index': 4, '_': ':', 'start': 2, 'end': 10, 'tag': 'S'},\n",
       "  {'index': 5, '_': ':', 'start': 3, 'end': 9, 'tag': 'S'},\n",
       "  {'index': 6, '_': ':', 'start': 3, 'end': 5, 'tag': 'PP'},\n",
       "  {'index': 7, '_': ':', 'start': 4, 'end': 5, 'tag': 'NP'},\n",
       "  {'index': 8, '_': ':', 'start': 5, 'end': 6, 'tag': 'VP'},\n",
       "  {'index': 9, '_': ':', 'start': 6, 'end': 8, 'tag': 'PP'},\n",
       "  {'index': 10, '_': ':', 'start': 7, 'end': 8, 'tag': 'NP'},\n",
       "  {'index': 11, '_': ':', 'start': 8, 'end': 9, 'tag': 'NP'}],\n",
       " 'nt-gold': [{'index': 0, '_': ':', 'start': 0, 'end': 11, 'tag': 'TOP'},\n",
       "  {'index': 1, '_': ':', 'start': 0, 'end': 11, 'tag': 'S'},\n",
       "  {'index': 2, '_': ':', 'start': 0, 'end': 1, 'tag': 'VP'},\n",
       "  {'index': 3, '_': ':', 'start': 1, 'end': 10, 'tag': 'SBAR'},\n",
       "  {'index': 4, '_': ':', 'start': 2, 'end': 10, 'tag': 'S'},\n",
       "  {'index': 5, '_': ':', 'start': 3, 'end': 9, 'tag': 'S'},\n",
       "  {'index': 6, '_': ':', 'start': 3, 'end': 5, 'tag': 'PP'},\n",
       "  {'index': 7, '_': ':', 'start': 4, 'end': 5, 'tag': 'NP'},\n",
       "  {'index': 8, '_': ':', 'start': 5, 'end': 6, 'tag': 'VP'},\n",
       "  {'index': 9, '_': ':', 'start': 6, 'end': 8, 'tag': 'PP'},\n",
       "  {'index': 10, '_': ':', 'start': 7, 'end': 8, 'tag': 'NP'},\n",
       "  {'index': 11, '_': ':', 'start': 8, 'end': 9, 'tag': 'NP'}]}"
      ]
     },
     "execution_count": 264,
     "metadata": {},
     "output_type": "execute_result"
    }
   ],
   "source": [
    "evalb[1]"
   ]
  },
  {
   "cell_type": "markdown",
   "metadata": {},
   "source": [
    "For starters, we notice the obvious. There's a negative correlation between the __length__ of the sentence and the Precision/Recall metrics."
   ]
  },
  {
   "cell_type": "code",
   "execution_count": 94,
   "metadata": {},
   "outputs": [
    {
     "data": {
      "text/plain": [
       "Prec.   -0.101653\n",
       "Recal   -0.107417\n",
       "Name: Len., dtype: float64"
      ]
     },
     "execution_count": 94,
     "metadata": {},
     "output_type": "execute_result"
    }
   ],
   "source": [
    "evalb_df.corr()['Len.'].loc[['Prec.', 'Recal']]"
   ]
  },
  {
   "cell_type": "markdown",
   "metadata": {},
   "source": [
    "But, suprsingly, the correlation isn't that low, and there's no negative correlation between the __length__ of the sentence and the tag accuracy."
   ]
  },
  {
   "cell_type": "code",
   "execution_count": 95,
   "metadata": {},
   "outputs": [
    {
     "data": {
      "text/plain": [
       "Tag Accracy    0.186249\n",
       "Name: Len., dtype: float64"
      ]
     },
     "execution_count": 95,
     "metadata": {},
     "output_type": "execute_result"
    }
   ],
   "source": [
    "evalb_df.corr()['Len.'].loc[['Tag Accracy']]"
   ]
  },
  {
   "cell_type": "markdown",
   "metadata": {},
   "source": [
    "Now, we move deeper to analyze our __PCFG__ model internals.\n",
    "\n",
    "Some helper method below:"
   ]
  },
  {
   "cell_type": "code",
   "execution_count": 96,
   "metadata": {},
   "outputs": [],
   "source": [
    "# Load the trained model\n",
    "import dill\n",
    "pickle_file = \"./pcfg.p\"\n",
    "with open(pickle_file, \"rb\") as f:\n",
    "    pcfg = dill.load(f)"
   ]
  },
  {
   "cell_type": "code",
   "execution_count": 218,
   "metadata": {},
   "outputs": [],
   "source": [
    "# Display helper methods\n",
    "import svgling, svgling.html, svgling.figure\n",
    "from svgling.figure import SideBySide, RowByRow, Caption\n",
    "from svgling.core import VertAlign\n",
    "import json\n",
    "import re\n",
    "from util.transliteration import to_heb, _trans_symbols\n",
    "from IPython.core.display import display, HTML\n",
    "\n",
    "def translate(word):\n",
    "    if word in _trans_symbols:\n",
    "        ret = to_heb(word)\n",
    "        if ret=='\"':\n",
    "            return \"\\\\\\\"\"\n",
    "        return ret\n",
    "    else:\n",
    "        return word.lower()+\"\\\\n\"+\"\".join(map(to_heb, word)).replace('\"', \"\\\\\\\"\")\n",
    "\n",
    "def translate_replace(word):\n",
    "    return word.group(1) + translate(word.group(2)) +  word.group(3)\n",
    "\n",
    "def to_graph(line):\n",
    "    formatted = line.replace(\"(\",\"[\").replace(\")\",\"]\")\n",
    "    formatted = re.sub(r'([a-zA-Z]+)', r'\"\\1\"',formatted)\n",
    "    formatted = re.sub(r'(\\s\\\")([a-zA-Z]+)(\\\"\\])', translate_replace, formatted)\n",
    "    formatted = re.sub(r'\\s', r',',formatted)\n",
    "    graph = json.loads(formatted)\n",
    "    return graph\n",
    "\n",
    "def html(text, tag):\n",
    "    display(HTML(f'<{tag}>{text}</{tag}>'))\n",
    "\n",
    "def h1(text):\n",
    "    html(text, 'h1')\n",
    "\n",
    "def h2(text):\n",
    "    html(text, 'h2')\n",
    "    \n",
    "def h3(text):\n",
    "    html(text, 'h3')\n",
    "    \n",
    "def describe(line_num, p_boxes=None, g_boxes=None):\n",
    "    meta = evalb[line_num]['meta']\n",
    "    h2(f'Line {line_num}')\n",
    "    \n",
    "    pred_graph = svgling.draw_tree(to_graph(predicted[line_num-1]), distance_to_daughter=0.2, leaf_nodes_align=True)\n",
    "    gold_graph = svgling.draw_tree(to_graph(gold[line_num-1]), distance_to_daughter=0.2, leaf_nodes_align=True)\n",
    "    \n",
    "    for b in p_boxes or []:\n",
    "        pred_graph.box_constituent(b)\n",
    "    for b in g_boxes or []:\n",
    "        gold_graph.box_constituent(b)\n",
    "    \n",
    "    printer = SideBySide if meta['Len.']<9 else RowByRow\n",
    "    display(printer(pred_graph,gold_graph))"
   ]
  },
  {
   "cell_type": "code",
   "execution_count": 219,
   "metadata": {},
   "outputs": [],
   "source": [
    "# PCFG model inspection method\n",
    "\n",
    "known_words = set(pcfg.reverse_rules['T'].keys())\n",
    "\n",
    "def to_leafs(line): # return the leafs of a bracket notated line\n",
    "    return re.findall(r'([\\w]+)\\)', line)\n",
    "        \n",
    "def get_parent_to_child(parent, child, child_side):\n",
    "    index = 0 if child_side=='left' else 1\n",
    "    parent_to_child = dict((t,prob) for t, prob in pcfg.rules[parent][pcfg.NON_TERMINAL_RULES].items() \n",
    "                           if (len(t)==2 and t[index]==child) or (len(t)==1 and t[0]==child))\n",
    "    return sorted(parent_to_child.items(), key=lambda t:-t[1])\n",
    "\n",
    "def get_possible_terminal_tags(terminal):\n",
    "    return pcfg.reverse_rules['T'].get(terminal.upper(), [])\n",
    "\n",
    "def get_unknown_score(terminal):\n",
    "    unknowns = sorted(pcfg.unknown_rules, key=lambda k: -pcfg.unknown_rules[k]) \n",
    "    return unknowns.index(terminal)"
   ]
  },
  {
   "cell_type": "markdown",
   "metadata": {},
   "source": [
    "## Now, let's examin some mistakes:"
   ]
  },
  {
   "cell_type": "markdown",
   "metadata": {},
   "source": [
    "As we can see in the example below, the marked tokens got the wrong tag, and consequently changed the sentence tree.\n",
    "\n",
    "This happened as __שיחי__ appeared in the train set only as MNT, which meant __the bushes of__, in a totally different meanining than in the parsed sentence.\n",
    "\n",
    "This use case shows the CKY may fail to parse sentence with __tokens that have several meanings__, but only appeared with one in the traning."
   ]
  },
  {
   "cell_type": "code",
   "execution_count": 220,
   "metadata": {},
   "outputs": [
    {
     "data": {
      "text/html": [
       "<h2>Line 11</h2>"
      ],
      "text/plain": [
       "<IPython.core.display.HTML object>"
      ]
     },
     "metadata": {},
     "output_type": "display_data"
    },
    {
     "data": {
      "image/svg+xml": [
       "<svg baseProfile=\"full\" height=\"174.4px\" preserveAspectRatio=\"xMidYMid meet\" version=\"1.1\" viewBox=\"0,0,856.0,174.4\" width=\"856px\" xmlns=\"http://www.w3.org/2000/svg\" xmlns:ev=\"http://www.w3.org/2001/xml-events\" xmlns:xlink=\"http://www.w3.org/1999/xlink\"><defs /><svg height=\"174.4\" width=\"408.0\" x=\"16\" y=\"0\"><defs /><svg baseProfile=\"full\" height=\"174.4px\" preserveAspectRatio=\"xMidYMid meet\" style=\"font-family: times, serif; font-weight:normal; font-style: normal; font-size: 16px;\" version=\"1.1\" viewBox=\"0,0,408.0,174.4\" width=\"408px\" xmlns=\"http://www.w3.org/2000/svg\" xmlns:ev=\"http://www.w3.org/2001/xml-events\" xmlns:xlink=\"http://www.w3.org/1999/xlink\"><defs /><svg width=\"100%\" x=\"0\" y=\"0em\"><defs /><text text-anchor=\"middle\" x=\"50%\" y=\"1em\">TOP</text></svg><svg width=\"100%\" x=\"0%\" y=\"1.2em\"><defs /><svg width=\"100%\" x=\"0\" y=\"0em\"><defs /><text text-anchor=\"middle\" x=\"50%\" y=\"1em\">S</text></svg><svg width=\"19.6078%\" x=\"0%\" y=\"1.2em\"><defs /><svg width=\"100%\" x=\"0\" y=\"0em\"><defs /><text text-anchor=\"middle\" x=\"50%\" y=\"1em\">VP</text></svg><svg width=\"100%\" x=\"0%\" y=\"1.2em\"><defs /><svg width=\"100%\" x=\"0\" y=\"0em\"><defs /><text text-anchor=\"middle\" x=\"50%\" y=\"1em\">VB</text></svg><svg width=\"100%\" x=\"0%\" y=\"4.8em\"><defs /><svg width=\"100%\" x=\"0\" y=\"0em\"><defs /><text text-anchor=\"middle\" x=\"50%\" y=\"1em\">htbwnnti</text><text text-anchor=\"middle\" x=\"50%\" y=\"2em\">התבוננתי</text></svg></svg><line stroke=\"black\" x1=\"50%\" x2=\"50%\" y1=\"1.2em\" y2=\"4.8em\" /></svg><line stroke=\"black\" x1=\"50%\" x2=\"50%\" y1=\"1.2em\" y2=\"1.2em\" /></svg><line stroke=\"black\" x1=\"50%\" x2=\"9.80392%\" y1=\"1.2em\" y2=\"1.2em\" /><svg width=\"39.2157%\" x=\"19.6078%\" y=\"1.2em\"><defs /><svg width=\"100%\" x=\"0\" y=\"0em\"><defs /><text text-anchor=\"middle\" x=\"50%\" y=\"1em\">PP</text></svg><svg width=\"20%\" x=\"0%\" y=\"1.2em\"><defs /><svg width=\"100%\" x=\"0\" y=\"0em\"><defs /><text text-anchor=\"middle\" x=\"50%\" y=\"1em\">IN</text></svg><svg width=\"100%\" x=\"0%\" y=\"4.8em\"><defs /><svg width=\"100%\" x=\"0\" y=\"0em\"><defs /><text text-anchor=\"middle\" x=\"50%\" y=\"1em\">b</text><text text-anchor=\"middle\" x=\"50%\" y=\"2em\">ב</text></svg></svg><line stroke=\"black\" x1=\"50%\" x2=\"50%\" y1=\"1.2em\" y2=\"4.8em\" /></svg><line stroke=\"black\" x1=\"50%\" x2=\"10%\" y1=\"1.2em\" y2=\"1.2em\" /><svg width=\"80%\" x=\"20%\" y=\"1.2em\"><defs /><svg width=\"100%\" x=\"0\" y=\"0em\"><defs /><text text-anchor=\"middle\" x=\"50%\" y=\"1em\">NP</text></svg><svg width=\"31.25%\" x=\"0%\" y=\"1.2em\"><defs /><svg width=\"100%\" x=\"0\" y=\"0em\"><defs /><text text-anchor=\"middle\" x=\"50%\" y=\"1em\">NNT</text></svg><svg width=\"100%\" x=\"0%\" y=\"3.6em\"><defs /><svg width=\"100%\" x=\"0\" y=\"0em\"><defs /><text text-anchor=\"middle\" x=\"50%\" y=\"1em\">bn</text><text text-anchor=\"middle\" x=\"50%\" y=\"2em\">בנ</text></svg></svg><line stroke=\"black\" x1=\"50%\" x2=\"50%\" y1=\"1.2em\" y2=\"3.6em\" /></svg><line stroke=\"black\" x1=\"50%\" x2=\"15.625%\" y1=\"1.2em\" y2=\"1.2em\" /><svg width=\"68.75%\" x=\"31.25%\" y=\"1.2em\"><defs /><svg width=\"100%\" x=\"0\" y=\"0em\"><defs /><text text-anchor=\"middle\" x=\"50%\" y=\"1em\">NP</text></svg><svg width=\"54.5455%\" x=\"0%\" y=\"1.2em\"><defs /><svg width=\"100%\" x=\"0\" y=\"0em\"><defs /><text text-anchor=\"middle\" x=\"50%\" y=\"1em\">NNT</text></svg><svg width=\"100%\" x=\"0%\" y=\"2.4em\"><defs /><svg width=\"100%\" x=\"0\" y=\"0em\"><defs /><text text-anchor=\"middle\" x=\"50%\" y=\"1em\">fixi</text><text text-anchor=\"middle\" x=\"50%\" y=\"2em\">שיחי</text></svg></svg><line stroke=\"black\" x1=\"50%\" x2=\"50%\" y1=\"1.2em\" y2=\"2.4em\" /></svg><line stroke=\"black\" x1=\"50%\" x2=\"27.2727%\" y1=\"1.2em\" y2=\"1.2em\" /><svg width=\"45.4545%\" x=\"54.5455%\" y=\"1.2em\"><defs /><svg width=\"100%\" x=\"0\" y=\"0em\"><defs /><text text-anchor=\"middle\" x=\"50%\" y=\"1em\">NP</text></svg><svg width=\"100%\" x=\"0%\" y=\"1.2em\"><defs /><svg width=\"100%\" x=\"0\" y=\"0em\"><defs /><text text-anchor=\"middle\" x=\"50%\" y=\"1em\">NNP</text></svg><svg width=\"100%\" x=\"0%\" y=\"1.2em\"><defs /><svg width=\"100%\" x=\"0\" y=\"0em\"><defs /><text text-anchor=\"middle\" x=\"50%\" y=\"1em\">b</text><text text-anchor=\"middle\" x=\"50%\" y=\"2em\">ב</text></svg></svg><line stroke=\"black\" x1=\"50%\" x2=\"50%\" y1=\"1.2em\" y2=\"1.2em\" /></svg><line stroke=\"black\" x1=\"50%\" x2=\"50%\" y1=\"1.2em\" y2=\"1.2em\" /></svg><line stroke=\"black\" x1=\"50%\" x2=\"77.2727%\" y1=\"1.2em\" y2=\"1.2em\" /></svg><line stroke=\"black\" x1=\"50%\" x2=\"65.625%\" y1=\"1.2em\" y2=\"1.2em\" /></svg><line stroke=\"black\" x1=\"50%\" x2=\"60%\" y1=\"1.2em\" y2=\"1.2em\" /></svg><line stroke=\"black\" x1=\"50%\" x2=\"39.2157%\" y1=\"1.2em\" y2=\"1.2em\" /><svg width=\"27.451%\" x=\"58.8235%\" y=\"1.2em\"><defs /><svg width=\"100%\" x=\"0\" y=\"0em\"><defs /><text text-anchor=\"middle\" x=\"50%\" y=\"1em\">NP</text></svg><svg width=\"50%\" x=\"0%\" y=\"1.2em\"><defs /><svg width=\"100%\" x=\"0\" y=\"0em\"><defs /><text text-anchor=\"middle\" x=\"50%\" y=\"1em\">NP</text></svg><svg width=\"100%\" x=\"0%\" y=\"1.2em\"><defs /><svg width=\"100%\" x=\"0\" y=\"0em\"><defs /><text text-anchor=\"middle\" x=\"50%\" y=\"1em\">NN</text></svg><svg width=\"100%\" x=\"0%\" y=\"3.6em\"><defs /><svg width=\"100%\" x=\"0\" y=\"0em\"><defs /><text text-anchor=\"middle\" x=\"50%\" y=\"1em\">hpteh</text><text text-anchor=\"middle\" x=\"50%\" y=\"2em\">הפתעה</text></svg></svg><line stroke=\"black\" x1=\"50%\" x2=\"50%\" y1=\"1.2em\" y2=\"3.6em\" /></svg><line stroke=\"black\" x1=\"50%\" x2=\"50%\" y1=\"1.2em\" y2=\"1.2em\" /></svg><line stroke=\"black\" x1=\"50%\" x2=\"25%\" y1=\"1.2em\" y2=\"1.2em\" /><svg width=\"50%\" x=\"50%\" y=\"1.2em\"><defs /><svg width=\"100%\" x=\"0\" y=\"0em\"><defs /><text text-anchor=\"middle\" x=\"50%\" y=\"1em\">ADJP</text></svg><svg width=\"100%\" x=\"0%\" y=\"1.2em\"><defs /><svg width=\"100%\" x=\"0\" y=\"0em\"><defs /><text text-anchor=\"middle\" x=\"50%\" y=\"1em\">JJ</text></svg><svg width=\"100%\" x=\"0%\" y=\"3.6em\"><defs /><svg width=\"100%\" x=\"0\" y=\"0em\"><defs /><text text-anchor=\"middle\" x=\"50%\" y=\"1em\">nikrt</text><text text-anchor=\"middle\" x=\"50%\" y=\"2em\">ניכרת</text></svg></svg><line stroke=\"black\" x1=\"50%\" x2=\"50%\" y1=\"1.2em\" y2=\"3.6em\" /></svg><line stroke=\"black\" x1=\"50%\" x2=\"50%\" y1=\"1.2em\" y2=\"1.2em\" /></svg><line stroke=\"black\" x1=\"50%\" x2=\"75%\" y1=\"1.2em\" y2=\"1.2em\" /></svg><line stroke=\"black\" x1=\"50%\" x2=\"72.549%\" y1=\"1.2em\" y2=\"1.2em\" /><svg width=\"13.7255%\" x=\"86.2745%\" y=\"1.2em\"><defs /><svg width=\"100%\" x=\"0\" y=\"0em\"><defs /><text text-anchor=\"middle\" x=\"50%\" y=\"1em\">yyDOT</text></svg><svg width=\"100%\" x=\"0%\" y=\"6em\"><defs /><svg width=\"100%\" x=\"0\" y=\"0.5em\"><defs /><text text-anchor=\"middle\" x=\"50%\" y=\"1em\">.</text></svg></svg><line stroke=\"black\" x1=\"50%\" x2=\"50%\" y1=\"1.2em\" y2=\"6.5em\" /></svg><line stroke=\"black\" x1=\"50%\" x2=\"93.1373%\" y1=\"1.2em\" y2=\"1.2em\" /></svg><line stroke=\"black\" x1=\"50%\" x2=\"50%\" y1=\"1.2em\" y2=\"1.2em\" /><rect fill=\"gray\" fill-opacity=\"0.15\" height=\"6.1em\" rx=\"8\" ry=\"8\" stroke=\"none\" stroke-width=\"1\" width=\"21.5686%\" x=\"37.2549%\" y=\"4.8em\" /><rect fill=\"gray\" fill-opacity=\"0.15\" height=\"6.1em\" rx=\"8\" ry=\"8\" stroke=\"none\" stroke-width=\"1\" width=\"21.5686%\" x=\"37.2549%\" y=\"4.8em\" /></svg></svg><svg height=\"155.2\" width=\"400.0\" x=\"440.0\" y=\"0\"><defs /><svg baseProfile=\"full\" height=\"155.2px\" preserveAspectRatio=\"xMidYMid meet\" style=\"font-family: times, serif; font-weight:normal; font-style: normal; font-size: 16px;\" version=\"1.1\" viewBox=\"0,0,400.0,155.2\" width=\"400px\" xmlns=\"http://www.w3.org/2000/svg\" xmlns:ev=\"http://www.w3.org/2001/xml-events\" xmlns:xlink=\"http://www.w3.org/1999/xlink\"><defs /><svg width=\"100%\" x=\"0\" y=\"0em\"><defs /><text text-anchor=\"middle\" x=\"50%\" y=\"1em\">TOP</text></svg><svg width=\"100%\" x=\"0%\" y=\"1.2em\"><defs /><svg width=\"100%\" x=\"0\" y=\"0em\"><defs /><text text-anchor=\"middle\" x=\"50%\" y=\"1em\">S</text></svg><svg width=\"20%\" x=\"0%\" y=\"1.2em\"><defs /><svg width=\"100%\" x=\"0\" y=\"0em\"><defs /><text text-anchor=\"middle\" x=\"50%\" y=\"1em\">VP</text></svg><svg width=\"100%\" x=\"0%\" y=\"1.2em\"><defs /><svg width=\"100%\" x=\"0\" y=\"0em\"><defs /><text text-anchor=\"middle\" x=\"50%\" y=\"1em\">VB</text></svg><svg width=\"100%\" x=\"0%\" y=\"3.6em\"><defs /><svg width=\"100%\" x=\"0\" y=\"0em\"><defs /><text text-anchor=\"middle\" x=\"50%\" y=\"1em\">htbwnnti</text><text text-anchor=\"middle\" x=\"50%\" y=\"2em\">התבוננתי</text></svg></svg><line stroke=\"black\" x1=\"50%\" x2=\"50%\" y1=\"1.2em\" y2=\"3.6em\" /></svg><line stroke=\"black\" x1=\"50%\" x2=\"50%\" y1=\"1.2em\" y2=\"1.2em\" /></svg><line stroke=\"black\" x1=\"50%\" x2=\"10%\" y1=\"1.2em\" y2=\"1.2em\" /><svg width=\"30%\" x=\"20%\" y=\"1.2em\"><defs /><svg width=\"100%\" x=\"0\" y=\"0em\"><defs /><text text-anchor=\"middle\" x=\"50%\" y=\"1em\">PP</text></svg><svg width=\"26.6667%\" x=\"0%\" y=\"1.2em\"><defs /><svg width=\"100%\" x=\"0\" y=\"0em\"><defs /><text text-anchor=\"middle\" x=\"50%\" y=\"1em\">IN</text></svg><svg width=\"100%\" x=\"0%\" y=\"3.6em\"><defs /><svg width=\"100%\" x=\"0\" y=\"0em\"><defs /><text text-anchor=\"middle\" x=\"50%\" y=\"1em\">b</text><text text-anchor=\"middle\" x=\"50%\" y=\"2em\">ב</text></svg></svg><line stroke=\"black\" x1=\"50%\" x2=\"50%\" y1=\"1.2em\" y2=\"3.6em\" /></svg><line stroke=\"black\" x1=\"50%\" x2=\"13.3333%\" y1=\"1.2em\" y2=\"1.2em\" /><svg width=\"73.3333%\" x=\"26.6667%\" y=\"1.2em\"><defs /><svg width=\"100%\" x=\"0\" y=\"0em\"><defs /><text text-anchor=\"middle\" x=\"50%\" y=\"1em\">NP</text></svg><svg width=\"45.4545%\" x=\"0%\" y=\"1.2em\"><defs /><svg width=\"100%\" x=\"0\" y=\"0em\"><defs /><text text-anchor=\"middle\" x=\"50%\" y=\"1em\">NNT</text></svg><svg width=\"100%\" x=\"0%\" y=\"2.4em\"><defs /><svg width=\"100%\" x=\"0\" y=\"0em\"><defs /><text text-anchor=\"middle\" x=\"50%\" y=\"1em\">bn</text><text text-anchor=\"middle\" x=\"50%\" y=\"2em\">בנ</text></svg></svg><line stroke=\"black\" x1=\"50%\" x2=\"50%\" y1=\"1.2em\" y2=\"2.4em\" /></svg><line stroke=\"black\" x1=\"50%\" x2=\"22.7273%\" y1=\"1.2em\" y2=\"1.2em\" /><svg width=\"54.5455%\" x=\"45.4545%\" y=\"1.2em\"><defs /><svg width=\"100%\" x=\"0\" y=\"0em\"><defs /><text text-anchor=\"middle\" x=\"50%\" y=\"1em\">NP</text></svg><svg width=\"100%\" x=\"0%\" y=\"1.2em\"><defs /><svg width=\"100%\" x=\"0\" y=\"0em\"><defs /><text text-anchor=\"middle\" x=\"50%\" y=\"1em\">NN</text></svg><svg width=\"100%\" x=\"0%\" y=\"1.2em\"><defs /><svg width=\"100%\" x=\"0\" y=\"0em\"><defs /><text text-anchor=\"middle\" x=\"50%\" y=\"1em\">fixi</text><text text-anchor=\"middle\" x=\"50%\" y=\"2em\">שיחי</text></svg></svg><line stroke=\"black\" x1=\"50%\" x2=\"50%\" y1=\"1.2em\" y2=\"1.2em\" /></svg><line stroke=\"black\" x1=\"50%\" x2=\"50%\" y1=\"1.2em\" y2=\"1.2em\" /></svg><line stroke=\"black\" x1=\"50%\" x2=\"72.7273%\" y1=\"1.2em\" y2=\"1.2em\" /></svg><line stroke=\"black\" x1=\"50%\" x2=\"63.3333%\" y1=\"1.2em\" y2=\"1.2em\" /></svg><line stroke=\"black\" x1=\"50%\" x2=\"35%\" y1=\"1.2em\" y2=\"1.2em\" /><svg width=\"36%\" x=\"50%\" y=\"1.2em\"><defs /><svg width=\"100%\" x=\"0\" y=\"0em\"><defs /><text text-anchor=\"middle\" x=\"50%\" y=\"1em\">PP</text></svg><svg width=\"22.2222%\" x=\"0%\" y=\"1.2em\"><defs /><svg width=\"100%\" x=\"0\" y=\"0em\"><defs /><text text-anchor=\"middle\" x=\"50%\" y=\"1em\">IN</text></svg><svg width=\"100%\" x=\"0%\" y=\"3.6em\"><defs /><svg width=\"100%\" x=\"0\" y=\"0em\"><defs /><text text-anchor=\"middle\" x=\"50%\" y=\"1em\">b</text><text text-anchor=\"middle\" x=\"50%\" y=\"2em\">ב</text></svg></svg><line stroke=\"black\" x1=\"50%\" x2=\"50%\" y1=\"1.2em\" y2=\"3.6em\" /></svg><line stroke=\"black\" x1=\"50%\" x2=\"11.1111%\" y1=\"1.2em\" y2=\"1.2em\" /><svg width=\"77.7778%\" x=\"22.2222%\" y=\"1.2em\"><defs /><svg width=\"100%\" x=\"0\" y=\"0em\"><defs /><text text-anchor=\"middle\" x=\"50%\" y=\"1em\">NP</text></svg><svg width=\"50%\" x=\"0%\" y=\"1.2em\"><defs /><svg width=\"100%\" x=\"0\" y=\"0em\"><defs /><text text-anchor=\"middle\" x=\"50%\" y=\"1em\">NP</text></svg><svg width=\"100%\" x=\"0%\" y=\"1.2em\"><defs /><svg width=\"100%\" x=\"0\" y=\"0em\"><defs /><text text-anchor=\"middle\" x=\"50%\" y=\"1em\">NN</text></svg><svg width=\"100%\" x=\"0%\" y=\"1.2em\"><defs /><svg width=\"100%\" x=\"0\" y=\"0em\"><defs /><text text-anchor=\"middle\" x=\"50%\" y=\"1em\">hpteh</text><text text-anchor=\"middle\" x=\"50%\" y=\"2em\">הפתעה</text></svg></svg><line stroke=\"black\" x1=\"50%\" x2=\"50%\" y1=\"1.2em\" y2=\"1.2em\" /></svg><line stroke=\"black\" x1=\"50%\" x2=\"50%\" y1=\"1.2em\" y2=\"1.2em\" /></svg><line stroke=\"black\" x1=\"50%\" x2=\"25%\" y1=\"1.2em\" y2=\"1.2em\" /><svg width=\"50%\" x=\"50%\" y=\"1.2em\"><defs /><svg width=\"100%\" x=\"0\" y=\"0em\"><defs /><text text-anchor=\"middle\" x=\"50%\" y=\"1em\">ADJP</text></svg><svg width=\"100%\" x=\"0%\" y=\"1.2em\"><defs /><svg width=\"100%\" x=\"0\" y=\"0em\"><defs /><text text-anchor=\"middle\" x=\"50%\" y=\"1em\">JJ</text></svg><svg width=\"100%\" x=\"0%\" y=\"1.2em\"><defs /><svg width=\"100%\" x=\"0\" y=\"0em\"><defs /><text text-anchor=\"middle\" x=\"50%\" y=\"1em\">nikrt</text><text text-anchor=\"middle\" x=\"50%\" y=\"2em\">ניכרת</text></svg></svg><line stroke=\"black\" x1=\"50%\" x2=\"50%\" y1=\"1.2em\" y2=\"1.2em\" /></svg><line stroke=\"black\" x1=\"50%\" x2=\"50%\" y1=\"1.2em\" y2=\"1.2em\" /></svg><line stroke=\"black\" x1=\"50%\" x2=\"75%\" y1=\"1.2em\" y2=\"1.2em\" /></svg><line stroke=\"black\" x1=\"50%\" x2=\"61.1111%\" y1=\"1.2em\" y2=\"1.2em\" /></svg><line stroke=\"black\" x1=\"50%\" x2=\"68%\" y1=\"1.2em\" y2=\"1.2em\" /><svg width=\"14%\" x=\"86%\" y=\"1.2em\"><defs /><svg width=\"100%\" x=\"0\" y=\"0em\"><defs /><text text-anchor=\"middle\" x=\"50%\" y=\"1em\">yyDOT</text></svg><svg width=\"100%\" x=\"0%\" y=\"4.8em\"><defs /><svg width=\"100%\" x=\"0\" y=\"0.5em\"><defs /><text text-anchor=\"middle\" x=\"50%\" y=\"1em\">.</text></svg></svg><line stroke=\"black\" x1=\"50%\" x2=\"50%\" y1=\"1.2em\" y2=\"5.3em\" /></svg><line stroke=\"black\" x1=\"50%\" x2=\"93%\" y1=\"1.2em\" y2=\"1.2em\" /></svg><line stroke=\"black\" x1=\"50%\" x2=\"50%\" y1=\"1.2em\" y2=\"1.2em\" /><rect fill=\"gray\" fill-opacity=\"0.15\" height=\"4.9em\" rx=\"8\" ry=\"8\" stroke=\"none\" stroke-width=\"1\" width=\"12%\" x=\"38%\" y=\"4.8em\" /><rect fill=\"gray\" fill-opacity=\"0.15\" height=\"6.1em\" rx=\"8\" ry=\"8\" stroke=\"none\" stroke-width=\"1\" width=\"8%\" x=\"50%\" y=\"3.6em\" /><rect fill=\"gray\" fill-opacity=\"0.15\" height=\"4.9em\" rx=\"8\" ry=\"8\" stroke=\"none\" stroke-width=\"1\" width=\"12%\" x=\"38%\" y=\"4.8em\" /><rect fill=\"gray\" fill-opacity=\"0.15\" height=\"6.1em\" rx=\"8\" ry=\"8\" stroke=\"none\" stroke-width=\"1\" width=\"8%\" x=\"50%\" y=\"3.6em\" /></svg></svg></svg>"
      ],
      "text/plain": [
       "<svgling.figure.SideBySide at 0x17d5df47e48>"
      ]
     },
     "metadata": {},
     "output_type": "display_data"
    },
    {
     "data": {
      "text/html": [
       "<h3>שיחי parents in train set: NNT</h3>"
      ],
      "text/plain": [
       "<IPython.core.display.HTML object>"
      ]
     },
     "metadata": {},
     "output_type": "display_data"
    }
   ],
   "source": [
    "describe(11, [(0,1,1,1)], [(0,1,1,1), (0,2,0)])\n",
    "token_parents = \", \".join([t[0] for t in get_possible_terminal_tags('FIXI')])\n",
    "h3(f\"שיחי parents in train set: {token_parents}\")"
   ]
  },
  {
   "cell_type": "markdown",
   "metadata": {},
   "source": [
    "---\n",
    "As we can see below, the mistake here is marking __איזה__ as DT instead of WDT (question determiner)\n",
    "\n",
    "We can see that איזה was indeed learnt to be a WDT in most cases, but NP is much more likely to be a parent of __DT X__ than a __WDT X__.\n",
    "\n",
    "This use case shows the CKY may fail to parse less common sentence forms, like __questions__."
   ]
  },
  {
   "cell_type": "code",
   "execution_count": 221,
   "metadata": {},
   "outputs": [
    {
     "data": {
      "text/html": [
       "<h2>Line 5</h2>"
      ],
      "text/plain": [
       "<IPython.core.display.HTML object>"
      ]
     },
     "metadata": {},
     "output_type": "display_data"
    },
    {
     "data": {
      "image/svg+xml": [
       "<svg baseProfile=\"full\" height=\"136px\" preserveAspectRatio=\"xMidYMid meet\" version=\"1.1\" viewBox=\"0,0,368.0,136.0\" width=\"368px\" xmlns=\"http://www.w3.org/2000/svg\" xmlns:ev=\"http://www.w3.org/2001/xml-events\" xmlns:xlink=\"http://www.w3.org/1999/xlink\"><defs /><svg height=\"136.0\" width=\"160.0\" x=\"16\" y=\"0\"><defs /><svg baseProfile=\"full\" height=\"136px\" preserveAspectRatio=\"xMidYMid meet\" style=\"font-family: times, serif; font-weight:normal; font-style: normal; font-size: 16px;\" version=\"1.1\" viewBox=\"0,0,160.0,136.0\" width=\"160px\" xmlns=\"http://www.w3.org/2000/svg\" xmlns:ev=\"http://www.w3.org/2001/xml-events\" xmlns:xlink=\"http://www.w3.org/1999/xlink\"><defs /><svg width=\"100%\" x=\"0\" y=\"0em\"><defs /><text text-anchor=\"middle\" x=\"50%\" y=\"1em\">TOP</text></svg><svg width=\"100%\" x=\"0%\" y=\"1.2em\"><defs /><svg width=\"100%\" x=\"0\" y=\"0em\"><defs /><text text-anchor=\"middle\" x=\"50%\" y=\"1em\">FRAGQ</text></svg><svg width=\"70%\" x=\"0%\" y=\"1.2em\"><defs /><svg width=\"100%\" x=\"0\" y=\"0em\"><defs /><text text-anchor=\"middle\" x=\"50%\" y=\"1em\">NP</text></svg><svg width=\"42.8571%\" x=\"0%\" y=\"1.2em\"><defs /><svg width=\"100%\" x=\"0\" y=\"0em\"><defs /><text text-anchor=\"middle\" x=\"50%\" y=\"1em\">DT</text></svg><svg width=\"100%\" x=\"0%\" y=\"2.4em\"><defs /><svg width=\"100%\" x=\"0\" y=\"0em\"><defs /><text text-anchor=\"middle\" x=\"50%\" y=\"1em\">aizh</text><text text-anchor=\"middle\" x=\"50%\" y=\"2em\">איזה</text></svg></svg><line stroke=\"black\" x1=\"50%\" x2=\"50%\" y1=\"1.2em\" y2=\"2.4em\" /></svg><line stroke=\"black\" x1=\"50%\" x2=\"21.4286%\" y1=\"1.2em\" y2=\"1.2em\" /><svg width=\"57.1429%\" x=\"42.8571%\" y=\"1.2em\"><defs /><svg width=\"100%\" x=\"0\" y=\"0em\"><defs /><text text-anchor=\"middle\" x=\"50%\" y=\"1em\">NP</text></svg><svg width=\"100%\" x=\"0%\" y=\"1.2em\"><defs /><svg width=\"100%\" x=\"0\" y=\"0em\"><defs /><text text-anchor=\"middle\" x=\"50%\" y=\"1em\">NN</text></svg><svg width=\"100%\" x=\"0%\" y=\"1.2em\"><defs /><svg width=\"100%\" x=\"0\" y=\"0em\"><defs /><text text-anchor=\"middle\" x=\"50%\" y=\"1em\">pcweim</text><text text-anchor=\"middle\" x=\"50%\" y=\"2em\">פצועימ</text></svg></svg><line stroke=\"black\" x1=\"50%\" x2=\"50%\" y1=\"1.2em\" y2=\"1.2em\" /></svg><line stroke=\"black\" x1=\"50%\" x2=\"50%\" y1=\"1.2em\" y2=\"1.2em\" /></svg><line stroke=\"black\" x1=\"50%\" x2=\"71.4286%\" y1=\"1.2em\" y2=\"1.2em\" /></svg><line stroke=\"black\" x1=\"50%\" x2=\"35%\" y1=\"1.2em\" y2=\"1.2em\" /><svg width=\"30%\" x=\"70%\" y=\"1.2em\"><defs /><svg width=\"100%\" x=\"0\" y=\"0em\"><defs /><text text-anchor=\"middle\" x=\"50%\" y=\"1em\">yyQM</text></svg><svg width=\"100%\" x=\"0%\" y=\"3.6em\"><defs /><svg width=\"100%\" x=\"0\" y=\"0.5em\"><defs /><text text-anchor=\"middle\" x=\"50%\" y=\"1em\">?</text></svg></svg><line stroke=\"black\" x1=\"50%\" x2=\"50%\" y1=\"1.2em\" y2=\"4.1em\" /></svg><line stroke=\"black\" x1=\"50%\" x2=\"85%\" y1=\"1.2em\" y2=\"1.2em\" /></svg><line stroke=\"black\" x1=\"50%\" x2=\"50%\" y1=\"1.2em\" y2=\"1.2em\" /><rect fill=\"gray\" fill-opacity=\"0.15\" height=\"4.9em\" rx=\"8\" ry=\"8\" stroke=\"none\" stroke-width=\"1\" width=\"30%\" x=\"0%\" y=\"3.6em\" /><rect fill=\"gray\" fill-opacity=\"0.15\" height=\"4.9em\" rx=\"8\" ry=\"8\" stroke=\"none\" stroke-width=\"1\" width=\"30%\" x=\"0%\" y=\"3.6em\" /></svg></svg><svg height=\"136.0\" width=\"160.0\" x=\"192.0\" y=\"0\"><defs /><svg baseProfile=\"full\" height=\"136px\" preserveAspectRatio=\"xMidYMid meet\" style=\"font-family: times, serif; font-weight:normal; font-style: normal; font-size: 16px;\" version=\"1.1\" viewBox=\"0,0,160.0,136.0\" width=\"160px\" xmlns=\"http://www.w3.org/2000/svg\" xmlns:ev=\"http://www.w3.org/2001/xml-events\" xmlns:xlink=\"http://www.w3.org/1999/xlink\"><defs /><svg width=\"100%\" x=\"0\" y=\"0em\"><defs /><text text-anchor=\"middle\" x=\"50%\" y=\"1em\">TOP</text></svg><svg width=\"100%\" x=\"0%\" y=\"1.2em\"><defs /><svg width=\"100%\" x=\"0\" y=\"0em\"><defs /><text text-anchor=\"middle\" x=\"50%\" y=\"1em\">FRAGQ</text></svg><svg width=\"70%\" x=\"0%\" y=\"1.2em\"><defs /><svg width=\"100%\" x=\"0\" y=\"0em\"><defs /><text text-anchor=\"middle\" x=\"50%\" y=\"1em\">NP</text></svg><svg width=\"42.8571%\" x=\"0%\" y=\"1.2em\"><defs /><svg width=\"100%\" x=\"0\" y=\"0em\"><defs /><text text-anchor=\"middle\" x=\"50%\" y=\"1em\">WDT</text></svg><svg width=\"100%\" x=\"0%\" y=\"2.4em\"><defs /><svg width=\"100%\" x=\"0\" y=\"0em\"><defs /><text text-anchor=\"middle\" x=\"50%\" y=\"1em\">aizh</text><text text-anchor=\"middle\" x=\"50%\" y=\"2em\">איזה</text></svg></svg><line stroke=\"black\" x1=\"50%\" x2=\"50%\" y1=\"1.2em\" y2=\"2.4em\" /></svg><line stroke=\"black\" x1=\"50%\" x2=\"21.4286%\" y1=\"1.2em\" y2=\"1.2em\" /><svg width=\"57.1429%\" x=\"42.8571%\" y=\"1.2em\"><defs /><svg width=\"100%\" x=\"0\" y=\"0em\"><defs /><text text-anchor=\"middle\" x=\"50%\" y=\"1em\">NP</text></svg><svg width=\"100%\" x=\"0%\" y=\"1.2em\"><defs /><svg width=\"100%\" x=\"0\" y=\"0em\"><defs /><text text-anchor=\"middle\" x=\"50%\" y=\"1em\">NN</text></svg><svg width=\"100%\" x=\"0%\" y=\"1.2em\"><defs /><svg width=\"100%\" x=\"0\" y=\"0em\"><defs /><text text-anchor=\"middle\" x=\"50%\" y=\"1em\">pcweim</text><text text-anchor=\"middle\" x=\"50%\" y=\"2em\">פצועימ</text></svg></svg><line stroke=\"black\" x1=\"50%\" x2=\"50%\" y1=\"1.2em\" y2=\"1.2em\" /></svg><line stroke=\"black\" x1=\"50%\" x2=\"50%\" y1=\"1.2em\" y2=\"1.2em\" /></svg><line stroke=\"black\" x1=\"50%\" x2=\"71.4286%\" y1=\"1.2em\" y2=\"1.2em\" /></svg><line stroke=\"black\" x1=\"50%\" x2=\"35%\" y1=\"1.2em\" y2=\"1.2em\" /><svg width=\"30%\" x=\"70%\" y=\"1.2em\"><defs /><svg width=\"100%\" x=\"0\" y=\"0em\"><defs /><text text-anchor=\"middle\" x=\"50%\" y=\"1em\">yyQM</text></svg><svg width=\"100%\" x=\"0%\" y=\"3.6em\"><defs /><svg width=\"100%\" x=\"0\" y=\"0.5em\"><defs /><text text-anchor=\"middle\" x=\"50%\" y=\"1em\">?</text></svg></svg><line stroke=\"black\" x1=\"50%\" x2=\"50%\" y1=\"1.2em\" y2=\"4.1em\" /></svg><line stroke=\"black\" x1=\"50%\" x2=\"85%\" y1=\"1.2em\" y2=\"1.2em\" /></svg><line stroke=\"black\" x1=\"50%\" x2=\"50%\" y1=\"1.2em\" y2=\"1.2em\" /><rect fill=\"gray\" fill-opacity=\"0.15\" height=\"4.9em\" rx=\"8\" ry=\"8\" stroke=\"none\" stroke-width=\"1\" width=\"30%\" x=\"0%\" y=\"3.6em\" /><rect fill=\"gray\" fill-opacity=\"0.15\" height=\"4.9em\" rx=\"8\" ry=\"8\" stroke=\"none\" stroke-width=\"1\" width=\"30%\" x=\"0%\" y=\"3.6em\" /></svg></svg></svg>"
      ],
      "text/plain": [
       "<svgling.figure.SideBySide at 0x17d64b98c88>"
      ]
     },
     "metadata": {},
     "output_type": "display_data"
    },
    {
     "data": {
      "text/html": [
       "<h3>איזה parents</h3>"
      ],
      "text/plain": [
       "<IPython.core.display.HTML object>"
      ]
     },
     "metadata": {},
     "output_type": "display_data"
    },
    {
     "data": {
      "text/plain": [
       "[('WDT', ('AIZH',), 0.0025128708016670747),\n",
       " ('DT', ('AIZH',), 0.0008810203054203724)]"
      ]
     },
     "metadata": {},
     "output_type": "display_data"
    },
    {
     "data": {
      "text/html": [
       "<h3>NP->WDT relation</h3>"
      ],
      "text/plain": [
       "<IPython.core.display.HTML object>"
      ]
     },
     "metadata": {},
     "output_type": "display_data"
    },
    {
     "data": {
      "text/plain": [
       "[(('WDT', 'NP'), 0.00031025980176031614),\n",
       " (('WDT',), 8.164731625271477e-05),\n",
       " (('WDT', 'WDT*IN-NP'), 3.265892650108591e-05)]"
      ]
     },
     "metadata": {},
     "output_type": "display_data"
    },
    {
     "data": {
      "text/html": [
       "<h3>NP->DT relation</h3>"
      ],
      "text/plain": [
       "<IPython.core.display.HTML object>"
      ]
     },
     "metadata": {},
     "output_type": "display_data"
    },
    {
     "data": {
      "text/plain": [
       "[(('DT', 'NP'), 0.011136693936870294),\n",
       " (('DT', 'DT*IN-NP'), 0.00022861248550760135),\n",
       " (('DT', 'SBAR'), 0.00013063570600434365)]"
      ]
     },
     "metadata": {},
     "output_type": "display_data"
    }
   ],
   "source": [
    "describe(5, [(0,0,0)], [(0,0,0)])\n",
    "h3(\"איזה parents\")\n",
    "display(get_possible_terminal_tags('aizh'))\n",
    "h3(\"NP->WDT relation\")\n",
    "display(get_parent_to_child(\"NP\",\"WDT\",\"left\"))\n",
    "h3(\"NP->DT relation\")\n",
    "display(get_parent_to_child(\"NP\",\"DT\",\"left\")[0:3])"
   ]
  },
  {
   "cell_type": "markdown",
   "metadata": {},
   "source": [
    "---\n",
    "As we can see, the marked token got the wrong tag, and consequently changed the sentence tree.\n",
    "\n",
    "This happened as __טוקי__ didn't appear in the traning set at all.\n",
    "\n",
    "In this case, we try to guess its POS based on a smoothing algorithm. Here it choose RB was has a better score than any noun tag, as טוקי appeared to be in the gold parse.\n",
    "\n",
    "This use case shows the CKY will find it harder to parse sentences with __unknown words__.\n",
    "\n",
    "Same thing accors below, as __מזהיבים__ isn't a known word:"
   ]
  },
  {
   "cell_type": "code",
   "execution_count": 222,
   "metadata": {},
   "outputs": [
    {
     "data": {
      "text/html": [
       "<h2>Line 12</h2>"
      ],
      "text/plain": [
       "<IPython.core.display.HTML object>"
      ]
     },
     "metadata": {},
     "output_type": "display_data"
    },
    {
     "data": {
      "image/svg+xml": [
       "<svg baseProfile=\"full\" height=\"155.2px\" preserveAspectRatio=\"xMidYMid meet\" version=\"1.1\" viewBox=\"0,0,584.0,155.2\" width=\"584px\" xmlns=\"http://www.w3.org/2000/svg\" xmlns:ev=\"http://www.w3.org/2001/xml-events\" xmlns:xlink=\"http://www.w3.org/1999/xlink\"><defs /><svg height=\"136.0\" width=\"272.0\" x=\"16\" y=\"0\"><defs /><svg baseProfile=\"full\" height=\"136px\" preserveAspectRatio=\"xMidYMid meet\" style=\"font-family: times, serif; font-weight:normal; font-style: normal; font-size: 16px;\" version=\"1.1\" viewBox=\"0,0,272.0,136.0\" width=\"272px\" xmlns=\"http://www.w3.org/2000/svg\" xmlns:ev=\"http://www.w3.org/2001/xml-events\" xmlns:xlink=\"http://www.w3.org/1999/xlink\"><defs /><svg width=\"100%\" x=\"0\" y=\"0em\"><defs /><text text-anchor=\"middle\" x=\"50%\" y=\"1em\">TOP</text></svg><svg width=\"100%\" x=\"0%\" y=\"1.2em\"><defs /><svg width=\"100%\" x=\"0\" y=\"0em\"><defs /><text text-anchor=\"middle\" x=\"50%\" y=\"1em\">S</text></svg><svg width=\"17.6471%\" x=\"0%\" y=\"1.2em\"><defs /><svg width=\"100%\" x=\"0\" y=\"0em\"><defs /><text text-anchor=\"middle\" x=\"50%\" y=\"1em\">ADVP</text></svg><svg width=\"100%\" x=\"0%\" y=\"1.2em\"><defs /><svg width=\"100%\" x=\"0\" y=\"0em\"><defs /><text text-anchor=\"middle\" x=\"50%\" y=\"1em\">RB</text></svg><svg width=\"100%\" x=\"0%\" y=\"2.4em\"><defs /><svg width=\"100%\" x=\"0\" y=\"0em\"><defs /><text text-anchor=\"middle\" x=\"50%\" y=\"1em\">jwqi</text><text text-anchor=\"middle\" x=\"50%\" y=\"2em\">טוקי</text></svg></svg><line stroke=\"black\" x1=\"50%\" x2=\"50%\" y1=\"1.2em\" y2=\"2.4em\" /></svg><line stroke=\"black\" x1=\"50%\" x2=\"50%\" y1=\"1.2em\" y2=\"1.2em\" /></svg><line stroke=\"black\" x1=\"50%\" x2=\"8.82353%\" y1=\"1.2em\" y2=\"1.2em\" /><svg width=\"17.6471%\" x=\"17.6471%\" y=\"1.2em\"><defs /><svg width=\"100%\" x=\"0\" y=\"0em\"><defs /><text text-anchor=\"middle\" x=\"50%\" y=\"1em\">VP</text></svg><svg width=\"100%\" x=\"0%\" y=\"1.2em\"><defs /><svg width=\"100%\" x=\"0\" y=\"0em\"><defs /><text text-anchor=\"middle\" x=\"50%\" y=\"1em\">VB</text></svg><svg width=\"100%\" x=\"0%\" y=\"2.4em\"><defs /><svg width=\"100%\" x=\"0\" y=\"0em\"><defs /><text text-anchor=\"middle\" x=\"50%\" y=\"1em\">qibl</text><text text-anchor=\"middle\" x=\"50%\" y=\"2em\">קיבל</text></svg></svg><line stroke=\"black\" x1=\"50%\" x2=\"50%\" y1=\"1.2em\" y2=\"2.4em\" /></svg><line stroke=\"black\" x1=\"50%\" x2=\"50%\" y1=\"1.2em\" y2=\"1.2em\" /></svg><line stroke=\"black\" x1=\"50%\" x2=\"26.4706%\" y1=\"1.2em\" y2=\"1.2em\" /><svg width=\"17.6471%\" x=\"35.2941%\" y=\"1.2em\"><defs /><svg width=\"100%\" x=\"0\" y=\"0em\"><defs /><text text-anchor=\"middle\" x=\"50%\" y=\"1em\">ADVP</text></svg><svg width=\"100%\" x=\"0%\" y=\"1.2em\"><defs /><svg width=\"100%\" x=\"0\" y=\"0em\"><defs /><text text-anchor=\"middle\" x=\"50%\" y=\"1em\">RB</text></svg><svg width=\"100%\" x=\"0%\" y=\"2.4em\"><defs /><svg width=\"100%\" x=\"0\" y=\"0em\"><defs /><text text-anchor=\"middle\" x=\"50%\" y=\"1em\">rq</text><text text-anchor=\"middle\" x=\"50%\" y=\"2em\">רק</text></svg></svg><line stroke=\"black\" x1=\"50%\" x2=\"50%\" y1=\"1.2em\" y2=\"2.4em\" /></svg><line stroke=\"black\" x1=\"50%\" x2=\"50%\" y1=\"1.2em\" y2=\"1.2em\" /></svg><line stroke=\"black\" x1=\"50%\" x2=\"44.1176%\" y1=\"1.2em\" y2=\"1.2em\" /><svg width=\"26.4706%\" x=\"52.9412%\" y=\"1.2em\"><defs /><svg width=\"100%\" x=\"0\" y=\"0em\"><defs /><text text-anchor=\"middle\" x=\"50%\" y=\"1em\">NP</text></svg><svg width=\"100%\" x=\"0%\" y=\"1.2em\"><defs /><svg width=\"100%\" x=\"0\" y=\"0em\"><defs /><text text-anchor=\"middle\" x=\"50%\" y=\"1em\">CDP</text></svg><svg width=\"44.4444%\" x=\"0%\" y=\"1.2em\"><defs /><svg width=\"100%\" x=\"0\" y=\"0em\"><defs /><text text-anchor=\"middle\" x=\"50%\" y=\"1em\">CD</text></svg><svg width=\"100%\" x=\"0%\" y=\"1.2em\"><defs /><svg width=\"100%\" x=\"0\" y=\"0.5em\"><defs /><text text-anchor=\"middle\" x=\"50%\" y=\"1em\">52</text></svg></svg><line stroke=\"black\" x1=\"50%\" x2=\"50%\" y1=\"1.2em\" y2=\"1.7em\" /></svg><line stroke=\"black\" x1=\"50%\" x2=\"22.2222%\" y1=\"1.2em\" y2=\"1.2em\" /><svg width=\"55.5556%\" x=\"44.4444%\" y=\"1.2em\"><defs /><svg width=\"100%\" x=\"0\" y=\"0em\"><defs /><text text-anchor=\"middle\" x=\"50%\" y=\"1em\">CD</text></svg><svg width=\"100%\" x=\"0%\" y=\"1.2em\"><defs /><svg width=\"100%\" x=\"0\" y=\"0em\"><defs /><text text-anchor=\"middle\" x=\"50%\" y=\"1em\">alp</text><text text-anchor=\"middle\" x=\"50%\" y=\"2em\">אלפ</text></svg></svg><line stroke=\"black\" x1=\"50%\" x2=\"50%\" y1=\"1.2em\" y2=\"1.2em\" /></svg><line stroke=\"black\" x1=\"50%\" x2=\"72.2222%\" y1=\"1.2em\" y2=\"1.2em\" /></svg><line stroke=\"black\" x1=\"50%\" x2=\"50%\" y1=\"1.2em\" y2=\"1.2em\" /></svg><line stroke=\"black\" x1=\"50%\" x2=\"66.1765%\" y1=\"1.2em\" y2=\"1.2em\" /><svg width=\"20.5882%\" x=\"79.4118%\" y=\"1.2em\"><defs /><svg width=\"100%\" x=\"0\" y=\"0em\"><defs /><text text-anchor=\"middle\" x=\"50%\" y=\"1em\">yyDOT</text></svg><svg width=\"100%\" x=\"0%\" y=\"3.6em\"><defs /><svg width=\"100%\" x=\"0\" y=\"0.5em\"><defs /><text text-anchor=\"middle\" x=\"50%\" y=\"1em\">.</text></svg></svg><line stroke=\"black\" x1=\"50%\" x2=\"50%\" y1=\"1.2em\" y2=\"4.1em\" /></svg><line stroke=\"black\" x1=\"50%\" x2=\"89.7059%\" y1=\"1.2em\" y2=\"1.2em\" /></svg><line stroke=\"black\" x1=\"50%\" x2=\"50%\" y1=\"1.2em\" y2=\"1.2em\" /><rect fill=\"gray\" fill-opacity=\"0.15\" height=\"4.9em\" rx=\"8\" ry=\"8\" stroke=\"none\" stroke-width=\"1\" width=\"17.6471%\" x=\"0%\" y=\"3.6em\" /><rect fill=\"gray\" fill-opacity=\"0.15\" height=\"4.9em\" rx=\"8\" ry=\"8\" stroke=\"none\" stroke-width=\"1\" width=\"17.6471%\" x=\"0%\" y=\"3.6em\" /></svg></svg><svg height=\"155.2\" width=\"264.0\" x=\"304.0\" y=\"0\"><defs /><svg baseProfile=\"full\" height=\"155.2px\" preserveAspectRatio=\"xMidYMid meet\" style=\"font-family: times, serif; font-weight:normal; font-style: normal; font-size: 16px;\" version=\"1.1\" viewBox=\"0,0,264.0,155.2\" width=\"264px\" xmlns=\"http://www.w3.org/2000/svg\" xmlns:ev=\"http://www.w3.org/2001/xml-events\" xmlns:xlink=\"http://www.w3.org/1999/xlink\"><defs /><svg width=\"100%\" x=\"0\" y=\"0em\"><defs /><text text-anchor=\"middle\" x=\"50%\" y=\"1em\">TOP</text></svg><svg width=\"100%\" x=\"0%\" y=\"1.2em\"><defs /><svg width=\"100%\" x=\"0\" y=\"0em\"><defs /><text text-anchor=\"middle\" x=\"50%\" y=\"1em\">S</text></svg><svg width=\"18.1818%\" x=\"0%\" y=\"1.2em\"><defs /><svg width=\"100%\" x=\"0\" y=\"0em\"><defs /><text text-anchor=\"middle\" x=\"50%\" y=\"1em\">NP</text></svg><svg width=\"100%\" x=\"0%\" y=\"1.2em\"><defs /><svg width=\"100%\" x=\"0\" y=\"0em\"><defs /><text text-anchor=\"middle\" x=\"50%\" y=\"1em\">NNP</text></svg><svg width=\"100%\" x=\"0%\" y=\"3.6em\"><defs /><svg width=\"100%\" x=\"0\" y=\"0em\"><defs /><text text-anchor=\"middle\" x=\"50%\" y=\"1em\">jwqi</text><text text-anchor=\"middle\" x=\"50%\" y=\"2em\">טוקי</text></svg></svg><line stroke=\"black\" x1=\"50%\" x2=\"50%\" y1=\"1.2em\" y2=\"3.6em\" /></svg><line stroke=\"black\" x1=\"50%\" x2=\"50%\" y1=\"1.2em\" y2=\"1.2em\" /></svg><line stroke=\"black\" x1=\"50%\" x2=\"9.09091%\" y1=\"1.2em\" y2=\"1.2em\" /><svg width=\"18.1818%\" x=\"18.1818%\" y=\"1.2em\"><defs /><svg width=\"100%\" x=\"0\" y=\"0em\"><defs /><text text-anchor=\"middle\" x=\"50%\" y=\"1em\">VP</text></svg><svg width=\"100%\" x=\"0%\" y=\"1.2em\"><defs /><svg width=\"100%\" x=\"0\" y=\"0em\"><defs /><text text-anchor=\"middle\" x=\"50%\" y=\"1em\">VB</text></svg><svg width=\"100%\" x=\"0%\" y=\"3.6em\"><defs /><svg width=\"100%\" x=\"0\" y=\"0em\"><defs /><text text-anchor=\"middle\" x=\"50%\" y=\"1em\">qibl</text><text text-anchor=\"middle\" x=\"50%\" y=\"2em\">קיבל</text></svg></svg><line stroke=\"black\" x1=\"50%\" x2=\"50%\" y1=\"1.2em\" y2=\"3.6em\" /></svg><line stroke=\"black\" x1=\"50%\" x2=\"50%\" y1=\"1.2em\" y2=\"1.2em\" /></svg><line stroke=\"black\" x1=\"50%\" x2=\"27.2727%\" y1=\"1.2em\" y2=\"1.2em\" /><svg width=\"42.4242%\" x=\"36.3636%\" y=\"1.2em\"><defs /><svg width=\"100%\" x=\"0\" y=\"0em\"><defs /><text text-anchor=\"middle\" x=\"50%\" y=\"1em\">NP</text></svg><svg width=\"35.7143%\" x=\"0%\" y=\"1.2em\"><defs /><svg width=\"100%\" x=\"0\" y=\"0em\"><defs /><text text-anchor=\"middle\" x=\"50%\" y=\"1em\">MOD</text></svg><svg width=\"100%\" x=\"0%\" y=\"3.6em\"><defs /><svg width=\"100%\" x=\"0\" y=\"0em\"><defs /><text text-anchor=\"middle\" x=\"50%\" y=\"1em\">rq</text><text text-anchor=\"middle\" x=\"50%\" y=\"2em\">רק</text></svg></svg><line stroke=\"black\" x1=\"50%\" x2=\"50%\" y1=\"1.2em\" y2=\"3.6em\" /></svg><line stroke=\"black\" x1=\"50%\" x2=\"17.8571%\" y1=\"1.2em\" y2=\"1.2em\" /><svg width=\"64.2857%\" x=\"35.7143%\" y=\"1.2em\"><defs /><svg width=\"100%\" x=\"0\" y=\"0em\"><defs /><text text-anchor=\"middle\" x=\"50%\" y=\"1em\">NP</text></svg><svg width=\"100%\" x=\"0%\" y=\"1.2em\"><defs /><svg width=\"100%\" x=\"0\" y=\"0em\"><defs /><text text-anchor=\"middle\" x=\"50%\" y=\"1em\">CDP</text></svg><svg width=\"44.4444%\" x=\"0%\" y=\"1.2em\"><defs /><svg width=\"100%\" x=\"0\" y=\"0em\"><defs /><text text-anchor=\"middle\" x=\"50%\" y=\"1em\">CD</text></svg><svg width=\"100%\" x=\"0%\" y=\"1.2em\"><defs /><svg width=\"100%\" x=\"0\" y=\"0.5em\"><defs /><text text-anchor=\"middle\" x=\"50%\" y=\"1em\">52</text></svg></svg><line stroke=\"black\" x1=\"50%\" x2=\"50%\" y1=\"1.2em\" y2=\"1.7em\" /></svg><line stroke=\"black\" x1=\"50%\" x2=\"22.2222%\" y1=\"1.2em\" y2=\"1.2em\" /><svg width=\"55.5556%\" x=\"44.4444%\" y=\"1.2em\"><defs /><svg width=\"100%\" x=\"0\" y=\"0em\"><defs /><text text-anchor=\"middle\" x=\"50%\" y=\"1em\">CD</text></svg><svg width=\"100%\" x=\"0%\" y=\"1.2em\"><defs /><svg width=\"100%\" x=\"0\" y=\"0em\"><defs /><text text-anchor=\"middle\" x=\"50%\" y=\"1em\">alp</text><text text-anchor=\"middle\" x=\"50%\" y=\"2em\">אלפ</text></svg></svg><line stroke=\"black\" x1=\"50%\" x2=\"50%\" y1=\"1.2em\" y2=\"1.2em\" /></svg><line stroke=\"black\" x1=\"50%\" x2=\"72.2222%\" y1=\"1.2em\" y2=\"1.2em\" /></svg><line stroke=\"black\" x1=\"50%\" x2=\"50%\" y1=\"1.2em\" y2=\"1.2em\" /></svg><line stroke=\"black\" x1=\"50%\" x2=\"67.8571%\" y1=\"1.2em\" y2=\"1.2em\" /></svg><line stroke=\"black\" x1=\"50%\" x2=\"57.5758%\" y1=\"1.2em\" y2=\"1.2em\" /><svg width=\"21.2121%\" x=\"78.7879%\" y=\"1.2em\"><defs /><svg width=\"100%\" x=\"0\" y=\"0em\"><defs /><text text-anchor=\"middle\" x=\"50%\" y=\"1em\">yyDOT</text></svg><svg width=\"100%\" x=\"0%\" y=\"4.8em\"><defs /><svg width=\"100%\" x=\"0\" y=\"0.5em\"><defs /><text text-anchor=\"middle\" x=\"50%\" y=\"1em\">.</text></svg></svg><line stroke=\"black\" x1=\"50%\" x2=\"50%\" y1=\"1.2em\" y2=\"5.3em\" /></svg><line stroke=\"black\" x1=\"50%\" x2=\"89.3939%\" y1=\"1.2em\" y2=\"1.2em\" /></svg><line stroke=\"black\" x1=\"50%\" x2=\"50%\" y1=\"1.2em\" y2=\"1.2em\" /><rect fill=\"gray\" fill-opacity=\"0.15\" height=\"6.1em\" rx=\"8\" ry=\"8\" stroke=\"none\" stroke-width=\"1\" width=\"18.1818%\" x=\"0%\" y=\"3.6em\" /><rect fill=\"gray\" fill-opacity=\"0.15\" height=\"6.1em\" rx=\"8\" ry=\"8\" stroke=\"none\" stroke-width=\"1\" width=\"18.1818%\" x=\"0%\" y=\"3.6em\" /></svg></svg></svg>"
      ],
      "text/plain": [
       "<svgling.figure.SideBySide at 0x17d5dac3400>"
      ]
     },
     "metadata": {},
     "output_type": "display_data"
    },
    {
     "data": {
      "text/html": [
       "<h3>טוקי parents</h3>"
      ],
      "text/plain": [
       "<IPython.core.display.HTML object>"
      ]
     },
     "metadata": {},
     "output_type": "display_data"
    },
    {
     "data": {
      "text/plain": [
       "[]"
      ]
     },
     "metadata": {},
     "output_type": "display_data"
    },
    {
     "data": {
      "text/html": [
       "<h3>RB (adverb) score for unknown words (lower is better):</h3>"
      ],
      "text/plain": [
       "<IPython.core.display.HTML object>"
      ]
     },
     "metadata": {},
     "output_type": "display_data"
    },
    {
     "data": {
      "text/plain": [
       "25"
      ]
     },
     "metadata": {},
     "output_type": "display_data"
    },
    {
     "data": {
      "text/html": [
       "<h3>NNP, NNT, NN scores for unknown words:</h3>"
      ],
      "text/plain": [
       "<IPython.core.display.HTML object>"
      ]
     },
     "metadata": {},
     "output_type": "display_data"
    },
    {
     "name": "stdout",
     "output_type": "stream",
     "text": [
      "30 32 36\n"
     ]
    }
   ],
   "source": [
    "describe(12, [(0,0,0)], [(0,0,0)])\n",
    "h3(\"טוקי parents\")\n",
    "display(get_possible_terminal_tags('jwqi'))\n",
    "h3(\"RB (adverb) score for unknown words (lower is better):\")\n",
    "display(get_unknown_score(\"RB\"))\n",
    "h3(\"NNP, NNT, NN scores for unknown words:\")\n",
    "print(get_unknown_score(\"NNP\"), get_unknown_score(\"NNT\"), get_unknown_score(\"NN\"))"
   ]
  },
  {
   "cell_type": "code",
   "execution_count": 223,
   "metadata": {},
   "outputs": [
    {
     "data": {
      "text/html": [
       "<h2>Line 24</h2>"
      ],
      "text/plain": [
       "<IPython.core.display.HTML object>"
      ]
     },
     "metadata": {},
     "output_type": "display_data"
    },
    {
     "data": {
      "image/svg+xml": [
       "<svg baseProfile=\"full\" height=\"136px\" preserveAspectRatio=\"xMidYMid meet\" version=\"1.1\" viewBox=\"0,0,448.0,136.0\" width=\"448px\" xmlns=\"http://www.w3.org/2000/svg\" xmlns:ev=\"http://www.w3.org/2001/xml-events\" xmlns:xlink=\"http://www.w3.org/1999/xlink\"><defs /><svg height=\"136.0\" width=\"200.0\" x=\"16\" y=\"0\"><defs /><svg baseProfile=\"full\" height=\"136px\" preserveAspectRatio=\"xMidYMid meet\" style=\"font-family: times, serif; font-weight:normal; font-style: normal; font-size: 16px;\" version=\"1.1\" viewBox=\"0,0,200.0,136.0\" width=\"200px\" xmlns=\"http://www.w3.org/2000/svg\" xmlns:ev=\"http://www.w3.org/2001/xml-events\" xmlns:xlink=\"http://www.w3.org/1999/xlink\"><defs /><svg width=\"100%\" x=\"0\" y=\"0em\"><defs /><text text-anchor=\"middle\" x=\"50%\" y=\"1em\">TOP</text></svg><svg width=\"100%\" x=\"0%\" y=\"1.2em\"><defs /><svg width=\"100%\" x=\"0\" y=\"0em\"><defs /><text text-anchor=\"middle\" x=\"50%\" y=\"1em\">S</text></svg><svg width=\"36%\" x=\"0%\" y=\"1.2em\"><defs /><svg width=\"100%\" x=\"0\" y=\"0em\"><defs /><text text-anchor=\"middle\" x=\"50%\" y=\"1em\">NP</text></svg><svg width=\"33.3333%\" x=\"0%\" y=\"1.2em\"><defs /><svg width=\"100%\" x=\"0\" y=\"0em\"><defs /><text text-anchor=\"middle\" x=\"50%\" y=\"1em\">H</text></svg><svg width=\"100%\" x=\"0%\" y=\"2.4em\"><defs /><svg width=\"100%\" x=\"0\" y=\"0em\"><defs /><text text-anchor=\"middle\" x=\"50%\" y=\"1em\">h</text><text text-anchor=\"middle\" x=\"50%\" y=\"2em\">ה</text></svg></svg><line stroke=\"black\" x1=\"50%\" x2=\"50%\" y1=\"1.2em\" y2=\"2.4em\" /></svg><line stroke=\"black\" x1=\"50%\" x2=\"16.6667%\" y1=\"1.2em\" y2=\"1.2em\" /><svg width=\"66.6667%\" x=\"33.3333%\" y=\"1.2em\"><defs /><svg width=\"100%\" x=\"0\" y=\"0em\"><defs /><text text-anchor=\"middle\" x=\"50%\" y=\"1em\">NN</text></svg><svg width=\"100%\" x=\"0%\" y=\"2.4em\"><defs /><svg width=\"100%\" x=\"0\" y=\"0em\"><defs /><text text-anchor=\"middle\" x=\"50%\" y=\"1em\">elim</text><text text-anchor=\"middle\" x=\"50%\" y=\"2em\">עלימ</text></svg></svg><line stroke=\"black\" x1=\"50%\" x2=\"50%\" y1=\"1.2em\" y2=\"2.4em\" /></svg><line stroke=\"black\" x1=\"50%\" x2=\"66.6667%\" y1=\"1.2em\" y2=\"1.2em\" /></svg><line stroke=\"black\" x1=\"50%\" x2=\"18%\" y1=\"1.2em\" y2=\"1.2em\" /><svg width=\"36%\" x=\"36%\" y=\"1.2em\"><defs /><svg width=\"100%\" x=\"0\" y=\"0em\"><defs /><text text-anchor=\"middle\" x=\"50%\" y=\"1em\">PREDP</text></svg><svg width=\"100%\" x=\"0%\" y=\"1.2em\"><defs /><svg width=\"100%\" x=\"0\" y=\"0em\"><defs /><text text-anchor=\"middle\" x=\"50%\" y=\"1em\">ADJP</text></svg><svg width=\"100%\" x=\"0%\" y=\"1.2em\"><defs /><svg width=\"100%\" x=\"0\" y=\"0em\"><defs /><text text-anchor=\"middle\" x=\"50%\" y=\"1em\">JJ</text></svg><svg width=\"100%\" x=\"0%\" y=\"1.2em\"><defs /><svg width=\"100%\" x=\"0\" y=\"0em\"><defs /><text text-anchor=\"middle\" x=\"50%\" y=\"1em\">mzhibim</text><text text-anchor=\"middle\" x=\"50%\" y=\"2em\">מזהיבימ</text></svg></svg><line stroke=\"black\" x1=\"50%\" x2=\"50%\" y1=\"1.2em\" y2=\"1.2em\" /></svg><line stroke=\"black\" x1=\"50%\" x2=\"50%\" y1=\"1.2em\" y2=\"1.2em\" /></svg><line stroke=\"black\" x1=\"50%\" x2=\"50%\" y1=\"1.2em\" y2=\"1.2em\" /></svg><line stroke=\"black\" x1=\"50%\" x2=\"54%\" y1=\"1.2em\" y2=\"1.2em\" /><svg width=\"28%\" x=\"72%\" y=\"1.2em\"><defs /><svg width=\"100%\" x=\"0\" y=\"0em\"><defs /><text text-anchor=\"middle\" x=\"50%\" y=\"1em\">yyDOT</text></svg><svg width=\"100%\" x=\"0%\" y=\"3.6em\"><defs /><svg width=\"100%\" x=\"0\" y=\"0.5em\"><defs /><text text-anchor=\"middle\" x=\"50%\" y=\"1em\">.</text></svg></svg><line stroke=\"black\" x1=\"50%\" x2=\"50%\" y1=\"1.2em\" y2=\"4.1em\" /></svg><line stroke=\"black\" x1=\"50%\" x2=\"86%\" y1=\"1.2em\" y2=\"1.2em\" /></svg><line stroke=\"black\" x1=\"50%\" x2=\"50%\" y1=\"1.2em\" y2=\"1.2em\" /><rect fill=\"gray\" fill-opacity=\"0.15\" height=\"6.1em\" rx=\"8\" ry=\"8\" stroke=\"none\" stroke-width=\"1\" width=\"36%\" x=\"36%\" y=\"2.4em\" /><rect fill=\"gray\" fill-opacity=\"0.15\" height=\"6.1em\" rx=\"8\" ry=\"8\" stroke=\"none\" stroke-width=\"1\" width=\"36%\" x=\"36%\" y=\"2.4em\" /></svg></svg><svg height=\"116.8\" width=\"200.0\" x=\"232.0\" y=\"0\"><defs /><svg baseProfile=\"full\" height=\"116.8px\" preserveAspectRatio=\"xMidYMid meet\" style=\"font-family: times, serif; font-weight:normal; font-style: normal; font-size: 16px;\" version=\"1.1\" viewBox=\"0,0,200.0,116.8\" width=\"200px\" xmlns=\"http://www.w3.org/2000/svg\" xmlns:ev=\"http://www.w3.org/2001/xml-events\" xmlns:xlink=\"http://www.w3.org/1999/xlink\"><defs /><svg width=\"100%\" x=\"0\" y=\"0em\"><defs /><text text-anchor=\"middle\" x=\"50%\" y=\"1em\">TOP</text></svg><svg width=\"100%\" x=\"0%\" y=\"1.2em\"><defs /><svg width=\"100%\" x=\"0\" y=\"0em\"><defs /><text text-anchor=\"middle\" x=\"50%\" y=\"1em\">S</text></svg><svg width=\"36%\" x=\"0%\" y=\"1.2em\"><defs /><svg width=\"100%\" x=\"0\" y=\"0em\"><defs /><text text-anchor=\"middle\" x=\"50%\" y=\"1em\">NP</text></svg><svg width=\"33.3333%\" x=\"0%\" y=\"1.2em\"><defs /><svg width=\"100%\" x=\"0\" y=\"0em\"><defs /><text text-anchor=\"middle\" x=\"50%\" y=\"1em\">H</text></svg><svg width=\"100%\" x=\"0%\" y=\"1.2em\"><defs /><svg width=\"100%\" x=\"0\" y=\"0em\"><defs /><text text-anchor=\"middle\" x=\"50%\" y=\"1em\">h</text><text text-anchor=\"middle\" x=\"50%\" y=\"2em\">ה</text></svg></svg><line stroke=\"black\" x1=\"50%\" x2=\"50%\" y1=\"1.2em\" y2=\"1.2em\" /></svg><line stroke=\"black\" x1=\"50%\" x2=\"16.6667%\" y1=\"1.2em\" y2=\"1.2em\" /><svg width=\"66.6667%\" x=\"33.3333%\" y=\"1.2em\"><defs /><svg width=\"100%\" x=\"0\" y=\"0em\"><defs /><text text-anchor=\"middle\" x=\"50%\" y=\"1em\">NN</text></svg><svg width=\"100%\" x=\"0%\" y=\"1.2em\"><defs /><svg width=\"100%\" x=\"0\" y=\"0em\"><defs /><text text-anchor=\"middle\" x=\"50%\" y=\"1em\">elim</text><text text-anchor=\"middle\" x=\"50%\" y=\"2em\">עלימ</text></svg></svg><line stroke=\"black\" x1=\"50%\" x2=\"50%\" y1=\"1.2em\" y2=\"1.2em\" /></svg><line stroke=\"black\" x1=\"50%\" x2=\"66.6667%\" y1=\"1.2em\" y2=\"1.2em\" /></svg><line stroke=\"black\" x1=\"50%\" x2=\"18%\" y1=\"1.2em\" y2=\"1.2em\" /><svg width=\"36%\" x=\"36%\" y=\"1.2em\"><defs /><svg width=\"100%\" x=\"0\" y=\"0em\"><defs /><text text-anchor=\"middle\" x=\"50%\" y=\"1em\">VP</text></svg><svg width=\"100%\" x=\"0%\" y=\"1.2em\"><defs /><svg width=\"100%\" x=\"0\" y=\"0em\"><defs /><text text-anchor=\"middle\" x=\"50%\" y=\"1em\">VB</text></svg><svg width=\"100%\" x=\"0%\" y=\"1.2em\"><defs /><svg width=\"100%\" x=\"0\" y=\"0em\"><defs /><text text-anchor=\"middle\" x=\"50%\" y=\"1em\">mzhibim</text><text text-anchor=\"middle\" x=\"50%\" y=\"2em\">מזהיבימ</text></svg></svg><line stroke=\"black\" x1=\"50%\" x2=\"50%\" y1=\"1.2em\" y2=\"1.2em\" /></svg><line stroke=\"black\" x1=\"50%\" x2=\"50%\" y1=\"1.2em\" y2=\"1.2em\" /></svg><line stroke=\"black\" x1=\"50%\" x2=\"54%\" y1=\"1.2em\" y2=\"1.2em\" /><svg width=\"28%\" x=\"72%\" y=\"1.2em\"><defs /><svg width=\"100%\" x=\"0\" y=\"0em\"><defs /><text text-anchor=\"middle\" x=\"50%\" y=\"1em\">yyDOT</text></svg><svg width=\"100%\" x=\"0%\" y=\"2.4em\"><defs /><svg width=\"100%\" x=\"0\" y=\"0.5em\"><defs /><text text-anchor=\"middle\" x=\"50%\" y=\"1em\">.</text></svg></svg><line stroke=\"black\" x1=\"50%\" x2=\"50%\" y1=\"1.2em\" y2=\"2.9em\" /></svg><line stroke=\"black\" x1=\"50%\" x2=\"86%\" y1=\"1.2em\" y2=\"1.2em\" /></svg><line stroke=\"black\" x1=\"50%\" x2=\"50%\" y1=\"1.2em\" y2=\"1.2em\" /><rect fill=\"gray\" fill-opacity=\"0.15\" height=\"4.9em\" rx=\"8\" ry=\"8\" stroke=\"none\" stroke-width=\"1\" width=\"36%\" x=\"36%\" y=\"2.4em\" /><rect fill=\"gray\" fill-opacity=\"0.15\" height=\"4.9em\" rx=\"8\" ry=\"8\" stroke=\"none\" stroke-width=\"1\" width=\"36%\" x=\"36%\" y=\"2.4em\" /></svg></svg></svg>"
      ],
      "text/plain": [
       "<svgling.figure.SideBySide at 0x17d5dc42160>"
      ]
     },
     "metadata": {},
     "output_type": "display_data"
    }
   ],
   "source": [
    "describe(24, [(0,1,)], [(0,1,)])"
   ]
  },
  {
   "cell_type": "markdown",
   "metadata": {},
   "source": [
    "---\n",
    "Here, frankly, it seems like a __mistake in the gold data__.\n",
    "\n",
    "There's no reason why __אולי__ would be a adverb in this sentence."
   ]
  },
  {
   "cell_type": "code",
   "execution_count": 224,
   "metadata": {},
   "outputs": [
    {
     "data": {
      "text/html": [
       "<h2>Line 61</h2>"
      ],
      "text/plain": [
       "<IPython.core.display.HTML object>"
      ]
     },
     "metadata": {},
     "output_type": "display_data"
    },
    {
     "data": {
      "image/svg+xml": [
       "<svg baseProfile=\"full\" height=\"136px\" preserveAspectRatio=\"xMidYMid meet\" version=\"1.1\" viewBox=\"0,0,448.0,136.0\" width=\"448px\" xmlns=\"http://www.w3.org/2000/svg\" xmlns:ev=\"http://www.w3.org/2001/xml-events\" xmlns:xlink=\"http://www.w3.org/1999/xlink\"><defs /><svg height=\"136.0\" width=\"200.0\" x=\"16\" y=\"0\"><defs /><svg baseProfile=\"full\" height=\"136px\" preserveAspectRatio=\"xMidYMid meet\" style=\"font-family: times, serif; font-weight:normal; font-style: normal; font-size: 16px;\" version=\"1.1\" viewBox=\"0,0,200.0,136.0\" width=\"200px\" xmlns=\"http://www.w3.org/2000/svg\" xmlns:ev=\"http://www.w3.org/2001/xml-events\" xmlns:xlink=\"http://www.w3.org/1999/xlink\"><defs /><svg width=\"100%\" x=\"0\" y=\"0em\"><defs /><text text-anchor=\"middle\" x=\"50%\" y=\"1em\">TOP</text></svg><svg width=\"100%\" x=\"0%\" y=\"1.2em\"><defs /><svg width=\"100%\" x=\"0\" y=\"0em\"><defs /><text text-anchor=\"middle\" x=\"50%\" y=\"1em\">SQ</text></svg><svg width=\"44%\" x=\"0%\" y=\"1.2em\"><defs /><svg width=\"100%\" x=\"0\" y=\"0em\"><defs /><text text-anchor=\"middle\" x=\"50%\" y=\"1em\">NP</text></svg><svg width=\"54.5455%\" x=\"0%\" y=\"1.2em\"><defs /><svg width=\"100%\" x=\"0\" y=\"0em\"><defs /><text text-anchor=\"middle\" x=\"50%\" y=\"1em\">MOD</text></svg><svg width=\"100%\" x=\"0%\" y=\"2.4em\"><defs /><svg width=\"100%\" x=\"0\" y=\"0em\"><defs /><text text-anchor=\"middle\" x=\"50%\" y=\"1em\">awli</text><text text-anchor=\"middle\" x=\"50%\" y=\"2em\">אולי</text></svg></svg><line stroke=\"black\" x1=\"50%\" x2=\"50%\" y1=\"1.2em\" y2=\"2.4em\" /></svg><line stroke=\"black\" x1=\"50%\" x2=\"27.2727%\" y1=\"1.2em\" y2=\"1.2em\" /><svg width=\"45.4545%\" x=\"54.5455%\" y=\"1.2em\"><defs /><svg width=\"100%\" x=\"0\" y=\"0em\"><defs /><text text-anchor=\"middle\" x=\"50%\" y=\"1em\">NP</text></svg><svg width=\"100%\" x=\"0%\" y=\"1.2em\"><defs /><svg width=\"100%\" x=\"0\" y=\"0em\"><defs /><text text-anchor=\"middle\" x=\"50%\" y=\"1em\">PRP</text></svg><svg width=\"100%\" x=\"0%\" y=\"1.2em\"><defs /><svg width=\"100%\" x=\"0\" y=\"0em\"><defs /><text text-anchor=\"middle\" x=\"50%\" y=\"1em\">hwa</text><text text-anchor=\"middle\" x=\"50%\" y=\"2em\">הוא</text></svg></svg><line stroke=\"black\" x1=\"50%\" x2=\"50%\" y1=\"1.2em\" y2=\"1.2em\" /></svg><line stroke=\"black\" x1=\"50%\" x2=\"50%\" y1=\"1.2em\" y2=\"1.2em\" /></svg><line stroke=\"black\" x1=\"50%\" x2=\"77.2727%\" y1=\"1.2em\" y2=\"1.2em\" /></svg><line stroke=\"black\" x1=\"50%\" x2=\"22%\" y1=\"1.2em\" y2=\"1.2em\" /><svg width=\"32%\" x=\"44%\" y=\"1.2em\"><defs /><svg width=\"100%\" x=\"0\" y=\"0em\"><defs /><text text-anchor=\"middle\" x=\"50%\" y=\"1em\">PREDP</text></svg><svg width=\"100%\" x=\"0%\" y=\"1.2em\"><defs /><svg width=\"100%\" x=\"0\" y=\"0em\"><defs /><text text-anchor=\"middle\" x=\"50%\" y=\"1em\">ADJP</text></svg><svg width=\"37.5%\" x=\"0%\" y=\"1.2em\"><defs /><svg width=\"100%\" x=\"0\" y=\"0em\"><defs /><text text-anchor=\"middle\" x=\"50%\" y=\"1em\">H</text></svg><svg width=\"100%\" x=\"0%\" y=\"1.2em\"><defs /><svg width=\"100%\" x=\"0\" y=\"0em\"><defs /><text text-anchor=\"middle\" x=\"50%\" y=\"1em\">h</text><text text-anchor=\"middle\" x=\"50%\" y=\"2em\">ה</text></svg></svg><line stroke=\"black\" x1=\"50%\" x2=\"50%\" y1=\"1.2em\" y2=\"1.2em\" /></svg><line stroke=\"black\" x1=\"50%\" x2=\"18.75%\" y1=\"1.2em\" y2=\"1.2em\" /><svg width=\"62.5%\" x=\"37.5%\" y=\"1.2em\"><defs /><svg width=\"100%\" x=\"0\" y=\"0em\"><defs /><text text-anchor=\"middle\" x=\"50%\" y=\"1em\">JJ</text></svg><svg width=\"100%\" x=\"0%\" y=\"1.2em\"><defs /><svg width=\"100%\" x=\"0\" y=\"0em\"><defs /><text text-anchor=\"middle\" x=\"50%\" y=\"1em\">fkn</text><text text-anchor=\"middle\" x=\"50%\" y=\"2em\">שכנ</text></svg></svg><line stroke=\"black\" x1=\"50%\" x2=\"50%\" y1=\"1.2em\" y2=\"1.2em\" /></svg><line stroke=\"black\" x1=\"50%\" x2=\"68.75%\" y1=\"1.2em\" y2=\"1.2em\" /></svg><line stroke=\"black\" x1=\"50%\" x2=\"50%\" y1=\"1.2em\" y2=\"1.2em\" /></svg><line stroke=\"black\" x1=\"50%\" x2=\"60%\" y1=\"1.2em\" y2=\"1.2em\" /><svg width=\"24%\" x=\"76%\" y=\"1.2em\"><defs /><svg width=\"100%\" x=\"0\" y=\"0em\"><defs /><text text-anchor=\"middle\" x=\"50%\" y=\"1em\">yyQM</text></svg><svg width=\"100%\" x=\"0%\" y=\"3.6em\"><defs /><svg width=\"100%\" x=\"0\" y=\"0.5em\"><defs /><text text-anchor=\"middle\" x=\"50%\" y=\"1em\">?</text></svg></svg><line stroke=\"black\" x1=\"50%\" x2=\"50%\" y1=\"1.2em\" y2=\"4.1em\" /></svg><line stroke=\"black\" x1=\"50%\" x2=\"88%\" y1=\"1.2em\" y2=\"1.2em\" /></svg><line stroke=\"black\" x1=\"50%\" x2=\"50%\" y1=\"1.2em\" y2=\"1.2em\" /><rect fill=\"gray\" fill-opacity=\"0.15\" height=\"6.1em\" rx=\"8\" ry=\"8\" stroke=\"none\" stroke-width=\"1\" width=\"44%\" x=\"0%\" y=\"2.4em\" /><rect fill=\"gray\" fill-opacity=\"0.15\" height=\"6.1em\" rx=\"8\" ry=\"8\" stroke=\"none\" stroke-width=\"1\" width=\"44%\" x=\"0%\" y=\"2.4em\" /></svg></svg><svg height=\"136.0\" width=\"200.0\" x=\"232.0\" y=\"0\"><defs /><svg baseProfile=\"full\" height=\"136px\" preserveAspectRatio=\"xMidYMid meet\" style=\"font-family: times, serif; font-weight:normal; font-style: normal; font-size: 16px;\" version=\"1.1\" viewBox=\"0,0,200.0,136.0\" width=\"200px\" xmlns=\"http://www.w3.org/2000/svg\" xmlns:ev=\"http://www.w3.org/2001/xml-events\" xmlns:xlink=\"http://www.w3.org/1999/xlink\"><defs /><svg width=\"100%\" x=\"0\" y=\"0em\"><defs /><text text-anchor=\"middle\" x=\"50%\" y=\"1em\">TOP</text></svg><svg width=\"100%\" x=\"0%\" y=\"1.2em\"><defs /><svg width=\"100%\" x=\"0\" y=\"0em\"><defs /><text text-anchor=\"middle\" x=\"50%\" y=\"1em\">SQ</text></svg><svg width=\"24%\" x=\"0%\" y=\"1.2em\"><defs /><svg width=\"100%\" x=\"0\" y=\"0em\"><defs /><text text-anchor=\"middle\" x=\"50%\" y=\"1em\">ADVP</text></svg><svg width=\"100%\" x=\"0%\" y=\"1.2em\"><defs /><svg width=\"100%\" x=\"0\" y=\"0em\"><defs /><text text-anchor=\"middle\" x=\"50%\" y=\"1em\">RB</text></svg><svg width=\"100%\" x=\"0%\" y=\"2.4em\"><defs /><svg width=\"100%\" x=\"0\" y=\"0em\"><defs /><text text-anchor=\"middle\" x=\"50%\" y=\"1em\">awli</text><text text-anchor=\"middle\" x=\"50%\" y=\"2em\">אולי</text></svg></svg><line stroke=\"black\" x1=\"50%\" x2=\"50%\" y1=\"1.2em\" y2=\"2.4em\" /></svg><line stroke=\"black\" x1=\"50%\" x2=\"50%\" y1=\"1.2em\" y2=\"1.2em\" /></svg><line stroke=\"black\" x1=\"50%\" x2=\"12%\" y1=\"1.2em\" y2=\"1.2em\" /><svg width=\"20%\" x=\"24%\" y=\"1.2em\"><defs /><svg width=\"100%\" x=\"0\" y=\"0em\"><defs /><text text-anchor=\"middle\" x=\"50%\" y=\"1em\">NP</text></svg><svg width=\"100%\" x=\"0%\" y=\"1.2em\"><defs /><svg width=\"100%\" x=\"0\" y=\"0em\"><defs /><text text-anchor=\"middle\" x=\"50%\" y=\"1em\">PRP</text></svg><svg width=\"100%\" x=\"0%\" y=\"2.4em\"><defs /><svg width=\"100%\" x=\"0\" y=\"0em\"><defs /><text text-anchor=\"middle\" x=\"50%\" y=\"1em\">hwa</text><text text-anchor=\"middle\" x=\"50%\" y=\"2em\">הוא</text></svg></svg><line stroke=\"black\" x1=\"50%\" x2=\"50%\" y1=\"1.2em\" y2=\"2.4em\" /></svg><line stroke=\"black\" x1=\"50%\" x2=\"50%\" y1=\"1.2em\" y2=\"1.2em\" /></svg><line stroke=\"black\" x1=\"50%\" x2=\"34%\" y1=\"1.2em\" y2=\"1.2em\" /><svg width=\"32%\" x=\"44%\" y=\"1.2em\"><defs /><svg width=\"100%\" x=\"0\" y=\"0em\"><defs /><text text-anchor=\"middle\" x=\"50%\" y=\"1em\">PREDP</text></svg><svg width=\"100%\" x=\"0%\" y=\"1.2em\"><defs /><svg width=\"100%\" x=\"0\" y=\"0em\"><defs /><text text-anchor=\"middle\" x=\"50%\" y=\"1em\">NP</text></svg><svg width=\"37.5%\" x=\"0%\" y=\"1.2em\"><defs /><svg width=\"100%\" x=\"0\" y=\"0em\"><defs /><text text-anchor=\"middle\" x=\"50%\" y=\"1em\">H</text></svg><svg width=\"100%\" x=\"0%\" y=\"1.2em\"><defs /><svg width=\"100%\" x=\"0\" y=\"0em\"><defs /><text text-anchor=\"middle\" x=\"50%\" y=\"1em\">h</text><text text-anchor=\"middle\" x=\"50%\" y=\"2em\">ה</text></svg></svg><line stroke=\"black\" x1=\"50%\" x2=\"50%\" y1=\"1.2em\" y2=\"1.2em\" /></svg><line stroke=\"black\" x1=\"50%\" x2=\"18.75%\" y1=\"1.2em\" y2=\"1.2em\" /><svg width=\"62.5%\" x=\"37.5%\" y=\"1.2em\"><defs /><svg width=\"100%\" x=\"0\" y=\"0em\"><defs /><text text-anchor=\"middle\" x=\"50%\" y=\"1em\">NN</text></svg><svg width=\"100%\" x=\"0%\" y=\"1.2em\"><defs /><svg width=\"100%\" x=\"0\" y=\"0em\"><defs /><text text-anchor=\"middle\" x=\"50%\" y=\"1em\">fkn</text><text text-anchor=\"middle\" x=\"50%\" y=\"2em\">שכנ</text></svg></svg><line stroke=\"black\" x1=\"50%\" x2=\"50%\" y1=\"1.2em\" y2=\"1.2em\" /></svg><line stroke=\"black\" x1=\"50%\" x2=\"68.75%\" y1=\"1.2em\" y2=\"1.2em\" /></svg><line stroke=\"black\" x1=\"50%\" x2=\"50%\" y1=\"1.2em\" y2=\"1.2em\" /></svg><line stroke=\"black\" x1=\"50%\" x2=\"60%\" y1=\"1.2em\" y2=\"1.2em\" /><svg width=\"24%\" x=\"76%\" y=\"1.2em\"><defs /><svg width=\"100%\" x=\"0\" y=\"0em\"><defs /><text text-anchor=\"middle\" x=\"50%\" y=\"1em\">yyQM</text></svg><svg width=\"100%\" x=\"0%\" y=\"3.6em\"><defs /><svg width=\"100%\" x=\"0\" y=\"0.5em\"><defs /><text text-anchor=\"middle\" x=\"50%\" y=\"1em\">?</text></svg></svg><line stroke=\"black\" x1=\"50%\" x2=\"50%\" y1=\"1.2em\" y2=\"4.1em\" /></svg><line stroke=\"black\" x1=\"50%\" x2=\"88%\" y1=\"1.2em\" y2=\"1.2em\" /></svg><line stroke=\"black\" x1=\"50%\" x2=\"50%\" y1=\"1.2em\" y2=\"1.2em\" /><rect fill=\"gray\" fill-opacity=\"0.15\" height=\"6.1em\" rx=\"8\" ry=\"8\" stroke=\"none\" stroke-width=\"1\" width=\"24%\" x=\"0%\" y=\"2.4em\" /><rect fill=\"gray\" fill-opacity=\"0.15\" height=\"6.1em\" rx=\"8\" ry=\"8\" stroke=\"none\" stroke-width=\"1\" width=\"24%\" x=\"0%\" y=\"2.4em\" /></svg></svg></svg>"
      ],
      "text/plain": [
       "<svgling.figure.SideBySide at 0x17d5f91fd30>"
      ]
     },
     "metadata": {},
     "output_type": "display_data"
    }
   ],
   "source": [
    "describe(61, [(0,0,)], [(0,0,)])"
   ]
  },
  {
   "cell_type": "markdown",
   "metadata": {},
   "source": [
    "---\n",
    "Many mistakes happen when parsing __proper nouns__, like __people names__, these are more unknown words that aren't treated properly."
   ]
  },
  {
   "cell_type": "code",
   "execution_count": 225,
   "metadata": {},
   "outputs": [
    {
     "data": {
      "text/html": [
       "<h2>Line 71</h2>"
      ],
      "text/plain": [
       "<IPython.core.display.HTML object>"
      ]
     },
     "metadata": {},
     "output_type": "display_data"
    },
    {
     "data": {
      "image/svg+xml": [
       "<svg baseProfile=\"full\" height=\"377.6px\" preserveAspectRatio=\"xMidYMid meet\" version=\"1.1\" viewBox=\"0,0,560.0,377.6\" width=\"560px\" xmlns=\"http://www.w3.org/2000/svg\" xmlns:ev=\"http://www.w3.org/2001/xml-events\" xmlns:xlink=\"http://www.w3.org/1999/xlink\"><defs /><svg height=\"155.2\" style=\"font-family: times, serif; font-weight:normal; font-style: normal; font-size: 16px;\" width=\"560.0\" x=\"0\" y=\"16\"><defs /><svg baseProfile=\"full\" height=\"155.2px\" preserveAspectRatio=\"xMidYMid meet\" style=\"font-family: times, serif; font-weight:normal; font-style: normal; font-size: 16px;\" version=\"1.1\" viewBox=\"0,0,560.0,155.2\" width=\"560px\" xmlns=\"http://www.w3.org/2000/svg\" xmlns:ev=\"http://www.w3.org/2001/xml-events\" xmlns:xlink=\"http://www.w3.org/1999/xlink\"><defs /><svg width=\"100%\" x=\"0\" y=\"0em\"><defs /><text text-anchor=\"middle\" x=\"50%\" y=\"1em\">TOP</text></svg><svg width=\"100%\" x=\"0%\" y=\"1.2em\"><defs /><svg width=\"100%\" x=\"0\" y=\"0em\"><defs /><text text-anchor=\"middle\" x=\"50%\" y=\"1em\">S</text></svg><svg width=\"11.4286%\" x=\"0%\" y=\"1.2em\"><defs /><svg width=\"100%\" x=\"0\" y=\"0em\"><defs /><text text-anchor=\"middle\" x=\"50%\" y=\"1em\">yyQUOT</text></svg><svg width=\"100%\" x=\"0%\" y=\"4.8em\"><defs /><svg width=\"100%\" x=\"0\" y=\"0.5em\"><defs /><text text-anchor=\"middle\" x=\"50%\" y=\"1em\">\"</text></svg></svg><line stroke=\"black\" x1=\"50%\" x2=\"50%\" y1=\"1.2em\" y2=\"5.3em\" /></svg><line stroke=\"black\" x1=\"50%\" x2=\"5.71429%\" y1=\"1.2em\" y2=\"1.2em\" /><svg width=\"67.1429%\" x=\"11.4286%\" y=\"1.2em\"><defs /><svg width=\"100%\" x=\"0\" y=\"0em\"><defs /><text text-anchor=\"middle\" x=\"50%\" y=\"1em\">S</text></svg><svg width=\"61.7021%\" x=\"0%\" y=\"1.2em\"><defs /><svg width=\"100%\" x=\"0\" y=\"0em\"><defs /><text text-anchor=\"middle\" x=\"50%\" y=\"1em\">ADVP</text></svg><svg width=\"17.2414%\" x=\"0%\" y=\"1.2em\"><defs /><svg width=\"100%\" x=\"0\" y=\"0em\"><defs /><text text-anchor=\"middle\" x=\"50%\" y=\"1em\">MOD</text></svg><svg width=\"100%\" x=\"0%\" y=\"2.4em\"><defs /><svg width=\"100%\" x=\"0\" y=\"0em\"><defs /><text text-anchor=\"middle\" x=\"50%\" y=\"1em\">gm</text><text text-anchor=\"middle\" x=\"50%\" y=\"2em\">גמ</text></svg></svg><line stroke=\"black\" x1=\"50%\" x2=\"50%\" y1=\"1.2em\" y2=\"2.4em\" /></svg><line stroke=\"black\" x1=\"50%\" x2=\"8.62069%\" y1=\"1.2em\" y2=\"1.2em\" /><svg width=\"82.7586%\" x=\"17.2414%\" y=\"1.2em\"><defs /><svg width=\"100%\" x=\"0\" y=\"0em\"><defs /><text text-anchor=\"middle\" x=\"50%\" y=\"1em\">ADVP</text></svg><svg width=\"16.6667%\" x=\"0%\" y=\"1.2em\"><defs /><svg width=\"100%\" x=\"0\" y=\"0em\"><defs /><text text-anchor=\"middle\" x=\"50%\" y=\"1em\">IN</text></svg><svg width=\"100%\" x=\"0%\" y=\"1.2em\"><defs /><svg width=\"100%\" x=\"0\" y=\"0em\"><defs /><text text-anchor=\"middle\" x=\"50%\" y=\"1em\">el</text><text text-anchor=\"middle\" x=\"50%\" y=\"2em\">על</text></svg></svg><line stroke=\"black\" x1=\"50%\" x2=\"50%\" y1=\"1.2em\" y2=\"1.2em\" /></svg><line stroke=\"black\" x1=\"50%\" x2=\"8.33333%\" y1=\"1.2em\" y2=\"1.2em\" /><svg width=\"29.1667%\" x=\"16.6667%\" y=\"1.2em\"><defs /><svg width=\"100%\" x=\"0\" y=\"0em\"><defs /><text text-anchor=\"middle\" x=\"50%\" y=\"1em\">NNT</text></svg><svg width=\"100%\" x=\"0%\" y=\"1.2em\"><defs /><svg width=\"100%\" x=\"0\" y=\"0em\"><defs /><text text-anchor=\"middle\" x=\"50%\" y=\"1em\">rwnld</text><text text-anchor=\"middle\" x=\"50%\" y=\"2em\">רונלד</text></svg></svg><line stroke=\"black\" x1=\"50%\" x2=\"50%\" y1=\"1.2em\" y2=\"1.2em\" /></svg><line stroke=\"black\" x1=\"50%\" x2=\"31.25%\" y1=\"1.2em\" y2=\"1.2em\" /><svg width=\"33.3333%\" x=\"45.8333%\" y=\"1.2em\"><defs /><svg width=\"100%\" x=\"0\" y=\"0em\"><defs /><text text-anchor=\"middle\" x=\"50%\" y=\"1em\">yyDASH</text></svg><svg width=\"100%\" x=\"0%\" y=\"1.2em\"><defs /><svg width=\"100%\" x=\"0\" y=\"0em\"><defs /><text text-anchor=\"middle\" x=\"50%\" y=\"1em\">riign</text><text text-anchor=\"middle\" x=\"50%\" y=\"2em\">רייגנ</text></svg></svg><line stroke=\"black\" x1=\"50%\" x2=\"50%\" y1=\"1.2em\" y2=\"1.2em\" /></svg><line stroke=\"black\" x1=\"50%\" x2=\"62.5%\" y1=\"1.2em\" y2=\"1.2em\" /><svg width=\"20.8333%\" x=\"79.1667%\" y=\"1.2em\"><defs /><svg width=\"100%\" x=\"0\" y=\"0em\"><defs /><text text-anchor=\"middle\" x=\"50%\" y=\"1em\">NN</text></svg><svg width=\"100%\" x=\"0%\" y=\"1.2em\"><defs /><svg width=\"100%\" x=\"0\" y=\"0em\"><defs /><text text-anchor=\"middle\" x=\"50%\" y=\"1em\">aif</text><text text-anchor=\"middle\" x=\"50%\" y=\"2em\">איש</text></svg></svg><line stroke=\"black\" x1=\"50%\" x2=\"50%\" y1=\"1.2em\" y2=\"1.2em\" /></svg><line stroke=\"black\" x1=\"50%\" x2=\"89.5833%\" y1=\"1.2em\" y2=\"1.2em\" /></svg><line stroke=\"black\" x1=\"50%\" x2=\"58.6207%\" y1=\"1.2em\" y2=\"1.2em\" /></svg><line stroke=\"black\" x1=\"50%\" x2=\"30.8511%\" y1=\"1.2em\" y2=\"1.2em\" /><svg width=\"12.766%\" x=\"61.7021%\" y=\"1.2em\"><defs /><svg width=\"100%\" x=\"0\" y=\"0em\"><defs /><text text-anchor=\"middle\" x=\"50%\" y=\"1em\">ADVP</text></svg><svg width=\"100%\" x=\"0%\" y=\"1.2em\"><defs /><svg width=\"100%\" x=\"0\" y=\"0em\"><defs /><text text-anchor=\"middle\" x=\"50%\" y=\"1em\">RB</text></svg><svg width=\"100%\" x=\"0%\" y=\"2.4em\"><defs /><svg width=\"100%\" x=\"0\" y=\"0em\"><defs /><text text-anchor=\"middle\" x=\"50%\" y=\"1em\">la</text><text text-anchor=\"middle\" x=\"50%\" y=\"2em\">לא</text></svg></svg><line stroke=\"black\" x1=\"50%\" x2=\"50%\" y1=\"1.2em\" y2=\"2.4em\" /></svg><line stroke=\"black\" x1=\"50%\" x2=\"50%\" y1=\"1.2em\" y2=\"1.2em\" /></svg><line stroke=\"black\" x1=\"50%\" x2=\"68.0851%\" y1=\"1.2em\" y2=\"1.2em\" /><svg width=\"10.6383%\" x=\"74.4681%\" y=\"1.2em\"><defs /><svg width=\"100%\" x=\"0\" y=\"0em\"><defs /><text text-anchor=\"middle\" x=\"50%\" y=\"1em\">AUX</text></svg><svg width=\"100%\" x=\"0%\" y=\"3.6em\"><defs /><svg width=\"100%\" x=\"0\" y=\"0em\"><defs /><text text-anchor=\"middle\" x=\"50%\" y=\"1em\">hih</text><text text-anchor=\"middle\" x=\"50%\" y=\"2em\">היה</text></svg></svg><line stroke=\"black\" x1=\"50%\" x2=\"50%\" y1=\"1.2em\" y2=\"3.6em\" /></svg><line stroke=\"black\" x1=\"50%\" x2=\"79.7872%\" y1=\"1.2em\" y2=\"1.2em\" /><svg width=\"14.8936%\" x=\"85.1064%\" y=\"1.2em\"><defs /><svg width=\"100%\" x=\"0\" y=\"0em\"><defs /><text text-anchor=\"middle\" x=\"50%\" y=\"1em\">VP</text></svg><svg width=\"100%\" x=\"0%\" y=\"1.2em\"><defs /><svg width=\"100%\" x=\"0\" y=\"0em\"><defs /><text text-anchor=\"middle\" x=\"50%\" y=\"1em\">VB</text></svg><svg width=\"100%\" x=\"0%\" y=\"2.4em\"><defs /><svg width=\"100%\" x=\"0\" y=\"0em\"><defs /><text text-anchor=\"middle\" x=\"50%\" y=\"1em\">mamin</text><text text-anchor=\"middle\" x=\"50%\" y=\"2em\">מאמינ</text></svg></svg><line stroke=\"black\" x1=\"50%\" x2=\"50%\" y1=\"1.2em\" y2=\"2.4em\" /></svg><line stroke=\"black\" x1=\"50%\" x2=\"50%\" y1=\"1.2em\" y2=\"1.2em\" /></svg><line stroke=\"black\" x1=\"50%\" x2=\"92.5532%\" y1=\"1.2em\" y2=\"1.2em\" /></svg><line stroke=\"black\" x1=\"50%\" x2=\"45%\" y1=\"1.2em\" y2=\"1.2em\" /><svg width=\"11.4286%\" x=\"78.5714%\" y=\"1.2em\"><defs /><svg width=\"100%\" x=\"0\" y=\"0em\"><defs /><text text-anchor=\"middle\" x=\"50%\" y=\"1em\">yyQUOT</text></svg><svg width=\"100%\" x=\"0%\" y=\"4.8em\"><defs /><svg width=\"100%\" x=\"0\" y=\"0.5em\"><defs /><text text-anchor=\"middle\" x=\"50%\" y=\"1em\">\"</text></svg></svg><line stroke=\"black\" x1=\"50%\" x2=\"50%\" y1=\"1.2em\" y2=\"5.3em\" /></svg><line stroke=\"black\" x1=\"50%\" x2=\"84.2857%\" y1=\"1.2em\" y2=\"1.2em\" /><svg width=\"10%\" x=\"90%\" y=\"1.2em\"><defs /><svg width=\"100%\" x=\"0\" y=\"0em\"><defs /><text text-anchor=\"middle\" x=\"50%\" y=\"1em\">yyDOT</text></svg><svg width=\"100%\" x=\"0%\" y=\"4.8em\"><defs /><svg width=\"100%\" x=\"0\" y=\"0.5em\"><defs /><text text-anchor=\"middle\" x=\"50%\" y=\"1em\">.</text></svg></svg><line stroke=\"black\" x1=\"50%\" x2=\"50%\" y1=\"1.2em\" y2=\"5.3em\" /></svg><line stroke=\"black\" x1=\"50%\" x2=\"95%\" y1=\"1.2em\" y2=\"1.2em\" /></svg><line stroke=\"black\" x1=\"50%\" x2=\"50%\" y1=\"1.2em\" y2=\"1.2em\" /><rect fill=\"gray\" fill-opacity=\"0.15\" height=\"3.7em\" rx=\"8\" ry=\"8\" stroke=\"none\" stroke-width=\"1\" width=\"11.4286%\" x=\"34.2857%\" y=\"6em\" /><rect fill=\"gray\" fill-opacity=\"0.15\" height=\"3.7em\" rx=\"8\" ry=\"8\" stroke=\"none\" stroke-width=\"1\" width=\"11.4286%\" x=\"34.2857%\" y=\"6em\" /></svg></svg><svg height=\"174.4\" style=\"font-family: times, serif; font-weight:normal; font-style: normal; font-size: 16px;\" width=\"560.0\" x=\"0\" y=\"187.2\"><defs /><svg baseProfile=\"full\" height=\"174.4px\" preserveAspectRatio=\"xMidYMid meet\" style=\"font-family: times, serif; font-weight:normal; font-style: normal; font-size: 16px;\" version=\"1.1\" viewBox=\"0,0,560.0,174.4\" width=\"560px\" xmlns=\"http://www.w3.org/2000/svg\" xmlns:ev=\"http://www.w3.org/2001/xml-events\" xmlns:xlink=\"http://www.w3.org/1999/xlink\"><defs /><svg width=\"100%\" x=\"0\" y=\"0em\"><defs /><text text-anchor=\"middle\" x=\"50%\" y=\"1em\">TOP</text></svg><svg width=\"100%\" x=\"0%\" y=\"1.2em\"><defs /><svg width=\"100%\" x=\"0\" y=\"0em\"><defs /><text text-anchor=\"middle\" x=\"50%\" y=\"1em\">S</text></svg><svg width=\"11.4286%\" x=\"0%\" y=\"1.2em\"><defs /><svg width=\"100%\" x=\"0\" y=\"0em\"><defs /><text text-anchor=\"middle\" x=\"50%\" y=\"1em\">yyQUOT</text></svg><svg width=\"100%\" x=\"0%\" y=\"6em\"><defs /><svg width=\"100%\" x=\"0\" y=\"0.5em\"><defs /><text text-anchor=\"middle\" x=\"50%\" y=\"1em\">\"</text></svg></svg><line stroke=\"black\" x1=\"50%\" x2=\"50%\" y1=\"1.2em\" y2=\"6.5em\" /></svg><line stroke=\"black\" x1=\"50%\" x2=\"5.71429%\" y1=\"1.2em\" y2=\"1.2em\" /><svg width=\"67.1429%\" x=\"11.4286%\" y=\"1.2em\"><defs /><svg width=\"100%\" x=\"0\" y=\"0em\"><defs /><text text-anchor=\"middle\" x=\"50%\" y=\"1em\">S</text></svg><svg width=\"12.766%\" x=\"0%\" y=\"1.2em\"><defs /><svg width=\"100%\" x=\"0\" y=\"0em\"><defs /><text text-anchor=\"middle\" x=\"50%\" y=\"1em\">ADVP</text></svg><svg width=\"100%\" x=\"0%\" y=\"1.2em\"><defs /><svg width=\"100%\" x=\"0\" y=\"0em\"><defs /><text text-anchor=\"middle\" x=\"50%\" y=\"1em\">RB</text></svg><svg width=\"100%\" x=\"0%\" y=\"3.6em\"><defs /><svg width=\"100%\" x=\"0\" y=\"0em\"><defs /><text text-anchor=\"middle\" x=\"50%\" y=\"1em\">gm</text><text text-anchor=\"middle\" x=\"50%\" y=\"2em\">גמ</text></svg></svg><line stroke=\"black\" x1=\"50%\" x2=\"50%\" y1=\"1.2em\" y2=\"3.6em\" /></svg><line stroke=\"black\" x1=\"50%\" x2=\"50%\" y1=\"1.2em\" y2=\"1.2em\" /></svg><line stroke=\"black\" x1=\"50%\" x2=\"6.38298%\" y1=\"1.2em\" y2=\"1.2em\" /><svg width=\"38.2979%\" x=\"12.766%\" y=\"1.2em\"><defs /><svg width=\"100%\" x=\"0\" y=\"0em\"><defs /><text text-anchor=\"middle\" x=\"50%\" y=\"1em\">PP</text></svg><svg width=\"22.2222%\" x=\"0%\" y=\"1.2em\"><defs /><svg width=\"100%\" x=\"0\" y=\"0em\"><defs /><text text-anchor=\"middle\" x=\"50%\" y=\"1em\">IN</text></svg><svg width=\"100%\" x=\"0%\" y=\"3.6em\"><defs /><svg width=\"100%\" x=\"0\" y=\"0em\"><defs /><text text-anchor=\"middle\" x=\"50%\" y=\"1em\">el</text><text text-anchor=\"middle\" x=\"50%\" y=\"2em\">על</text></svg></svg><line stroke=\"black\" x1=\"50%\" x2=\"50%\" y1=\"1.2em\" y2=\"3.6em\" /></svg><line stroke=\"black\" x1=\"50%\" x2=\"11.1111%\" y1=\"1.2em\" y2=\"1.2em\" /><svg width=\"77.7778%\" x=\"22.2222%\" y=\"1.2em\"><defs /><svg width=\"100%\" x=\"0\" y=\"0em\"><defs /><text text-anchor=\"middle\" x=\"50%\" y=\"1em\">NP</text></svg><svg width=\"100%\" x=\"0%\" y=\"1.2em\"><defs /><svg width=\"100%\" x=\"0\" y=\"0em\"><defs /><text text-anchor=\"middle\" x=\"50%\" y=\"1em\">NNPP</text></svg><svg width=\"50%\" x=\"0%\" y=\"1.2em\"><defs /><svg width=\"100%\" x=\"0\" y=\"0em\"><defs /><text text-anchor=\"middle\" x=\"50%\" y=\"1em\">NNP</text></svg><svg width=\"100%\" x=\"0%\" y=\"1.2em\"><defs /><svg width=\"100%\" x=\"0\" y=\"0em\"><defs /><text text-anchor=\"middle\" x=\"50%\" y=\"1em\">rwnld</text><text text-anchor=\"middle\" x=\"50%\" y=\"2em\">רונלד</text></svg></svg><line stroke=\"black\" x1=\"50%\" x2=\"50%\" y1=\"1.2em\" y2=\"1.2em\" /></svg><line stroke=\"black\" x1=\"50%\" x2=\"25%\" y1=\"1.2em\" y2=\"1.2em\" /><svg width=\"50%\" x=\"50%\" y=\"1.2em\"><defs /><svg width=\"100%\" x=\"0\" y=\"0em\"><defs /><text text-anchor=\"middle\" x=\"50%\" y=\"1em\">NNP</text></svg><svg width=\"100%\" x=\"0%\" y=\"1.2em\"><defs /><svg width=\"100%\" x=\"0\" y=\"0em\"><defs /><text text-anchor=\"middle\" x=\"50%\" y=\"1em\">riign</text><text text-anchor=\"middle\" x=\"50%\" y=\"2em\">רייגנ</text></svg></svg><line stroke=\"black\" x1=\"50%\" x2=\"50%\" y1=\"1.2em\" y2=\"1.2em\" /></svg><line stroke=\"black\" x1=\"50%\" x2=\"75%\" y1=\"1.2em\" y2=\"1.2em\" /></svg><line stroke=\"black\" x1=\"50%\" x2=\"50%\" y1=\"1.2em\" y2=\"1.2em\" /></svg><line stroke=\"black\" x1=\"50%\" x2=\"61.1111%\" y1=\"1.2em\" y2=\"1.2em\" /></svg><line stroke=\"black\" x1=\"50%\" x2=\"31.9149%\" y1=\"1.2em\" y2=\"1.2em\" /><svg width=\"10.6383%\" x=\"51.0638%\" y=\"1.2em\"><defs /><svg width=\"100%\" x=\"0\" y=\"0em\"><defs /><text text-anchor=\"middle\" x=\"50%\" y=\"1em\">NP</text></svg><svg width=\"100%\" x=\"0%\" y=\"1.2em\"><defs /><svg width=\"100%\" x=\"0\" y=\"0em\"><defs /><text text-anchor=\"middle\" x=\"50%\" y=\"1em\">NN</text></svg><svg width=\"100%\" x=\"0%\" y=\"3.6em\"><defs /><svg width=\"100%\" x=\"0\" y=\"0em\"><defs /><text text-anchor=\"middle\" x=\"50%\" y=\"1em\">aif</text><text text-anchor=\"middle\" x=\"50%\" y=\"2em\">איש</text></svg></svg><line stroke=\"black\" x1=\"50%\" x2=\"50%\" y1=\"1.2em\" y2=\"3.6em\" /></svg><line stroke=\"black\" x1=\"50%\" x2=\"50%\" y1=\"1.2em\" y2=\"1.2em\" /></svg><line stroke=\"black\" x1=\"50%\" x2=\"56.383%\" y1=\"1.2em\" y2=\"1.2em\" /><svg width=\"12.766%\" x=\"61.7021%\" y=\"1.2em\"><defs /><svg width=\"100%\" x=\"0\" y=\"0em\"><defs /><text text-anchor=\"middle\" x=\"50%\" y=\"1em\">ADVP</text></svg><svg width=\"100%\" x=\"0%\" y=\"1.2em\"><defs /><svg width=\"100%\" x=\"0\" y=\"0em\"><defs /><text text-anchor=\"middle\" x=\"50%\" y=\"1em\">RB</text></svg><svg width=\"100%\" x=\"0%\" y=\"3.6em\"><defs /><svg width=\"100%\" x=\"0\" y=\"0em\"><defs /><text text-anchor=\"middle\" x=\"50%\" y=\"1em\">la</text><text text-anchor=\"middle\" x=\"50%\" y=\"2em\">לא</text></svg></svg><line stroke=\"black\" x1=\"50%\" x2=\"50%\" y1=\"1.2em\" y2=\"3.6em\" /></svg><line stroke=\"black\" x1=\"50%\" x2=\"50%\" y1=\"1.2em\" y2=\"1.2em\" /></svg><line stroke=\"black\" x1=\"50%\" x2=\"68.0851%\" y1=\"1.2em\" y2=\"1.2em\" /><svg width=\"10.6383%\" x=\"74.4681%\" y=\"1.2em\"><defs /><svg width=\"100%\" x=\"0\" y=\"0em\"><defs /><text text-anchor=\"middle\" x=\"50%\" y=\"1em\">AUX</text></svg><svg width=\"100%\" x=\"0%\" y=\"4.8em\"><defs /><svg width=\"100%\" x=\"0\" y=\"0em\"><defs /><text text-anchor=\"middle\" x=\"50%\" y=\"1em\">hih</text><text text-anchor=\"middle\" x=\"50%\" y=\"2em\">היה</text></svg></svg><line stroke=\"black\" x1=\"50%\" x2=\"50%\" y1=\"1.2em\" y2=\"4.8em\" /></svg><line stroke=\"black\" x1=\"50%\" x2=\"79.7872%\" y1=\"1.2em\" y2=\"1.2em\" /><svg width=\"14.8936%\" x=\"85.1064%\" y=\"1.2em\"><defs /><svg width=\"100%\" x=\"0\" y=\"0em\"><defs /><text text-anchor=\"middle\" x=\"50%\" y=\"1em\">VP</text></svg><svg width=\"100%\" x=\"0%\" y=\"1.2em\"><defs /><svg width=\"100%\" x=\"0\" y=\"0em\"><defs /><text text-anchor=\"middle\" x=\"50%\" y=\"1em\">VB</text></svg><svg width=\"100%\" x=\"0%\" y=\"3.6em\"><defs /><svg width=\"100%\" x=\"0\" y=\"0em\"><defs /><text text-anchor=\"middle\" x=\"50%\" y=\"1em\">mamin</text><text text-anchor=\"middle\" x=\"50%\" y=\"2em\">מאמינ</text></svg></svg><line stroke=\"black\" x1=\"50%\" x2=\"50%\" y1=\"1.2em\" y2=\"3.6em\" /></svg><line stroke=\"black\" x1=\"50%\" x2=\"50%\" y1=\"1.2em\" y2=\"1.2em\" /></svg><line stroke=\"black\" x1=\"50%\" x2=\"92.5532%\" y1=\"1.2em\" y2=\"1.2em\" /></svg><line stroke=\"black\" x1=\"50%\" x2=\"45%\" y1=\"1.2em\" y2=\"1.2em\" /><svg width=\"11.4286%\" x=\"78.5714%\" y=\"1.2em\"><defs /><svg width=\"100%\" x=\"0\" y=\"0em\"><defs /><text text-anchor=\"middle\" x=\"50%\" y=\"1em\">yyQUOT</text></svg><svg width=\"100%\" x=\"0%\" y=\"6em\"><defs /><svg width=\"100%\" x=\"0\" y=\"0.5em\"><defs /><text text-anchor=\"middle\" x=\"50%\" y=\"1em\">\"</text></svg></svg><line stroke=\"black\" x1=\"50%\" x2=\"50%\" y1=\"1.2em\" y2=\"6.5em\" /></svg><line stroke=\"black\" x1=\"50%\" x2=\"84.2857%\" y1=\"1.2em\" y2=\"1.2em\" /><svg width=\"10%\" x=\"90%\" y=\"1.2em\"><defs /><svg width=\"100%\" x=\"0\" y=\"0em\"><defs /><text text-anchor=\"middle\" x=\"50%\" y=\"1em\">yyDOT</text></svg><svg width=\"100%\" x=\"0%\" y=\"6em\"><defs /><svg width=\"100%\" x=\"0\" y=\"0.5em\"><defs /><text text-anchor=\"middle\" x=\"50%\" y=\"1em\">.</text></svg></svg><line stroke=\"black\" x1=\"50%\" x2=\"50%\" y1=\"1.2em\" y2=\"6.5em\" /></svg><line stroke=\"black\" x1=\"50%\" x2=\"95%\" y1=\"1.2em\" y2=\"1.2em\" /></svg><line stroke=\"black\" x1=\"50%\" x2=\"50%\" y1=\"1.2em\" y2=\"1.2em\" /><rect fill=\"gray\" fill-opacity=\"0.15\" height=\"6.1em\" rx=\"8\" ry=\"8\" stroke=\"none\" stroke-width=\"1\" width=\"20%\" x=\"25.7143%\" y=\"4.8em\" /><rect fill=\"gray\" fill-opacity=\"0.15\" height=\"6.1em\" rx=\"8\" ry=\"8\" stroke=\"none\" stroke-width=\"1\" width=\"20%\" x=\"25.7143%\" y=\"4.8em\" /></svg></svg></svg>"
      ],
      "text/plain": [
       "<svgling.figure.RowByRow at 0x17d5f781d30>"
      ]
     },
     "metadata": {},
     "output_type": "display_data"
    },
    {
     "data": {
      "text/html": [
       "<h2>Line 83</h2>"
      ],
      "text/plain": [
       "<IPython.core.display.HTML object>"
      ]
     },
     "metadata": {},
     "output_type": "display_data"
    },
    {
     "data": {
      "image/svg+xml": [
       "<svg baseProfile=\"full\" height=\"193.6px\" preserveAspectRatio=\"xMidYMid meet\" version=\"1.1\" viewBox=\"0,0,896.0,193.6\" width=\"896px\" xmlns=\"http://www.w3.org/2000/svg\" xmlns:ev=\"http://www.w3.org/2001/xml-events\" xmlns:xlink=\"http://www.w3.org/1999/xlink\"><defs /><svg height=\"155.2\" width=\"424.0\" x=\"16\" y=\"0\"><defs /><svg baseProfile=\"full\" height=\"155.2px\" preserveAspectRatio=\"xMidYMid meet\" style=\"font-family: times, serif; font-weight:normal; font-style: normal; font-size: 16px;\" version=\"1.1\" viewBox=\"0,0,424.0,155.2\" width=\"424px\" xmlns=\"http://www.w3.org/2000/svg\" xmlns:ev=\"http://www.w3.org/2001/xml-events\" xmlns:xlink=\"http://www.w3.org/1999/xlink\"><defs /><svg width=\"100%\" x=\"0\" y=\"0em\"><defs /><text text-anchor=\"middle\" x=\"50%\" y=\"1em\">TOP</text></svg><svg width=\"100%\" x=\"0%\" y=\"1.2em\"><defs /><svg width=\"100%\" x=\"0\" y=\"0em\"><defs /><text text-anchor=\"middle\" x=\"50%\" y=\"1em\">S</text></svg><svg width=\"11.3208%\" x=\"0%\" y=\"1.2em\"><defs /><svg width=\"100%\" x=\"0\" y=\"0em\"><defs /><text text-anchor=\"middle\" x=\"50%\" y=\"1em\">ADVP</text></svg><svg width=\"100%\" x=\"0%\" y=\"1.2em\"><defs /><svg width=\"100%\" x=\"0\" y=\"0em\"><defs /><text text-anchor=\"middle\" x=\"50%\" y=\"1em\">RB</text></svg><svg width=\"100%\" x=\"0%\" y=\"3.6em\"><defs /><svg width=\"100%\" x=\"0\" y=\"0em\"><defs /><text text-anchor=\"middle\" x=\"50%\" y=\"1em\">maz</text><text text-anchor=\"middle\" x=\"50%\" y=\"2em\">מאז</text></svg></svg><line stroke=\"black\" x1=\"50%\" x2=\"50%\" y1=\"1.2em\" y2=\"3.6em\" /></svg><line stroke=\"black\" x1=\"50%\" x2=\"50%\" y1=\"1.2em\" y2=\"1.2em\" /></svg><line stroke=\"black\" x1=\"50%\" x2=\"5.66038%\" y1=\"1.2em\" y2=\"1.2em\" /><svg width=\"11.3208%\" x=\"11.3208%\" y=\"1.2em\"><defs /><svg width=\"100%\" x=\"0\" y=\"0em\"><defs /><text text-anchor=\"middle\" x=\"50%\" y=\"1em\">AUX</text></svg><svg width=\"100%\" x=\"0%\" y=\"4.8em\"><defs /><svg width=\"100%\" x=\"0\" y=\"0em\"><defs /><text text-anchor=\"middle\" x=\"50%\" y=\"1em\">hith</text><text text-anchor=\"middle\" x=\"50%\" y=\"2em\">היתה</text></svg></svg><line stroke=\"black\" x1=\"50%\" x2=\"50%\" y1=\"1.2em\" y2=\"4.8em\" /></svg><line stroke=\"black\" x1=\"50%\" x2=\"16.9811%\" y1=\"1.2em\" y2=\"1.2em\" /><svg width=\"28.3019%\" x=\"22.6415%\" y=\"1.2em\"><defs /><svg width=\"100%\" x=\"0\" y=\"0em\"><defs /><text text-anchor=\"middle\" x=\"50%\" y=\"1em\">NP</text></svg><svg width=\"60%\" x=\"0%\" y=\"1.2em\"><defs /><svg width=\"100%\" x=\"0\" y=\"0em\"><defs /><text text-anchor=\"middle\" x=\"50%\" y=\"1em\">H</text></svg><svg width=\"100%\" x=\"0%\" y=\"3.6em\"><defs /><svg width=\"100%\" x=\"0\" y=\"0em\"><defs /><text text-anchor=\"middle\" x=\"50%\" y=\"1em\">ricards</text><text text-anchor=\"middle\" x=\"50%\" y=\"2em\">ריצארדס</text></svg></svg><line stroke=\"black\" x1=\"50%\" x2=\"50%\" y1=\"1.2em\" y2=\"3.6em\" /></svg><line stroke=\"black\" x1=\"50%\" x2=\"30%\" y1=\"1.2em\" y2=\"1.2em\" /><svg width=\"40%\" x=\"60%\" y=\"1.2em\"><defs /><svg width=\"100%\" x=\"0\" y=\"0em\"><defs /><text text-anchor=\"middle\" x=\"50%\" y=\"1em\">NN</text></svg><svg width=\"100%\" x=\"0%\" y=\"3.6em\"><defs /><svg width=\"100%\" x=\"0\" y=\"0em\"><defs /><text text-anchor=\"middle\" x=\"50%\" y=\"1em\">dmwt</text><text text-anchor=\"middle\" x=\"50%\" y=\"2em\">דמות</text></svg></svg><line stroke=\"black\" x1=\"50%\" x2=\"50%\" y1=\"1.2em\" y2=\"3.6em\" /></svg><line stroke=\"black\" x1=\"50%\" x2=\"80%\" y1=\"1.2em\" y2=\"1.2em\" /></svg><line stroke=\"black\" x1=\"50%\" x2=\"36.7925%\" y1=\"1.2em\" y2=\"1.2em\" /><svg width=\"35.8491%\" x=\"50.9434%\" y=\"1.2em\"><defs /><svg width=\"100%\" x=\"0\" y=\"0em\"><defs /><text text-anchor=\"middle\" x=\"50%\" y=\"1em\">PREDP</text></svg><svg width=\"36.8421%\" x=\"0%\" y=\"1.2em\"><defs /><svg width=\"100%\" x=\"0\" y=\"0em\"><defs /><text text-anchor=\"middle\" x=\"50%\" y=\"1em\">AGR</text></svg><svg width=\"100%\" x=\"0%\" y=\"3.6em\"><defs /><svg width=\"100%\" x=\"0\" y=\"0em\"><defs /><text text-anchor=\"middle\" x=\"50%\" y=\"1em\">fnwih</text><text text-anchor=\"middle\" x=\"50%\" y=\"2em\">שנויה</text></svg></svg><line stroke=\"black\" x1=\"50%\" x2=\"50%\" y1=\"1.2em\" y2=\"3.6em\" /></svg><line stroke=\"black\" x1=\"50%\" x2=\"18.4211%\" y1=\"1.2em\" y2=\"1.2em\" /><svg width=\"63.1579%\" x=\"36.8421%\" y=\"1.2em\"><defs /><svg width=\"100%\" x=\"0\" y=\"0em\"><defs /><text text-anchor=\"middle\" x=\"50%\" y=\"1em\">PP</text></svg><svg width=\"33.3333%\" x=\"0%\" y=\"1.2em\"><defs /><svg width=\"100%\" x=\"0\" y=\"0em\"><defs /><text text-anchor=\"middle\" x=\"50%\" y=\"1em\">IN</text></svg><svg width=\"100%\" x=\"0%\" y=\"2.4em\"><defs /><svg width=\"100%\" x=\"0\" y=\"0em\"><defs /><text text-anchor=\"middle\" x=\"50%\" y=\"1em\">b</text><text text-anchor=\"middle\" x=\"50%\" y=\"2em\">ב</text></svg></svg><line stroke=\"black\" x1=\"50%\" x2=\"50%\" y1=\"1.2em\" y2=\"2.4em\" /></svg><line stroke=\"black\" x1=\"50%\" x2=\"16.6667%\" y1=\"1.2em\" y2=\"1.2em\" /><svg width=\"66.6667%\" x=\"33.3333%\" y=\"1.2em\"><defs /><svg width=\"100%\" x=\"0\" y=\"0em\"><defs /><text text-anchor=\"middle\" x=\"50%\" y=\"1em\">NP</text></svg><svg width=\"100%\" x=\"0%\" y=\"1.2em\"><defs /><svg width=\"100%\" x=\"0\" y=\"0em\"><defs /><text text-anchor=\"middle\" x=\"50%\" y=\"1em\">NN</text></svg><svg width=\"100%\" x=\"0%\" y=\"1.2em\"><defs /><svg width=\"100%\" x=\"0\" y=\"0em\"><defs /><text text-anchor=\"middle\" x=\"50%\" y=\"1em\">mxlwqt</text><text text-anchor=\"middle\" x=\"50%\" y=\"2em\">מחלוקת</text></svg></svg><line stroke=\"black\" x1=\"50%\" x2=\"50%\" y1=\"1.2em\" y2=\"1.2em\" /></svg><line stroke=\"black\" x1=\"50%\" x2=\"50%\" y1=\"1.2em\" y2=\"1.2em\" /></svg><line stroke=\"black\" x1=\"50%\" x2=\"66.6667%\" y1=\"1.2em\" y2=\"1.2em\" /></svg><line stroke=\"black\" x1=\"50%\" x2=\"68.4211%\" y1=\"1.2em\" y2=\"1.2em\" /></svg><line stroke=\"black\" x1=\"50%\" x2=\"68.8679%\" y1=\"1.2em\" y2=\"1.2em\" /><svg width=\"13.2075%\" x=\"86.7925%\" y=\"1.2em\"><defs /><svg width=\"100%\" x=\"0\" y=\"0em\"><defs /><text text-anchor=\"middle\" x=\"50%\" y=\"1em\">yyDOT</text></svg><svg width=\"100%\" x=\"0%\" y=\"4.8em\"><defs /><svg width=\"100%\" x=\"0\" y=\"0.5em\"><defs /><text text-anchor=\"middle\" x=\"50%\" y=\"1em\">.</text></svg></svg><line stroke=\"black\" x1=\"50%\" x2=\"50%\" y1=\"1.2em\" y2=\"5.3em\" /></svg><line stroke=\"black\" x1=\"50%\" x2=\"93.3962%\" y1=\"1.2em\" y2=\"1.2em\" /></svg><line stroke=\"black\" x1=\"50%\" x2=\"50%\" y1=\"1.2em\" y2=\"1.2em\" /><rect fill=\"gray\" fill-opacity=\"0.15\" height=\"6.1em\" rx=\"8\" ry=\"8\" stroke=\"none\" stroke-width=\"1\" width=\"16.9811%\" x=\"22.6415%\" y=\"3.6em\" /><rect fill=\"gray\" fill-opacity=\"0.15\" height=\"6.1em\" rx=\"8\" ry=\"8\" stroke=\"none\" stroke-width=\"1\" width=\"16.9811%\" x=\"22.6415%\" y=\"3.6em\" /></svg></svg><svg height=\"193.6\" width=\"424.0\" x=\"456.0\" y=\"0\"><defs /><svg baseProfile=\"full\" height=\"193.6px\" preserveAspectRatio=\"xMidYMid meet\" style=\"font-family: times, serif; font-weight:normal; font-style: normal; font-size: 16px;\" version=\"1.1\" viewBox=\"0,0,424.0,193.6\" width=\"424px\" xmlns=\"http://www.w3.org/2000/svg\" xmlns:ev=\"http://www.w3.org/2001/xml-events\" xmlns:xlink=\"http://www.w3.org/1999/xlink\"><defs /><svg width=\"100%\" x=\"0\" y=\"0em\"><defs /><text text-anchor=\"middle\" x=\"50%\" y=\"1em\">TOP</text></svg><svg width=\"100%\" x=\"0%\" y=\"1.2em\"><defs /><svg width=\"100%\" x=\"0\" y=\"0em\"><defs /><text text-anchor=\"middle\" x=\"50%\" y=\"1em\">S</text></svg><svg width=\"11.3208%\" x=\"0%\" y=\"1.2em\"><defs /><svg width=\"100%\" x=\"0\" y=\"0em\"><defs /><text text-anchor=\"middle\" x=\"50%\" y=\"1em\">ADVP</text></svg><svg width=\"100%\" x=\"0%\" y=\"1.2em\"><defs /><svg width=\"100%\" x=\"0\" y=\"0em\"><defs /><text text-anchor=\"middle\" x=\"50%\" y=\"1em\">RB</text></svg><svg width=\"100%\" x=\"0%\" y=\"6em\"><defs /><svg width=\"100%\" x=\"0\" y=\"0em\"><defs /><text text-anchor=\"middle\" x=\"50%\" y=\"1em\">maz</text><text text-anchor=\"middle\" x=\"50%\" y=\"2em\">מאז</text></svg></svg><line stroke=\"black\" x1=\"50%\" x2=\"50%\" y1=\"1.2em\" y2=\"6em\" /></svg><line stroke=\"black\" x1=\"50%\" x2=\"50%\" y1=\"1.2em\" y2=\"1.2em\" /></svg><line stroke=\"black\" x1=\"50%\" x2=\"5.66038%\" y1=\"1.2em\" y2=\"1.2em\" /><svg width=\"11.3208%\" x=\"11.3208%\" y=\"1.2em\"><defs /><svg width=\"100%\" x=\"0\" y=\"0em\"><defs /><text text-anchor=\"middle\" x=\"50%\" y=\"1em\">AUX</text></svg><svg width=\"100%\" x=\"0%\" y=\"7.2em\"><defs /><svg width=\"100%\" x=\"0\" y=\"0em\"><defs /><text text-anchor=\"middle\" x=\"50%\" y=\"1em\">hith</text><text text-anchor=\"middle\" x=\"50%\" y=\"2em\">היתה</text></svg></svg><line stroke=\"black\" x1=\"50%\" x2=\"50%\" y1=\"1.2em\" y2=\"7.2em\" /></svg><line stroke=\"black\" x1=\"50%\" x2=\"16.9811%\" y1=\"1.2em\" y2=\"1.2em\" /><svg width=\"16.9811%\" x=\"22.6415%\" y=\"1.2em\"><defs /><svg width=\"100%\" x=\"0\" y=\"0em\"><defs /><text text-anchor=\"middle\" x=\"50%\" y=\"1em\">NP</text></svg><svg width=\"100%\" x=\"0%\" y=\"1.2em\"><defs /><svg width=\"100%\" x=\"0\" y=\"0em\"><defs /><text text-anchor=\"middle\" x=\"50%\" y=\"1em\">NNP</text></svg><svg width=\"100%\" x=\"0%\" y=\"6em\"><defs /><svg width=\"100%\" x=\"0\" y=\"0em\"><defs /><text text-anchor=\"middle\" x=\"50%\" y=\"1em\">ricards</text><text text-anchor=\"middle\" x=\"50%\" y=\"2em\">ריצארדס</text></svg></svg><line stroke=\"black\" x1=\"50%\" x2=\"50%\" y1=\"1.2em\" y2=\"6em\" /></svg><line stroke=\"black\" x1=\"50%\" x2=\"50%\" y1=\"1.2em\" y2=\"1.2em\" /></svg><line stroke=\"black\" x1=\"50%\" x2=\"31.1321%\" y1=\"1.2em\" y2=\"1.2em\" /><svg width=\"47.1698%\" x=\"39.6226%\" y=\"1.2em\"><defs /><svg width=\"100%\" x=\"0\" y=\"0em\"><defs /><text text-anchor=\"middle\" x=\"50%\" y=\"1em\">PREDP</text></svg><svg width=\"100%\" x=\"0%\" y=\"1.2em\"><defs /><svg width=\"100%\" x=\"0\" y=\"0em\"><defs /><text text-anchor=\"middle\" x=\"50%\" y=\"1em\">NP</text></svg><svg width=\"24%\" x=\"0%\" y=\"1.2em\"><defs /><svg width=\"100%\" x=\"0\" y=\"0em\"><defs /><text text-anchor=\"middle\" x=\"50%\" y=\"1em\">NP</text></svg><svg width=\"100%\" x=\"0%\" y=\"1.2em\"><defs /><svg width=\"100%\" x=\"0\" y=\"0em\"><defs /><text text-anchor=\"middle\" x=\"50%\" y=\"1em\">NN</text></svg><svg width=\"100%\" x=\"0%\" y=\"3.6em\"><defs /><svg width=\"100%\" x=\"0\" y=\"0em\"><defs /><text text-anchor=\"middle\" x=\"50%\" y=\"1em\">dmwt</text><text text-anchor=\"middle\" x=\"50%\" y=\"2em\">דמות</text></svg></svg><line stroke=\"black\" x1=\"50%\" x2=\"50%\" y1=\"1.2em\" y2=\"3.6em\" /></svg><line stroke=\"black\" x1=\"50%\" x2=\"50%\" y1=\"1.2em\" y2=\"1.2em\" /></svg><line stroke=\"black\" x1=\"50%\" x2=\"12%\" y1=\"1.2em\" y2=\"1.2em\" /><svg width=\"76%\" x=\"24%\" y=\"1.2em\"><defs /><svg width=\"100%\" x=\"0\" y=\"0em\"><defs /><text text-anchor=\"middle\" x=\"50%\" y=\"1em\">ADJP</text></svg><svg width=\"36.8421%\" x=\"0%\" y=\"1.2em\"><defs /><svg width=\"100%\" x=\"0\" y=\"0em\"><defs /><text text-anchor=\"middle\" x=\"50%\" y=\"1em\">ADJP</text></svg><svg width=\"100%\" x=\"0%\" y=\"1.2em\"><defs /><svg width=\"100%\" x=\"0\" y=\"0em\"><defs /><text text-anchor=\"middle\" x=\"50%\" y=\"1em\">JJ</text></svg><svg width=\"100%\" x=\"0%\" y=\"2.4em\"><defs /><svg width=\"100%\" x=\"0\" y=\"0em\"><defs /><text text-anchor=\"middle\" x=\"50%\" y=\"1em\">fnwih</text><text text-anchor=\"middle\" x=\"50%\" y=\"2em\">שנויה</text></svg></svg><line stroke=\"black\" x1=\"50%\" x2=\"50%\" y1=\"1.2em\" y2=\"2.4em\" /></svg><line stroke=\"black\" x1=\"50%\" x2=\"50%\" y1=\"1.2em\" y2=\"1.2em\" /></svg><line stroke=\"black\" x1=\"50%\" x2=\"18.4211%\" y1=\"1.2em\" y2=\"1.2em\" /><svg width=\"63.1579%\" x=\"36.8421%\" y=\"1.2em\"><defs /><svg width=\"100%\" x=\"0\" y=\"0em\"><defs /><text text-anchor=\"middle\" x=\"50%\" y=\"1em\">PP</text></svg><svg width=\"33.3333%\" x=\"0%\" y=\"1.2em\"><defs /><svg width=\"100%\" x=\"0\" y=\"0em\"><defs /><text text-anchor=\"middle\" x=\"50%\" y=\"1em\">IN</text></svg><svg width=\"100%\" x=\"0%\" y=\"2.4em\"><defs /><svg width=\"100%\" x=\"0\" y=\"0em\"><defs /><text text-anchor=\"middle\" x=\"50%\" y=\"1em\">b</text><text text-anchor=\"middle\" x=\"50%\" y=\"2em\">ב</text></svg></svg><line stroke=\"black\" x1=\"50%\" x2=\"50%\" y1=\"1.2em\" y2=\"2.4em\" /></svg><line stroke=\"black\" x1=\"50%\" x2=\"16.6667%\" y1=\"1.2em\" y2=\"1.2em\" /><svg width=\"66.6667%\" x=\"33.3333%\" y=\"1.2em\"><defs /><svg width=\"100%\" x=\"0\" y=\"0em\"><defs /><text text-anchor=\"middle\" x=\"50%\" y=\"1em\">NP</text></svg><svg width=\"100%\" x=\"0%\" y=\"1.2em\"><defs /><svg width=\"100%\" x=\"0\" y=\"0em\"><defs /><text text-anchor=\"middle\" x=\"50%\" y=\"1em\">NN</text></svg><svg width=\"100%\" x=\"0%\" y=\"1.2em\"><defs /><svg width=\"100%\" x=\"0\" y=\"0em\"><defs /><text text-anchor=\"middle\" x=\"50%\" y=\"1em\">mxlwqt</text><text text-anchor=\"middle\" x=\"50%\" y=\"2em\">מחלוקת</text></svg></svg><line stroke=\"black\" x1=\"50%\" x2=\"50%\" y1=\"1.2em\" y2=\"1.2em\" /></svg><line stroke=\"black\" x1=\"50%\" x2=\"50%\" y1=\"1.2em\" y2=\"1.2em\" /></svg><line stroke=\"black\" x1=\"50%\" x2=\"66.6667%\" y1=\"1.2em\" y2=\"1.2em\" /></svg><line stroke=\"black\" x1=\"50%\" x2=\"68.4211%\" y1=\"1.2em\" y2=\"1.2em\" /></svg><line stroke=\"black\" x1=\"50%\" x2=\"62%\" y1=\"1.2em\" y2=\"1.2em\" /></svg><line stroke=\"black\" x1=\"50%\" x2=\"50%\" y1=\"1.2em\" y2=\"1.2em\" /></svg><line stroke=\"black\" x1=\"50%\" x2=\"63.2075%\" y1=\"1.2em\" y2=\"1.2em\" /><svg width=\"13.2075%\" x=\"86.7925%\" y=\"1.2em\"><defs /><svg width=\"100%\" x=\"0\" y=\"0em\"><defs /><text text-anchor=\"middle\" x=\"50%\" y=\"1em\">yyDOT</text></svg><svg width=\"100%\" x=\"0%\" y=\"7.2em\"><defs /><svg width=\"100%\" x=\"0\" y=\"0.5em\"><defs /><text text-anchor=\"middle\" x=\"50%\" y=\"1em\">.</text></svg></svg><line stroke=\"black\" x1=\"50%\" x2=\"50%\" y1=\"1.2em\" y2=\"7.7em\" /></svg><line stroke=\"black\" x1=\"50%\" x2=\"93.3962%\" y1=\"1.2em\" y2=\"1.2em\" /></svg><line stroke=\"black\" x1=\"50%\" x2=\"50%\" y1=\"1.2em\" y2=\"1.2em\" /><rect fill=\"gray\" fill-opacity=\"0.15\" height=\"9.7em\" rx=\"8\" ry=\"8\" stroke=\"none\" stroke-width=\"1\" width=\"16.9811%\" x=\"22.6415%\" y=\"2.4em\" /><rect fill=\"gray\" fill-opacity=\"0.15\" height=\"9.7em\" rx=\"8\" ry=\"8\" stroke=\"none\" stroke-width=\"1\" width=\"16.9811%\" x=\"22.6415%\" y=\"2.4em\" /></svg></svg></svg>"
      ],
      "text/plain": [
       "<svgling.figure.SideBySide at 0x17d5dbf4b70>"
      ]
     },
     "metadata": {},
     "output_type": "display_data"
    },
    {
     "data": {
      "text/html": [
       "<h2>Line 101</h2>"
      ],
      "text/plain": [
       "<IPython.core.display.HTML object>"
      ]
     },
     "metadata": {},
     "output_type": "display_data"
    },
    {
     "data": {
      "image/svg+xml": [
       "<svg baseProfile=\"full\" height=\"174.4px\" preserveAspectRatio=\"xMidYMid meet\" version=\"1.1\" viewBox=\"0,0,800.0,174.4\" width=\"800px\" xmlns=\"http://www.w3.org/2000/svg\" xmlns:ev=\"http://www.w3.org/2001/xml-events\" xmlns:xlink=\"http://www.w3.org/1999/xlink\"><defs /><svg height=\"174.4\" width=\"376.0\" x=\"16\" y=\"0\"><defs /><svg baseProfile=\"full\" height=\"174.4px\" preserveAspectRatio=\"xMidYMid meet\" style=\"font-family: times, serif; font-weight:normal; font-style: normal; font-size: 16px;\" version=\"1.1\" viewBox=\"0,0,376.0,174.4\" width=\"376px\" xmlns=\"http://www.w3.org/2000/svg\" xmlns:ev=\"http://www.w3.org/2001/xml-events\" xmlns:xlink=\"http://www.w3.org/1999/xlink\"><defs /><svg width=\"100%\" x=\"0\" y=\"0em\"><defs /><text text-anchor=\"middle\" x=\"50%\" y=\"1em\">TOP</text></svg><svg width=\"100%\" x=\"0%\" y=\"1.2em\"><defs /><svg width=\"100%\" x=\"0\" y=\"0em\"><defs /><text text-anchor=\"middle\" x=\"50%\" y=\"1em\">FRAG</text></svg><svg width=\"8.51064%\" x=\"0%\" y=\"1.2em\"><defs /><svg width=\"100%\" x=\"0\" y=\"0em\"><defs /><text text-anchor=\"middle\" x=\"50%\" y=\"1em\">CC</text></svg><svg width=\"100%\" x=\"0%\" y=\"6em\"><defs /><svg width=\"100%\" x=\"0\" y=\"0em\"><defs /><text text-anchor=\"middle\" x=\"50%\" y=\"1em\">ak</text><text text-anchor=\"middle\" x=\"50%\" y=\"2em\">אכ</text></svg></svg><line stroke=\"black\" x1=\"50%\" x2=\"50%\" y1=\"1.2em\" y2=\"6em\" /></svg><line stroke=\"black\" x1=\"50%\" x2=\"4.25532%\" y1=\"1.2em\" y2=\"1.2em\" /><svg width=\"76.5957%\" x=\"8.51064%\" y=\"1.2em\"><defs /><svg width=\"100%\" x=\"0\" y=\"0em\"><defs /><text text-anchor=\"middle\" x=\"50%\" y=\"1em\">S</text></svg><svg width=\"19.4444%\" x=\"0%\" y=\"1.2em\"><defs /><svg width=\"100%\" x=\"0\" y=\"0em\"><defs /><text text-anchor=\"middle\" x=\"50%\" y=\"1em\">ADVP</text></svg><svg width=\"100%\" x=\"0%\" y=\"1.2em\"><defs /><svg width=\"100%\" x=\"0\" y=\"0em\"><defs /><text text-anchor=\"middle\" x=\"50%\" y=\"1em\">RB</text></svg><svg width=\"100%\" x=\"0%\" y=\"3.6em\"><defs /><svg width=\"100%\" x=\"0\" y=\"0em\"><defs /><text text-anchor=\"middle\" x=\"50%\" y=\"1em\">ediin</text><text text-anchor=\"middle\" x=\"50%\" y=\"2em\">עדיינ</text></svg></svg><line stroke=\"black\" x1=\"50%\" x2=\"50%\" y1=\"1.2em\" y2=\"3.6em\" /></svg><line stroke=\"black\" x1=\"50%\" x2=\"50%\" y1=\"1.2em\" y2=\"1.2em\" /></svg><line stroke=\"black\" x1=\"50%\" x2=\"9.72222%\" y1=\"1.2em\" y2=\"1.2em\" /><svg width=\"22.2222%\" x=\"19.4444%\" y=\"1.2em\"><defs /><svg width=\"100%\" x=\"0\" y=\"0em\"><defs /><text text-anchor=\"middle\" x=\"50%\" y=\"1em\">VP</text></svg><svg width=\"100%\" x=\"0%\" y=\"1.2em\"><defs /><svg width=\"100%\" x=\"0\" y=\"0em\"><defs /><text text-anchor=\"middle\" x=\"50%\" y=\"1em\">VB</text></svg><svg width=\"100%\" x=\"0%\" y=\"3.6em\"><defs /><svg width=\"100%\" x=\"0\" y=\"0em\"><defs /><text text-anchor=\"middle\" x=\"50%\" y=\"1em\">mxpfim</text><text text-anchor=\"middle\" x=\"50%\" y=\"2em\">מחפשימ</text></svg></svg><line stroke=\"black\" x1=\"50%\" x2=\"50%\" y1=\"1.2em\" y2=\"3.6em\" /></svg><line stroke=\"black\" x1=\"50%\" x2=\"50%\" y1=\"1.2em\" y2=\"1.2em\" /></svg><line stroke=\"black\" x1=\"50%\" x2=\"30.5556%\" y1=\"1.2em\" y2=\"1.2em\" /><svg width=\"58.3333%\" x=\"41.6667%\" y=\"1.2em\"><defs /><svg width=\"100%\" x=\"0\" y=\"0em\"><defs /><text text-anchor=\"middle\" x=\"50%\" y=\"1em\">PP</text></svg><svg width=\"28.5714%\" x=\"0%\" y=\"1.2em\"><defs /><svg width=\"100%\" x=\"0\" y=\"0em\"><defs /><text text-anchor=\"middle\" x=\"50%\" y=\"1em\">IN</text></svg><svg width=\"100%\" x=\"0%\" y=\"3.6em\"><defs /><svg width=\"100%\" x=\"0\" y=\"0em\"><defs /><text text-anchor=\"middle\" x=\"50%\" y=\"1em\">axri</text><text text-anchor=\"middle\" x=\"50%\" y=\"2em\">אחרי</text></svg></svg><line stroke=\"black\" x1=\"50%\" x2=\"50%\" y1=\"1.2em\" y2=\"3.6em\" /></svg><line stroke=\"black\" x1=\"50%\" x2=\"14.2857%\" y1=\"1.2em\" y2=\"1.2em\" /><svg width=\"71.4286%\" x=\"28.5714%\" y=\"1.2em\"><defs /><svg width=\"100%\" x=\"0\" y=\"0em\"><defs /><text text-anchor=\"middle\" x=\"50%\" y=\"1em\">NP</text></svg><svg width=\"53.3333%\" x=\"0%\" y=\"1.2em\"><defs /><svg width=\"100%\" x=\"0\" y=\"0em\"><defs /><text text-anchor=\"middle\" x=\"50%\" y=\"1em\">NNT</text></svg><svg width=\"100%\" x=\"0%\" y=\"2.4em\"><defs /><svg width=\"100%\" x=\"0\" y=\"0em\"><defs /><text text-anchor=\"middle\" x=\"50%\" y=\"1em\">jwbiih</text><text text-anchor=\"middle\" x=\"50%\" y=\"2em\">טובייה</text></svg></svg><line stroke=\"black\" x1=\"50%\" x2=\"50%\" y1=\"1.2em\" y2=\"2.4em\" /></svg><line stroke=\"black\" x1=\"50%\" x2=\"26.6667%\" y1=\"1.2em\" y2=\"1.2em\" /><svg width=\"46.6667%\" x=\"53.3333%\" y=\"1.2em\"><defs /><svg width=\"100%\" x=\"0\" y=\"0em\"><defs /><text text-anchor=\"middle\" x=\"50%\" y=\"1em\">NP</text></svg><svg width=\"42.8571%\" x=\"0%\" y=\"1.2em\"><defs /><svg width=\"100%\" x=\"0\" y=\"0em\"><defs /><text text-anchor=\"middle\" x=\"50%\" y=\"1em\">H</text></svg><svg width=\"100%\" x=\"0%\" y=\"1.2em\"><defs /><svg width=\"100%\" x=\"0\" y=\"0em\"><defs /><text text-anchor=\"middle\" x=\"50%\" y=\"1em\">h</text><text text-anchor=\"middle\" x=\"50%\" y=\"2em\">ה</text></svg></svg><line stroke=\"black\" x1=\"50%\" x2=\"50%\" y1=\"1.2em\" y2=\"1.2em\" /></svg><line stroke=\"black\" x1=\"50%\" x2=\"21.4286%\" y1=\"1.2em\" y2=\"1.2em\" /><svg width=\"57.1429%\" x=\"42.8571%\" y=\"1.2em\"><defs /><svg width=\"100%\" x=\"0\" y=\"0em\"><defs /><text text-anchor=\"middle\" x=\"50%\" y=\"1em\">NN</text></svg><svg width=\"100%\" x=\"0%\" y=\"1.2em\"><defs /><svg width=\"100%\" x=\"0\" y=\"0em\"><defs /><text text-anchor=\"middle\" x=\"50%\" y=\"1em\">xi</text><text text-anchor=\"middle\" x=\"50%\" y=\"2em\">חי</text></svg></svg><line stroke=\"black\" x1=\"50%\" x2=\"50%\" y1=\"1.2em\" y2=\"1.2em\" /></svg><line stroke=\"black\" x1=\"50%\" x2=\"71.4286%\" y1=\"1.2em\" y2=\"1.2em\" /></svg><line stroke=\"black\" x1=\"50%\" x2=\"76.6667%\" y1=\"1.2em\" y2=\"1.2em\" /></svg><line stroke=\"black\" x1=\"50%\" x2=\"64.2857%\" y1=\"1.2em\" y2=\"1.2em\" /></svg><line stroke=\"black\" x1=\"50%\" x2=\"70.8333%\" y1=\"1.2em\" y2=\"1.2em\" /></svg><line stroke=\"black\" x1=\"50%\" x2=\"46.8085%\" y1=\"1.2em\" y2=\"1.2em\" /><svg width=\"14.8936%\" x=\"85.1064%\" y=\"1.2em\"><defs /><svg width=\"100%\" x=\"0\" y=\"0em\"><defs /><text text-anchor=\"middle\" x=\"50%\" y=\"1em\">yyDOT</text></svg><svg width=\"100%\" x=\"0%\" y=\"6em\"><defs /><svg width=\"100%\" x=\"0\" y=\"0.5em\"><defs /><text text-anchor=\"middle\" x=\"50%\" y=\"1em\">.</text></svg></svg><line stroke=\"black\" x1=\"50%\" x2=\"50%\" y1=\"1.2em\" y2=\"6.5em\" /></svg><line stroke=\"black\" x1=\"50%\" x2=\"92.5532%\" y1=\"1.2em\" y2=\"1.2em\" /></svg><line stroke=\"black\" x1=\"50%\" x2=\"50%\" y1=\"1.2em\" y2=\"1.2em\" /><rect fill=\"gray\" fill-opacity=\"0.15\" height=\"4.9em\" rx=\"8\" ry=\"8\" stroke=\"none\" stroke-width=\"1\" width=\"17.0213%\" x=\"53.1915%\" y=\"6em\" /><rect fill=\"gray\" fill-opacity=\"0.15\" height=\"4.9em\" rx=\"8\" ry=\"8\" stroke=\"none\" stroke-width=\"1\" width=\"17.0213%\" x=\"53.1915%\" y=\"6em\" /></svg></svg><svg height=\"174.4\" width=\"376.0\" x=\"408.0\" y=\"0\"><defs /><svg baseProfile=\"full\" height=\"174.4px\" preserveAspectRatio=\"xMidYMid meet\" style=\"font-family: times, serif; font-weight:normal; font-style: normal; font-size: 16px;\" version=\"1.1\" viewBox=\"0,0,376.0,174.4\" width=\"376px\" xmlns=\"http://www.w3.org/2000/svg\" xmlns:ev=\"http://www.w3.org/2001/xml-events\" xmlns:xlink=\"http://www.w3.org/1999/xlink\"><defs /><svg width=\"100%\" x=\"0\" y=\"0em\"><defs /><text text-anchor=\"middle\" x=\"50%\" y=\"1em\">TOP</text></svg><svg width=\"100%\" x=\"0%\" y=\"1.2em\"><defs /><svg width=\"100%\" x=\"0\" y=\"0em\"><defs /><text text-anchor=\"middle\" x=\"50%\" y=\"1em\">FRAG</text></svg><svg width=\"8.51064%\" x=\"0%\" y=\"1.2em\"><defs /><svg width=\"100%\" x=\"0\" y=\"0em\"><defs /><text text-anchor=\"middle\" x=\"50%\" y=\"1em\">CC</text></svg><svg width=\"100%\" x=\"0%\" y=\"6em\"><defs /><svg width=\"100%\" x=\"0\" y=\"0em\"><defs /><text text-anchor=\"middle\" x=\"50%\" y=\"1em\">ak</text><text text-anchor=\"middle\" x=\"50%\" y=\"2em\">אכ</text></svg></svg><line stroke=\"black\" x1=\"50%\" x2=\"50%\" y1=\"1.2em\" y2=\"6em\" /></svg><line stroke=\"black\" x1=\"50%\" x2=\"4.25532%\" y1=\"1.2em\" y2=\"1.2em\" /><svg width=\"76.5957%\" x=\"8.51064%\" y=\"1.2em\"><defs /><svg width=\"100%\" x=\"0\" y=\"0em\"><defs /><text text-anchor=\"middle\" x=\"50%\" y=\"1em\">S</text></svg><svg width=\"19.4444%\" x=\"0%\" y=\"1.2em\"><defs /><svg width=\"100%\" x=\"0\" y=\"0em\"><defs /><text text-anchor=\"middle\" x=\"50%\" y=\"1em\">ADVP</text></svg><svg width=\"100%\" x=\"0%\" y=\"1.2em\"><defs /><svg width=\"100%\" x=\"0\" y=\"0em\"><defs /><text text-anchor=\"middle\" x=\"50%\" y=\"1em\">RB</text></svg><svg width=\"100%\" x=\"0%\" y=\"3.6em\"><defs /><svg width=\"100%\" x=\"0\" y=\"0em\"><defs /><text text-anchor=\"middle\" x=\"50%\" y=\"1em\">ediin</text><text text-anchor=\"middle\" x=\"50%\" y=\"2em\">עדיינ</text></svg></svg><line stroke=\"black\" x1=\"50%\" x2=\"50%\" y1=\"1.2em\" y2=\"3.6em\" /></svg><line stroke=\"black\" x1=\"50%\" x2=\"50%\" y1=\"1.2em\" y2=\"1.2em\" /></svg><line stroke=\"black\" x1=\"50%\" x2=\"9.72222%\" y1=\"1.2em\" y2=\"1.2em\" /><svg width=\"22.2222%\" x=\"19.4444%\" y=\"1.2em\"><defs /><svg width=\"100%\" x=\"0\" y=\"0em\"><defs /><text text-anchor=\"middle\" x=\"50%\" y=\"1em\">VP</text></svg><svg width=\"100%\" x=\"0%\" y=\"1.2em\"><defs /><svg width=\"100%\" x=\"0\" y=\"0em\"><defs /><text text-anchor=\"middle\" x=\"50%\" y=\"1em\">VB</text></svg><svg width=\"100%\" x=\"0%\" y=\"3.6em\"><defs /><svg width=\"100%\" x=\"0\" y=\"0em\"><defs /><text text-anchor=\"middle\" x=\"50%\" y=\"1em\">mxpfim</text><text text-anchor=\"middle\" x=\"50%\" y=\"2em\">מחפשימ</text></svg></svg><line stroke=\"black\" x1=\"50%\" x2=\"50%\" y1=\"1.2em\" y2=\"3.6em\" /></svg><line stroke=\"black\" x1=\"50%\" x2=\"50%\" y1=\"1.2em\" y2=\"1.2em\" /></svg><line stroke=\"black\" x1=\"50%\" x2=\"30.5556%\" y1=\"1.2em\" y2=\"1.2em\" /><svg width=\"58.3333%\" x=\"41.6667%\" y=\"1.2em\"><defs /><svg width=\"100%\" x=\"0\" y=\"0em\"><defs /><text text-anchor=\"middle\" x=\"50%\" y=\"1em\">PP</text></svg><svg width=\"28.5714%\" x=\"0%\" y=\"1.2em\"><defs /><svg width=\"100%\" x=\"0\" y=\"0em\"><defs /><text text-anchor=\"middle\" x=\"50%\" y=\"1em\">IN</text></svg><svg width=\"100%\" x=\"0%\" y=\"3.6em\"><defs /><svg width=\"100%\" x=\"0\" y=\"0em\"><defs /><text text-anchor=\"middle\" x=\"50%\" y=\"1em\">axri</text><text text-anchor=\"middle\" x=\"50%\" y=\"2em\">אחרי</text></svg></svg><line stroke=\"black\" x1=\"50%\" x2=\"50%\" y1=\"1.2em\" y2=\"3.6em\" /></svg><line stroke=\"black\" x1=\"50%\" x2=\"14.2857%\" y1=\"1.2em\" y2=\"1.2em\" /><svg width=\"71.4286%\" x=\"28.5714%\" y=\"1.2em\"><defs /><svg width=\"100%\" x=\"0\" y=\"0em\"><defs /><text text-anchor=\"middle\" x=\"50%\" y=\"1em\">NP</text></svg><svg width=\"53.3333%\" x=\"0%\" y=\"1.2em\"><defs /><svg width=\"100%\" x=\"0\" y=\"0em\"><defs /><text text-anchor=\"middle\" x=\"50%\" y=\"1em\">NP</text></svg><svg width=\"100%\" x=\"0%\" y=\"1.2em\"><defs /><svg width=\"100%\" x=\"0\" y=\"0em\"><defs /><text text-anchor=\"middle\" x=\"50%\" y=\"1em\">NNP</text></svg><svg width=\"100%\" x=\"0%\" y=\"1.2em\"><defs /><svg width=\"100%\" x=\"0\" y=\"0em\"><defs /><text text-anchor=\"middle\" x=\"50%\" y=\"1em\">jwbiih</text><text text-anchor=\"middle\" x=\"50%\" y=\"2em\">טובייה</text></svg></svg><line stroke=\"black\" x1=\"50%\" x2=\"50%\" y1=\"1.2em\" y2=\"1.2em\" /></svg><line stroke=\"black\" x1=\"50%\" x2=\"50%\" y1=\"1.2em\" y2=\"1.2em\" /></svg><line stroke=\"black\" x1=\"50%\" x2=\"26.6667%\" y1=\"1.2em\" y2=\"1.2em\" /><svg width=\"46.6667%\" x=\"53.3333%\" y=\"1.2em\"><defs /><svg width=\"100%\" x=\"0\" y=\"0em\"><defs /><text text-anchor=\"middle\" x=\"50%\" y=\"1em\">ADJP</text></svg><svg width=\"42.8571%\" x=\"0%\" y=\"1.2em\"><defs /><svg width=\"100%\" x=\"0\" y=\"0em\"><defs /><text text-anchor=\"middle\" x=\"50%\" y=\"1em\">H</text></svg><svg width=\"100%\" x=\"0%\" y=\"1.2em\"><defs /><svg width=\"100%\" x=\"0\" y=\"0em\"><defs /><text text-anchor=\"middle\" x=\"50%\" y=\"1em\">h</text><text text-anchor=\"middle\" x=\"50%\" y=\"2em\">ה</text></svg></svg><line stroke=\"black\" x1=\"50%\" x2=\"50%\" y1=\"1.2em\" y2=\"1.2em\" /></svg><line stroke=\"black\" x1=\"50%\" x2=\"21.4286%\" y1=\"1.2em\" y2=\"1.2em\" /><svg width=\"57.1429%\" x=\"42.8571%\" y=\"1.2em\"><defs /><svg width=\"100%\" x=\"0\" y=\"0em\"><defs /><text text-anchor=\"middle\" x=\"50%\" y=\"1em\">JJ</text></svg><svg width=\"100%\" x=\"0%\" y=\"1.2em\"><defs /><svg width=\"100%\" x=\"0\" y=\"0em\"><defs /><text text-anchor=\"middle\" x=\"50%\" y=\"1em\">xi</text><text text-anchor=\"middle\" x=\"50%\" y=\"2em\">חי</text></svg></svg><line stroke=\"black\" x1=\"50%\" x2=\"50%\" y1=\"1.2em\" y2=\"1.2em\" /></svg><line stroke=\"black\" x1=\"50%\" x2=\"71.4286%\" y1=\"1.2em\" y2=\"1.2em\" /></svg><line stroke=\"black\" x1=\"50%\" x2=\"76.6667%\" y1=\"1.2em\" y2=\"1.2em\" /></svg><line stroke=\"black\" x1=\"50%\" x2=\"64.2857%\" y1=\"1.2em\" y2=\"1.2em\" /></svg><line stroke=\"black\" x1=\"50%\" x2=\"70.8333%\" y1=\"1.2em\" y2=\"1.2em\" /></svg><line stroke=\"black\" x1=\"50%\" x2=\"46.8085%\" y1=\"1.2em\" y2=\"1.2em\" /><svg width=\"14.8936%\" x=\"85.1064%\" y=\"1.2em\"><defs /><svg width=\"100%\" x=\"0\" y=\"0em\"><defs /><text text-anchor=\"middle\" x=\"50%\" y=\"1em\">yyDOT</text></svg><svg width=\"100%\" x=\"0%\" y=\"6em\"><defs /><svg width=\"100%\" x=\"0\" y=\"0.5em\"><defs /><text text-anchor=\"middle\" x=\"50%\" y=\"1em\">.</text></svg></svg><line stroke=\"black\" x1=\"50%\" x2=\"50%\" y1=\"1.2em\" y2=\"6.5em\" /></svg><line stroke=\"black\" x1=\"50%\" x2=\"92.5532%\" y1=\"1.2em\" y2=\"1.2em\" /></svg><line stroke=\"black\" x1=\"50%\" x2=\"50%\" y1=\"1.2em\" y2=\"1.2em\" /><rect fill=\"gray\" fill-opacity=\"0.15\" height=\"4.9em\" rx=\"8\" ry=\"8\" stroke=\"none\" stroke-width=\"1\" width=\"17.0213%\" x=\"53.1915%\" y=\"6em\" /><rect fill=\"gray\" fill-opacity=\"0.15\" height=\"4.9em\" rx=\"8\" ry=\"8\" stroke=\"none\" stroke-width=\"1\" width=\"17.0213%\" x=\"53.1915%\" y=\"6em\" /></svg></svg></svg>"
      ],
      "text/plain": [
       "<svgling.figure.SideBySide at 0x17d5db84f60>"
      ]
     },
     "metadata": {},
     "output_type": "display_data"
    }
   ],
   "source": [
    "describe(71, [(0,1,0,1,2)], [(0,1,1,1)])\n",
    "describe(83, [(0,2,0)], [(0,2,)])\n",
    "describe(101, [(0,1,2,1,0)], [(0,1,2,1,0)])"
   ]
  },
  {
   "cell_type": "markdown",
   "metadata": {},
   "source": [
    "## Now, let's gather some statistics\n",
    "\n",
    "After we got a feeling from example mistakes, let's back it with data"
   ]
  },
  {
   "cell_type": "code",
   "execution_count": 226,
   "metadata": {},
   "outputs": [
    {
     "ename": "SyntaxError",
     "evalue": "invalid syntax (<ipython-input-226-5b02755a6361>, line 4)",
     "output_type": "error",
     "traceback": [
      "\u001b[1;36m  File \u001b[1;32m\"<ipython-input-226-5b02755a6361>\"\u001b[1;36m, line \u001b[1;32m4\u001b[0m\n\u001b[1;33m    j=0\u001b[0m\n\u001b[1;37m    ^\u001b[0m\n\u001b[1;31mSyntaxError\u001b[0m\u001b[1;31m:\u001b[0m invalid syntax\n"
     ]
    }
   ],
   "source": [
    "s=evab_df['ID'].apply(lambda idn: contains_uknowns(predicted[idn])\n",
    "#evalb_df['contains_unknowns'] = evab_df['ID'].apply(lambda idn: contains_uknowns(predicted[idn])\n",
    "\n",
    "j=0\n",
    "for i, line in enumerate(predicted):\n",
    "    meta = evalb[i+1]['meta']\n",
    "    if contains_uknowns(line) and meta['Tag Accracy']>90:\n",
    "        j+=1\n",
    "    if not line:\n",
    "        continue\n",
    "#     if meta['Tag Accracy']<80 and not contains_uknowns(line):\n",
    "#         describe(i+1)\n",
    "print(j)"
   ]
  },
  {
   "cell_type": "code",
   "execution_count": 254,
   "metadata": {},
   "outputs": [
    {
     "data": {
      "text/html": [
       "<h3>Correlation between existance of unknown words, and other metrics</h3>"
      ],
      "text/plain": [
       "<IPython.core.display.HTML object>"
      ]
     },
     "metadata": {},
     "output_type": "display_data"
    },
    {
     "data": {
      "text/plain": [
       "Tag Accracy   -0.344373\n",
       "Prec.         -0.353853\n",
       "Recal         -0.303968\n",
       "Name: Contain unknowns, dtype: float64"
      ]
     },
     "execution_count": 254,
     "metadata": {},
     "output_type": "execute_result"
    }
   ],
   "source": [
    "# For each row check if it contains unknown words\n",
    "\n",
    "def does_contain_unknowns(line_num):\n",
    "    leafs = to_leafs(predicted[int(line_num)-1])\n",
    "    for leaf in leafs:\n",
    "        if leaf not in known_words:\n",
    "            return True\n",
    "    return False\n",
    "\n",
    "def is_question(line_num):\n",
    "    leafs = to_leafs(predicted[int(line_num)-1])\n",
    "    return leafs and leafs[-1] == 'yyQM'\n",
    "\n",
    "evalb_df['Contain unknowns'] = evalb_df['ID'].apply(does_contain_unknowns)\n",
    "evalb_df['Is question'] = evalb_df['ID'].apply(is_question)\n",
    "evalb_df = evalb_df.assign(F1 = lambda x: 2 * x['Prec.'] * x['Recal'] / (x['Prec.'] + x['Recal']))\n",
    "\n",
    "h3(\"Correlation between existance of unknown words, and other metrics\")\n",
    "evalb_df.corr()['Contain unknowns'].loc[['Tag Accracy', 'Prec.', 'Recal']]"
   ]
  },
  {
   "cell_type": "markdown",
   "metadata": {},
   "source": [
    "## Unknown words statistics\n",
    "\n",
    "We can notice that sentences with unknown words are parsed less successfuly:"
   ]
  },
  {
   "cell_type": "code",
   "execution_count": 253,
   "metadata": {},
   "outputs": [
    {
     "data": {
      "text/html": [
       "<h3>Different F1 scores</h3>"
      ],
      "text/plain": [
       "<IPython.core.display.HTML object>"
      ]
     },
     "metadata": {},
     "output_type": "display_data"
    },
    {
     "name": "stdout",
     "output_type": "stream",
     "text": [
      "F1 for all sentences 72.5\n",
      "F1 for sentences with unknown words 67.2\n",
      "F1 for sentences without unknown words 83.2\n"
     ]
    }
   ],
   "source": [
    "# Calc F1 for unknown words \n",
    "\n",
    "def df_f1(df):\n",
    "    return round(df['F1'].mean(), 1)\n",
    "\n",
    "h3(\"Different F1 scores\")\n",
    "print(\"F1 for all sentences\", df_f1(evalb_df))\n",
    "print(\"F1 for sentences with unknown words\", df_f1(evalb_df[evalb_df['Contain unknowns']==True]))\n",
    "print(\"F1 for sentences without unknown words\", df_f1(evalb_df[evalb_df['Contain unknowns']==False]))"
   ]
  },
  {
   "cell_type": "markdown",
   "metadata": {},
   "source": [
    "We also notice that the vast majority of unknown words are tagged incorrectly, and that most sentences turned out to have unknown words in them."
   ]
  },
  {
   "cell_type": "code",
   "execution_count": 257,
   "metadata": {},
   "outputs": [
    {
     "data": {
      "text/html": [
       "<h3>Ratio of sentences with unknown words</h3>"
      ],
      "text/plain": [
       "<IPython.core.display.HTML object>"
      ]
     },
     "metadata": {},
     "output_type": "display_data"
    },
    {
     "name": "stdout",
     "output_type": "stream",
     "text": [
      "66.0 %\n"
     ]
    },
    {
     "data": {
      "text/html": [
       "<h3>Ratio of unknown words taggaed incorrectly</h3>"
      ],
      "text/plain": [
       "<IPython.core.display.HTML object>"
      ]
     },
     "metadata": {},
     "output_type": "display_data"
    },
    {
     "name": "stdout",
     "output_type": "stream",
     "text": [
      "71.0 %\n"
     ]
    }
   ],
   "source": [
    "import statistics\n",
    "\n",
    "def unknown_mistake_ratio(line_num):\n",
    "    leafs = to_leafs(predicted[int(line_num)-1])\n",
    "    unknown = 0\n",
    "    mistakes = 0\n",
    "\n",
    "    evalb_tags = evalb[int(line_num)]\n",
    "    for i, leaf in enumerate(leafs):\n",
    "        if leaf not in known_words:\n",
    "            unknown += 1\n",
    "            t_predicted = evalb_tags['t-predicted'][i]\n",
    "            t_gold = evalb_tags['t-gold'][i]\n",
    "            assert t_predicted['tag']==leaf\n",
    "            assert t_gold['tag']==leaf\n",
    "            if t_predicted['parent']!=t_gold['parent']:\n",
    "                mistakes += 1\n",
    "    return mistakes / unknown if unknown else None\n",
    "\n",
    "unknown_words_ratio = statistics.mean(map(unknown_mistake_ratio, list(evalb_df[evalb_df['Contain unknowns']==True]['ID'])))\n",
    "\n",
    "h3(\"Ratio of sentences with unknown words\")\n",
    "ratio = len(evalb_df[evalb_df['Contain unknowns']==True]) / len(evalb_df)\n",
    "print(round(ratio,2)*100, '%')\n",
    "\n",
    "h3(\"Ratio of unknown words taggaed incorrectly\")\n",
    "print(round(unknown_words_ratio,2)*100, '%')"
   ]
  },
  {
   "cell_type": "code",
   "execution_count": 256,
   "metadata": {},
   "outputs": [
    {
     "data": {
      "text/plain": [
       "{'line': '(TOP (S (VP (VB KTWB)) (SBAR (yyCLN yyCLN) (S (yyQUOT yyQUOT) (S (PP (IN B) (NP (NN XWKMH))) (VP (VB EFH)) (PP (IN L) (NP (PRP ATH))) (NP (NN MLXMH))) (yyQUOT yyQUOT))) (yyDOT yyDOT)))',\n",
       " 'meta': {'ID': 1.0,\n",
       "  'Len.': 11.0,\n",
       "  'Stat.': 0.0,\n",
       "  'Recal': 100.0,\n",
       "  'Prec.': 100.0,\n",
       "  'Matched Bracket': 12.0,\n",
       "  'Bracket gold': 12.0,\n",
       "  'Bracket test': 12.0,\n",
       "  'Cross Bracket': 0.0,\n",
       "  'Words': 11.0,\n",
       "  'Correct Tags': 11.0,\n",
       "  'Tag Accracy': 100.0},\n",
       " 't-predicted': [{'index': '0', '_': ':', 'parent': 'VB', 'tag': 'KTWB'},\n",
       "  {'index': '1', '_': ':', 'parent': 'yyCLN', 'tag': 'yyCLN'},\n",
       "  {'index': '2', '_': ':', 'parent': 'yyQUOT', 'tag': 'yyQUOT'},\n",
       "  {'index': '3', '_': ':', 'parent': 'IN', 'tag': 'B'},\n",
       "  {'index': '4', '_': ':', 'parent': 'NN', 'tag': 'XWKMH'},\n",
       "  {'index': '5', '_': ':', 'parent': 'VB', 'tag': 'EFH'},\n",
       "  {'index': '6', '_': ':', 'parent': 'IN', 'tag': 'L'},\n",
       "  {'index': '7', '_': ':', 'parent': 'PRP', 'tag': 'ATH'},\n",
       "  {'index': '8', '_': ':', 'parent': 'NN', 'tag': 'MLXMH'},\n",
       "  {'index': '9', '_': ':', 'parent': 'yyQUOT', 'tag': 'yyQUOT'},\n",
       "  {'index': '10', '_': ':', 'parent': 'yyDOT', 'tag': 'yyDOT'}],\n",
       " 't-gold': [{'index': '0', '_': ':', 'parent': 'VB', 'tag': 'KTWB'},\n",
       "  {'index': '1', '_': ':', 'parent': 'yyCLN', 'tag': 'yyCLN'},\n",
       "  {'index': '2', '_': ':', 'parent': 'yyQUOT', 'tag': 'yyQUOT'},\n",
       "  {'index': '3', '_': ':', 'parent': 'IN', 'tag': 'B'},\n",
       "  {'index': '4', '_': ':', 'parent': 'NN', 'tag': 'XWKMH'},\n",
       "  {'index': '5', '_': ':', 'parent': 'VB', 'tag': 'EFH'},\n",
       "  {'index': '6', '_': ':', 'parent': 'IN', 'tag': 'L'},\n",
       "  {'index': '7', '_': ':', 'parent': 'PRP', 'tag': 'ATH'},\n",
       "  {'index': '8', '_': ':', 'parent': 'NN', 'tag': 'MLXMH'},\n",
       "  {'index': '9', '_': ':', 'parent': 'yyQUOT', 'tag': 'yyQUOT'},\n",
       "  {'index': '10', '_': ':', 'parent': 'yyDOT', 'tag': 'yyDOT'}],\n",
       " 'nt-predicted': [{'index': '0',\n",
       "   '_': ':',\n",
       "   'start': '0',\n",
       "   'end': '11',\n",
       "   'tag': 'TOP'},\n",
       "  {'index': '1', '_': ':', 'start': '0', 'end': '11', 'tag': 'S'},\n",
       "  {'index': '2', '_': ':', 'start': '0', 'end': '1', 'tag': 'VP'},\n",
       "  {'index': '3', '_': ':', 'start': '1', 'end': '10', 'tag': 'SBAR'},\n",
       "  {'index': '4', '_': ':', 'start': '2', 'end': '10', 'tag': 'S'},\n",
       "  {'index': '5', '_': ':', 'start': '3', 'end': '9', 'tag': 'S'},\n",
       "  {'index': '6', '_': ':', 'start': '3', 'end': '5', 'tag': 'PP'},\n",
       "  {'index': '7', '_': ':', 'start': '4', 'end': '5', 'tag': 'NP'},\n",
       "  {'index': '8', '_': ':', 'start': '5', 'end': '6', 'tag': 'VP'},\n",
       "  {'index': '9', '_': ':', 'start': '6', 'end': '8', 'tag': 'PP'},\n",
       "  {'index': '10', '_': ':', 'start': '7', 'end': '8', 'tag': 'NP'},\n",
       "  {'index': '11', '_': ':', 'start': '8', 'end': '9', 'tag': 'NP'}],\n",
       " 'nt-gold': [{'index': '0', '_': ':', 'start': '0', 'end': '11', 'tag': 'TOP'},\n",
       "  {'index': '1', '_': ':', 'start': '0', 'end': '11', 'tag': 'S'},\n",
       "  {'index': '2', '_': ':', 'start': '0', 'end': '1', 'tag': 'VP'},\n",
       "  {'index': '3', '_': ':', 'start': '1', 'end': '10', 'tag': 'SBAR'},\n",
       "  {'index': '4', '_': ':', 'start': '2', 'end': '10', 'tag': 'S'},\n",
       "  {'index': '5', '_': ':', 'start': '3', 'end': '9', 'tag': 'S'},\n",
       "  {'index': '6', '_': ':', 'start': '3', 'end': '5', 'tag': 'PP'},\n",
       "  {'index': '7', '_': ':', 'start': '4', 'end': '5', 'tag': 'NP'},\n",
       "  {'index': '8', '_': ':', 'start': '5', 'end': '6', 'tag': 'VP'},\n",
       "  {'index': '9', '_': ':', 'start': '6', 'end': '8', 'tag': 'PP'},\n",
       "  {'index': '10', '_': ':', 'start': '7', 'end': '8', 'tag': 'NP'},\n",
       "  {'index': '11', '_': ':', 'start': '8', 'end': '9', 'tag': 'NP'}]}"
      ]
     },
     "execution_count": 256,
     "metadata": {},
     "output_type": "execute_result"
    }
   ],
   "source": [
    "evalb[1]"
   ]
  },
  {
   "cell_type": "code",
   "execution_count": 266,
   "metadata": {},
   "outputs": [
    {
     "data": {
      "text/html": [
       "<h2>Line 1</h2>"
      ],
      "text/plain": [
       "<IPython.core.display.HTML object>"
      ]
     },
     "metadata": {},
     "output_type": "display_data"
    },
    {
     "data": {
      "image/svg+xml": [
       "<svg baseProfile=\"full\" height=\"435.2px\" preserveAspectRatio=\"xMidYMid meet\" version=\"1.1\" viewBox=\"0,0,544.0,435.2\" width=\"544px\" xmlns=\"http://www.w3.org/2000/svg\" xmlns:ev=\"http://www.w3.org/2001/xml-events\" xmlns:xlink=\"http://www.w3.org/1999/xlink\"><defs /><svg height=\"193.6\" style=\"font-family: times, serif; font-weight:normal; font-style: normal; font-size: 16px;\" width=\"544.0\" x=\"0\" y=\"16\"><defs /><svg baseProfile=\"full\" height=\"193.6px\" preserveAspectRatio=\"xMidYMid meet\" style=\"font-family: times, serif; font-weight:normal; font-style: normal; font-size: 16px;\" version=\"1.1\" viewBox=\"0,0,544.0,193.6\" width=\"544px\" xmlns=\"http://www.w3.org/2000/svg\" xmlns:ev=\"http://www.w3.org/2001/xml-events\" xmlns:xlink=\"http://www.w3.org/1999/xlink\"><defs /><svg width=\"100%\" x=\"0\" y=\"0em\"><defs /><text text-anchor=\"middle\" x=\"50%\" y=\"1em\">TOP</text></svg><svg width=\"100%\" x=\"0%\" y=\"1.2em\"><defs /><svg width=\"100%\" x=\"0\" y=\"0em\"><defs /><text text-anchor=\"middle\" x=\"50%\" y=\"1em\">S</text></svg><svg width=\"8.82353%\" x=\"0%\" y=\"1.2em\"><defs /><svg width=\"100%\" x=\"0\" y=\"0em\"><defs /><text text-anchor=\"middle\" x=\"50%\" y=\"1em\">VP</text></svg><svg width=\"100%\" x=\"0%\" y=\"1.2em\"><defs /><svg width=\"100%\" x=\"0\" y=\"0em\"><defs /><text text-anchor=\"middle\" x=\"50%\" y=\"1em\">VB</text></svg><svg width=\"100%\" x=\"0%\" y=\"6em\"><defs /><svg width=\"100%\" x=\"0\" y=\"0em\"><defs /><text text-anchor=\"middle\" x=\"50%\" y=\"1em\">ktwb</text><text text-anchor=\"middle\" x=\"50%\" y=\"2em\">כתוב</text></svg></svg><line stroke=\"black\" x1=\"50%\" x2=\"50%\" y1=\"1.2em\" y2=\"6em\" /></svg><line stroke=\"black\" x1=\"50%\" x2=\"50%\" y1=\"1.2em\" y2=\"1.2em\" /></svg><line stroke=\"black\" x1=\"50%\" x2=\"4.41176%\" y1=\"1.2em\" y2=\"1.2em\" /><svg width=\"80.8824%\" x=\"8.82353%\" y=\"1.2em\"><defs /><svg width=\"100%\" x=\"0\" y=\"0em\"><defs /><text text-anchor=\"middle\" x=\"50%\" y=\"1em\">SBAR</text></svg><svg width=\"12.7273%\" x=\"0%\" y=\"1.2em\"><defs /><svg width=\"100%\" x=\"0\" y=\"0em\"><defs /><text text-anchor=\"middle\" x=\"50%\" y=\"1em\">yyCLN</text></svg><svg width=\"100%\" x=\"0%\" y=\"6em\"><defs /><svg width=\"100%\" x=\"0\" y=\"0.5em\"><defs /><text text-anchor=\"middle\" x=\"50%\" y=\"1em\">:</text></svg></svg><line stroke=\"black\" x1=\"50%\" x2=\"50%\" y1=\"1.2em\" y2=\"6.5em\" /></svg><line stroke=\"black\" x1=\"50%\" x2=\"6.36364%\" y1=\"1.2em\" y2=\"1.2em\" /><svg width=\"87.2727%\" x=\"12.7273%\" y=\"1.2em\"><defs /><svg width=\"100%\" x=\"0\" y=\"0em\"><defs /><text text-anchor=\"middle\" x=\"50%\" y=\"1em\">S</text></svg><svg width=\"16.6667%\" x=\"0%\" y=\"1.2em\"><defs /><svg width=\"100%\" x=\"0\" y=\"0em\"><defs /><text text-anchor=\"middle\" x=\"50%\" y=\"1em\">yyQUOT</text></svg><svg width=\"100%\" x=\"0%\" y=\"4.8em\"><defs /><svg width=\"100%\" x=\"0\" y=\"0.5em\"><defs /><text text-anchor=\"middle\" x=\"50%\" y=\"1em\">\"</text></svg></svg><line stroke=\"black\" x1=\"50%\" x2=\"50%\" y1=\"1.2em\" y2=\"5.3em\" /></svg><line stroke=\"black\" x1=\"50%\" x2=\"8.33333%\" y1=\"1.2em\" y2=\"1.2em\" /><svg width=\"66.6667%\" x=\"16.6667%\" y=\"1.2em\"><defs /><svg width=\"100%\" x=\"0\" y=\"0em\"><defs /><text text-anchor=\"middle\" x=\"50%\" y=\"1em\">S</text></svg><svg width=\"34.375%\" x=\"0%\" y=\"1.2em\"><defs /><svg width=\"100%\" x=\"0\" y=\"0em\"><defs /><text text-anchor=\"middle\" x=\"50%\" y=\"1em\">PP</text></svg><svg width=\"36.3636%\" x=\"0%\" y=\"1.2em\"><defs /><svg width=\"100%\" x=\"0\" y=\"0em\"><defs /><text text-anchor=\"middle\" x=\"50%\" y=\"1em\">IN</text></svg><svg width=\"100%\" x=\"0%\" y=\"2.4em\"><defs /><svg width=\"100%\" x=\"0\" y=\"0em\"><defs /><text text-anchor=\"middle\" x=\"50%\" y=\"1em\">b</text><text text-anchor=\"middle\" x=\"50%\" y=\"2em\">ב</text></svg></svg><line stroke=\"black\" x1=\"50%\" x2=\"50%\" y1=\"1.2em\" y2=\"2.4em\" /></svg><line stroke=\"black\" x1=\"50%\" x2=\"18.1818%\" y1=\"1.2em\" y2=\"1.2em\" /><svg width=\"63.6364%\" x=\"36.3636%\" y=\"1.2em\"><defs /><svg width=\"100%\" x=\"0\" y=\"0em\"><defs /><text text-anchor=\"middle\" x=\"50%\" y=\"1em\">NP</text></svg><svg width=\"100%\" x=\"0%\" y=\"1.2em\"><defs /><svg width=\"100%\" x=\"0\" y=\"0em\"><defs /><text text-anchor=\"middle\" x=\"50%\" y=\"1em\">NN</text></svg><svg width=\"100%\" x=\"0%\" y=\"1.2em\"><defs /><svg width=\"100%\" x=\"0\" y=\"0em\"><defs /><text text-anchor=\"middle\" x=\"50%\" y=\"1em\">xwkmh</text><text text-anchor=\"middle\" x=\"50%\" y=\"2em\">חוכמה</text></svg></svg><line stroke=\"black\" x1=\"50%\" x2=\"50%\" y1=\"1.2em\" y2=\"1.2em\" /></svg><line stroke=\"black\" x1=\"50%\" x2=\"50%\" y1=\"1.2em\" y2=\"1.2em\" /></svg><line stroke=\"black\" x1=\"50%\" x2=\"68.1818%\" y1=\"1.2em\" y2=\"1.2em\" /></svg><line stroke=\"black\" x1=\"50%\" x2=\"17.1875%\" y1=\"1.2em\" y2=\"1.2em\" /><svg width=\"15.625%\" x=\"34.375%\" y=\"1.2em\"><defs /><svg width=\"100%\" x=\"0\" y=\"0em\"><defs /><text text-anchor=\"middle\" x=\"50%\" y=\"1em\">VP</text></svg><svg width=\"100%\" x=\"0%\" y=\"1.2em\"><defs /><svg width=\"100%\" x=\"0\" y=\"0em\"><defs /><text text-anchor=\"middle\" x=\"50%\" y=\"1em\">VB</text></svg><svg width=\"100%\" x=\"0%\" y=\"2.4em\"><defs /><svg width=\"100%\" x=\"0\" y=\"0em\"><defs /><text text-anchor=\"middle\" x=\"50%\" y=\"1em\">efh</text><text text-anchor=\"middle\" x=\"50%\" y=\"2em\">עשה</text></svg></svg><line stroke=\"black\" x1=\"50%\" x2=\"50%\" y1=\"1.2em\" y2=\"2.4em\" /></svg><line stroke=\"black\" x1=\"50%\" x2=\"50%\" y1=\"1.2em\" y2=\"1.2em\" /></svg><line stroke=\"black\" x1=\"50%\" x2=\"42.1875%\" y1=\"1.2em\" y2=\"1.2em\" /><svg width=\"28.125%\" x=\"50%\" y=\"1.2em\"><defs /><svg width=\"100%\" x=\"0\" y=\"0em\"><defs /><text text-anchor=\"middle\" x=\"50%\" y=\"1em\">PP</text></svg><svg width=\"44.4444%\" x=\"0%\" y=\"1.2em\"><defs /><svg width=\"100%\" x=\"0\" y=\"0em\"><defs /><text text-anchor=\"middle\" x=\"50%\" y=\"1em\">IN</text></svg><svg width=\"100%\" x=\"0%\" y=\"2.4em\"><defs /><svg width=\"100%\" x=\"0\" y=\"0em\"><defs /><text text-anchor=\"middle\" x=\"50%\" y=\"1em\">l</text><text text-anchor=\"middle\" x=\"50%\" y=\"2em\">ל</text></svg></svg><line stroke=\"black\" x1=\"50%\" x2=\"50%\" y1=\"1.2em\" y2=\"2.4em\" /></svg><line stroke=\"black\" x1=\"50%\" x2=\"22.2222%\" y1=\"1.2em\" y2=\"1.2em\" /><svg width=\"55.5556%\" x=\"44.4444%\" y=\"1.2em\"><defs /><svg width=\"100%\" x=\"0\" y=\"0em\"><defs /><text text-anchor=\"middle\" x=\"50%\" y=\"1em\">NP</text></svg><svg width=\"100%\" x=\"0%\" y=\"1.2em\"><defs /><svg width=\"100%\" x=\"0\" y=\"0em\"><defs /><text text-anchor=\"middle\" x=\"50%\" y=\"1em\">PRP</text></svg><svg width=\"100%\" x=\"0%\" y=\"1.2em\"><defs /><svg width=\"100%\" x=\"0\" y=\"0em\"><defs /><text text-anchor=\"middle\" x=\"50%\" y=\"1em\">ath</text><text text-anchor=\"middle\" x=\"50%\" y=\"2em\">אתה</text></svg></svg><line stroke=\"black\" x1=\"50%\" x2=\"50%\" y1=\"1.2em\" y2=\"1.2em\" /></svg><line stroke=\"black\" x1=\"50%\" x2=\"50%\" y1=\"1.2em\" y2=\"1.2em\" /></svg><line stroke=\"black\" x1=\"50%\" x2=\"72.2222%\" y1=\"1.2em\" y2=\"1.2em\" /></svg><line stroke=\"black\" x1=\"50%\" x2=\"64.0625%\" y1=\"1.2em\" y2=\"1.2em\" /><svg width=\"21.875%\" x=\"78.125%\" y=\"1.2em\"><defs /><svg width=\"100%\" x=\"0\" y=\"0em\"><defs /><text text-anchor=\"middle\" x=\"50%\" y=\"1em\">NP</text></svg><svg width=\"100%\" x=\"0%\" y=\"1.2em\"><defs /><svg width=\"100%\" x=\"0\" y=\"0em\"><defs /><text text-anchor=\"middle\" x=\"50%\" y=\"1em\">NN</text></svg><svg width=\"100%\" x=\"0%\" y=\"2.4em\"><defs /><svg width=\"100%\" x=\"0\" y=\"0em\"><defs /><text text-anchor=\"middle\" x=\"50%\" y=\"1em\">mlxmh</text><text text-anchor=\"middle\" x=\"50%\" y=\"2em\">מלחמה</text></svg></svg><line stroke=\"black\" x1=\"50%\" x2=\"50%\" y1=\"1.2em\" y2=\"2.4em\" /></svg><line stroke=\"black\" x1=\"50%\" x2=\"50%\" y1=\"1.2em\" y2=\"1.2em\" /></svg><line stroke=\"black\" x1=\"50%\" x2=\"89.0625%\" y1=\"1.2em\" y2=\"1.2em\" /></svg><line stroke=\"black\" x1=\"50%\" x2=\"50%\" y1=\"1.2em\" y2=\"1.2em\" /><svg width=\"16.6667%\" x=\"83.3333%\" y=\"1.2em\"><defs /><svg width=\"100%\" x=\"0\" y=\"0em\"><defs /><text text-anchor=\"middle\" x=\"50%\" y=\"1em\">yyQUOT</text></svg><svg width=\"100%\" x=\"0%\" y=\"4.8em\"><defs /><svg width=\"100%\" x=\"0\" y=\"0.5em\"><defs /><text text-anchor=\"middle\" x=\"50%\" y=\"1em\">\"</text></svg></svg><line stroke=\"black\" x1=\"50%\" x2=\"50%\" y1=\"1.2em\" y2=\"5.3em\" /></svg><line stroke=\"black\" x1=\"50%\" x2=\"91.6667%\" y1=\"1.2em\" y2=\"1.2em\" /></svg><line stroke=\"black\" x1=\"50%\" x2=\"56.3636%\" y1=\"1.2em\" y2=\"1.2em\" /></svg><line stroke=\"black\" x1=\"50%\" x2=\"49.2647%\" y1=\"1.2em\" y2=\"1.2em\" /><svg width=\"10.2941%\" x=\"89.7059%\" y=\"1.2em\"><defs /><svg width=\"100%\" x=\"0\" y=\"0em\"><defs /><text text-anchor=\"middle\" x=\"50%\" y=\"1em\">yyDOT</text></svg><svg width=\"100%\" x=\"0%\" y=\"7.2em\"><defs /><svg width=\"100%\" x=\"0\" y=\"0.5em\"><defs /><text text-anchor=\"middle\" x=\"50%\" y=\"1em\">.</text></svg></svg><line stroke=\"black\" x1=\"50%\" x2=\"50%\" y1=\"1.2em\" y2=\"7.7em\" /></svg><line stroke=\"black\" x1=\"50%\" x2=\"94.8529%\" y1=\"1.2em\" y2=\"1.2em\" /></svg><line stroke=\"black\" x1=\"50%\" x2=\"50%\" y1=\"1.2em\" y2=\"1.2em\" /></svg></svg><svg height=\"193.6\" style=\"font-family: times, serif; font-weight:normal; font-style: normal; font-size: 16px;\" width=\"544.0\" x=\"0\" y=\"225.6\"><defs /><svg baseProfile=\"full\" height=\"193.6px\" preserveAspectRatio=\"xMidYMid meet\" style=\"font-family: times, serif; font-weight:normal; font-style: normal; font-size: 16px;\" version=\"1.1\" viewBox=\"0,0,544.0,193.6\" width=\"544px\" xmlns=\"http://www.w3.org/2000/svg\" xmlns:ev=\"http://www.w3.org/2001/xml-events\" xmlns:xlink=\"http://www.w3.org/1999/xlink\"><defs /><svg width=\"100%\" x=\"0\" y=\"0em\"><defs /><text text-anchor=\"middle\" x=\"50%\" y=\"1em\">TOP</text></svg><svg width=\"100%\" x=\"0%\" y=\"1.2em\"><defs /><svg width=\"100%\" x=\"0\" y=\"0em\"><defs /><text text-anchor=\"middle\" x=\"50%\" y=\"1em\">S</text></svg><svg width=\"8.82353%\" x=\"0%\" y=\"1.2em\"><defs /><svg width=\"100%\" x=\"0\" y=\"0em\"><defs /><text text-anchor=\"middle\" x=\"50%\" y=\"1em\">VP</text></svg><svg width=\"100%\" x=\"0%\" y=\"1.2em\"><defs /><svg width=\"100%\" x=\"0\" y=\"0em\"><defs /><text text-anchor=\"middle\" x=\"50%\" y=\"1em\">VB</text></svg><svg width=\"100%\" x=\"0%\" y=\"6em\"><defs /><svg width=\"100%\" x=\"0\" y=\"0em\"><defs /><text text-anchor=\"middle\" x=\"50%\" y=\"1em\">ktwb</text><text text-anchor=\"middle\" x=\"50%\" y=\"2em\">כתוב</text></svg></svg><line stroke=\"black\" x1=\"50%\" x2=\"50%\" y1=\"1.2em\" y2=\"6em\" /></svg><line stroke=\"black\" x1=\"50%\" x2=\"50%\" y1=\"1.2em\" y2=\"1.2em\" /></svg><line stroke=\"black\" x1=\"50%\" x2=\"4.41176%\" y1=\"1.2em\" y2=\"1.2em\" /><svg width=\"80.8824%\" x=\"8.82353%\" y=\"1.2em\"><defs /><svg width=\"100%\" x=\"0\" y=\"0em\"><defs /><text text-anchor=\"middle\" x=\"50%\" y=\"1em\">SBAR</text></svg><svg width=\"12.7273%\" x=\"0%\" y=\"1.2em\"><defs /><svg width=\"100%\" x=\"0\" y=\"0em\"><defs /><text text-anchor=\"middle\" x=\"50%\" y=\"1em\">yyCLN</text></svg><svg width=\"100%\" x=\"0%\" y=\"6em\"><defs /><svg width=\"100%\" x=\"0\" y=\"0.5em\"><defs /><text text-anchor=\"middle\" x=\"50%\" y=\"1em\">:</text></svg></svg><line stroke=\"black\" x1=\"50%\" x2=\"50%\" y1=\"1.2em\" y2=\"6.5em\" /></svg><line stroke=\"black\" x1=\"50%\" x2=\"6.36364%\" y1=\"1.2em\" y2=\"1.2em\" /><svg width=\"87.2727%\" x=\"12.7273%\" y=\"1.2em\"><defs /><svg width=\"100%\" x=\"0\" y=\"0em\"><defs /><text text-anchor=\"middle\" x=\"50%\" y=\"1em\">S</text></svg><svg width=\"16.6667%\" x=\"0%\" y=\"1.2em\"><defs /><svg width=\"100%\" x=\"0\" y=\"0em\"><defs /><text text-anchor=\"middle\" x=\"50%\" y=\"1em\">yyQUOT</text></svg><svg width=\"100%\" x=\"0%\" y=\"4.8em\"><defs /><svg width=\"100%\" x=\"0\" y=\"0.5em\"><defs /><text text-anchor=\"middle\" x=\"50%\" y=\"1em\">\"</text></svg></svg><line stroke=\"black\" x1=\"50%\" x2=\"50%\" y1=\"1.2em\" y2=\"5.3em\" /></svg><line stroke=\"black\" x1=\"50%\" x2=\"8.33333%\" y1=\"1.2em\" y2=\"1.2em\" /><svg width=\"66.6667%\" x=\"16.6667%\" y=\"1.2em\"><defs /><svg width=\"100%\" x=\"0\" y=\"0em\"><defs /><text text-anchor=\"middle\" x=\"50%\" y=\"1em\">S</text></svg><svg width=\"34.375%\" x=\"0%\" y=\"1.2em\"><defs /><svg width=\"100%\" x=\"0\" y=\"0em\"><defs /><text text-anchor=\"middle\" x=\"50%\" y=\"1em\">PP</text></svg><svg width=\"36.3636%\" x=\"0%\" y=\"1.2em\"><defs /><svg width=\"100%\" x=\"0\" y=\"0em\"><defs /><text text-anchor=\"middle\" x=\"50%\" y=\"1em\">IN</text></svg><svg width=\"100%\" x=\"0%\" y=\"2.4em\"><defs /><svg width=\"100%\" x=\"0\" y=\"0em\"><defs /><text text-anchor=\"middle\" x=\"50%\" y=\"1em\">b</text><text text-anchor=\"middle\" x=\"50%\" y=\"2em\">ב</text></svg></svg><line stroke=\"black\" x1=\"50%\" x2=\"50%\" y1=\"1.2em\" y2=\"2.4em\" /></svg><line stroke=\"black\" x1=\"50%\" x2=\"18.1818%\" y1=\"1.2em\" y2=\"1.2em\" /><svg width=\"63.6364%\" x=\"36.3636%\" y=\"1.2em\"><defs /><svg width=\"100%\" x=\"0\" y=\"0em\"><defs /><text text-anchor=\"middle\" x=\"50%\" y=\"1em\">NP</text></svg><svg width=\"100%\" x=\"0%\" y=\"1.2em\"><defs /><svg width=\"100%\" x=\"0\" y=\"0em\"><defs /><text text-anchor=\"middle\" x=\"50%\" y=\"1em\">NN</text></svg><svg width=\"100%\" x=\"0%\" y=\"1.2em\"><defs /><svg width=\"100%\" x=\"0\" y=\"0em\"><defs /><text text-anchor=\"middle\" x=\"50%\" y=\"1em\">xwkmh</text><text text-anchor=\"middle\" x=\"50%\" y=\"2em\">חוכמה</text></svg></svg><line stroke=\"black\" x1=\"50%\" x2=\"50%\" y1=\"1.2em\" y2=\"1.2em\" /></svg><line stroke=\"black\" x1=\"50%\" x2=\"50%\" y1=\"1.2em\" y2=\"1.2em\" /></svg><line stroke=\"black\" x1=\"50%\" x2=\"68.1818%\" y1=\"1.2em\" y2=\"1.2em\" /></svg><line stroke=\"black\" x1=\"50%\" x2=\"17.1875%\" y1=\"1.2em\" y2=\"1.2em\" /><svg width=\"15.625%\" x=\"34.375%\" y=\"1.2em\"><defs /><svg width=\"100%\" x=\"0\" y=\"0em\"><defs /><text text-anchor=\"middle\" x=\"50%\" y=\"1em\">VP</text></svg><svg width=\"100%\" x=\"0%\" y=\"1.2em\"><defs /><svg width=\"100%\" x=\"0\" y=\"0em\"><defs /><text text-anchor=\"middle\" x=\"50%\" y=\"1em\">VB</text></svg><svg width=\"100%\" x=\"0%\" y=\"2.4em\"><defs /><svg width=\"100%\" x=\"0\" y=\"0em\"><defs /><text text-anchor=\"middle\" x=\"50%\" y=\"1em\">efh</text><text text-anchor=\"middle\" x=\"50%\" y=\"2em\">עשה</text></svg></svg><line stroke=\"black\" x1=\"50%\" x2=\"50%\" y1=\"1.2em\" y2=\"2.4em\" /></svg><line stroke=\"black\" x1=\"50%\" x2=\"50%\" y1=\"1.2em\" y2=\"1.2em\" /></svg><line stroke=\"black\" x1=\"50%\" x2=\"42.1875%\" y1=\"1.2em\" y2=\"1.2em\" /><svg width=\"28.125%\" x=\"50%\" y=\"1.2em\"><defs /><svg width=\"100%\" x=\"0\" y=\"0em\"><defs /><text text-anchor=\"middle\" x=\"50%\" y=\"1em\">PP</text></svg><svg width=\"44.4444%\" x=\"0%\" y=\"1.2em\"><defs /><svg width=\"100%\" x=\"0\" y=\"0em\"><defs /><text text-anchor=\"middle\" x=\"50%\" y=\"1em\">IN</text></svg><svg width=\"100%\" x=\"0%\" y=\"2.4em\"><defs /><svg width=\"100%\" x=\"0\" y=\"0em\"><defs /><text text-anchor=\"middle\" x=\"50%\" y=\"1em\">l</text><text text-anchor=\"middle\" x=\"50%\" y=\"2em\">ל</text></svg></svg><line stroke=\"black\" x1=\"50%\" x2=\"50%\" y1=\"1.2em\" y2=\"2.4em\" /></svg><line stroke=\"black\" x1=\"50%\" x2=\"22.2222%\" y1=\"1.2em\" y2=\"1.2em\" /><svg width=\"55.5556%\" x=\"44.4444%\" y=\"1.2em\"><defs /><svg width=\"100%\" x=\"0\" y=\"0em\"><defs /><text text-anchor=\"middle\" x=\"50%\" y=\"1em\">NP</text></svg><svg width=\"100%\" x=\"0%\" y=\"1.2em\"><defs /><svg width=\"100%\" x=\"0\" y=\"0em\"><defs /><text text-anchor=\"middle\" x=\"50%\" y=\"1em\">PRP</text></svg><svg width=\"100%\" x=\"0%\" y=\"1.2em\"><defs /><svg width=\"100%\" x=\"0\" y=\"0em\"><defs /><text text-anchor=\"middle\" x=\"50%\" y=\"1em\">ath</text><text text-anchor=\"middle\" x=\"50%\" y=\"2em\">אתה</text></svg></svg><line stroke=\"black\" x1=\"50%\" x2=\"50%\" y1=\"1.2em\" y2=\"1.2em\" /></svg><line stroke=\"black\" x1=\"50%\" x2=\"50%\" y1=\"1.2em\" y2=\"1.2em\" /></svg><line stroke=\"black\" x1=\"50%\" x2=\"72.2222%\" y1=\"1.2em\" y2=\"1.2em\" /></svg><line stroke=\"black\" x1=\"50%\" x2=\"64.0625%\" y1=\"1.2em\" y2=\"1.2em\" /><svg width=\"21.875%\" x=\"78.125%\" y=\"1.2em\"><defs /><svg width=\"100%\" x=\"0\" y=\"0em\"><defs /><text text-anchor=\"middle\" x=\"50%\" y=\"1em\">NP</text></svg><svg width=\"100%\" x=\"0%\" y=\"1.2em\"><defs /><svg width=\"100%\" x=\"0\" y=\"0em\"><defs /><text text-anchor=\"middle\" x=\"50%\" y=\"1em\">NN</text></svg><svg width=\"100%\" x=\"0%\" y=\"2.4em\"><defs /><svg width=\"100%\" x=\"0\" y=\"0em\"><defs /><text text-anchor=\"middle\" x=\"50%\" y=\"1em\">mlxmh</text><text text-anchor=\"middle\" x=\"50%\" y=\"2em\">מלחמה</text></svg></svg><line stroke=\"black\" x1=\"50%\" x2=\"50%\" y1=\"1.2em\" y2=\"2.4em\" /></svg><line stroke=\"black\" x1=\"50%\" x2=\"50%\" y1=\"1.2em\" y2=\"1.2em\" /></svg><line stroke=\"black\" x1=\"50%\" x2=\"89.0625%\" y1=\"1.2em\" y2=\"1.2em\" /></svg><line stroke=\"black\" x1=\"50%\" x2=\"50%\" y1=\"1.2em\" y2=\"1.2em\" /><svg width=\"16.6667%\" x=\"83.3333%\" y=\"1.2em\"><defs /><svg width=\"100%\" x=\"0\" y=\"0em\"><defs /><text text-anchor=\"middle\" x=\"50%\" y=\"1em\">yyQUOT</text></svg><svg width=\"100%\" x=\"0%\" y=\"4.8em\"><defs /><svg width=\"100%\" x=\"0\" y=\"0.5em\"><defs /><text text-anchor=\"middle\" x=\"50%\" y=\"1em\">\"</text></svg></svg><line stroke=\"black\" x1=\"50%\" x2=\"50%\" y1=\"1.2em\" y2=\"5.3em\" /></svg><line stroke=\"black\" x1=\"50%\" x2=\"91.6667%\" y1=\"1.2em\" y2=\"1.2em\" /></svg><line stroke=\"black\" x1=\"50%\" x2=\"56.3636%\" y1=\"1.2em\" y2=\"1.2em\" /></svg><line stroke=\"black\" x1=\"50%\" x2=\"49.2647%\" y1=\"1.2em\" y2=\"1.2em\" /><svg width=\"10.2941%\" x=\"89.7059%\" y=\"1.2em\"><defs /><svg width=\"100%\" x=\"0\" y=\"0em\"><defs /><text text-anchor=\"middle\" x=\"50%\" y=\"1em\">yyDOT</text></svg><svg width=\"100%\" x=\"0%\" y=\"7.2em\"><defs /><svg width=\"100%\" x=\"0\" y=\"0.5em\"><defs /><text text-anchor=\"middle\" x=\"50%\" y=\"1em\">.</text></svg></svg><line stroke=\"black\" x1=\"50%\" x2=\"50%\" y1=\"1.2em\" y2=\"7.7em\" /></svg><line stroke=\"black\" x1=\"50%\" x2=\"94.8529%\" y1=\"1.2em\" y2=\"1.2em\" /></svg><line stroke=\"black\" x1=\"50%\" x2=\"50%\" y1=\"1.2em\" y2=\"1.2em\" /></svg></svg></svg>"
      ],
      "text/plain": [
       "<svgling.figure.RowByRow at 0x17d6136cd30>"
      ]
     },
     "metadata": {},
     "output_type": "display_data"
    },
    {
     "name": "stdout",
     "output_type": "stream",
     "text": [
      "{'index': 0, '_': ':', 'start': 0, 'end': 11, 'tag': 'TOP'} 12\n",
      "{'index': 1, '_': ':', 'start': 0, 'end': 11, 'tag': 'S'} 12\n",
      "{'index': 2, '_': ':', 'start': 0, 'end': 1, 'tag': 'VP'} 3\n",
      "{'index': 3, '_': ':', 'start': 1, 'end': 10, 'tag': 'SBAR'} 9\n",
      "{'index': 4, '_': ':', 'start': 2, 'end': 10, 'tag': 'S'} 8\n",
      "{'index': 5, '_': ':', 'start': 3, 'end': 9, 'tag': 'S'} 7\n",
      "{'index': 6, '_': ':', 'start': 3, 'end': 5, 'tag': 'PP'} 3\n",
      "{'index': 7, '_': ':', 'start': 4, 'end': 5, 'tag': 'NP'} 1\n",
      "{'index': 8, '_': ':', 'start': 5, 'end': 6, 'tag': 'VP'} 1\n",
      "{'index': 9, '_': ':', 'start': 6, 'end': 8, 'tag': 'PP'} 2\n",
      "{'index': 10, '_': ':', 'start': 7, 'end': 8, 'tag': 'NP'} 1\n",
      "{'index': 11, '_': ':', 'start': 8, 'end': 9, 'tag': 'NP'} 1\n"
     ]
    }
   ],
   "source": [
    "import statistics\n",
    "\n",
    "def incorrect_NT_stats(line_num):\n",
    "    eval_tags = evalb[int(line_num)]\n",
    "    missed_location = defaultdict(int)\n",
    "    for p in eval_tags['nt-predicted']:\n",
    "        height = len([node for node in eval_tags['nt-predicted'] if p['start'] <= node['start'] < p['end']])\n",
    "        print(p, height)\n",
    "        # find the gold tag at the same position in the tree\n",
    "        match_gold_nt = next((g for g in eval_tags['nt-gold'] if g['start']==p['start'] and g['end']==p['end']), None)\n",
    "        if not match_gold_nt:\n",
    "            missed_location\n",
    "describe(1)\n",
    "incorrect_NT_stats(1)"
   ]
  },
  {
   "cell_type": "code",
   "execution_count": 109,
   "metadata": {},
   "outputs": [],
   "source": [
    "import networkx as nx\n",
    "from collections import deque\n",
    "from util.tree.builders import node_tree_from_sequence\n",
    "\n",
    "def to_graph(line):\n",
    "    G=nx.DiGraph()\n",
    "    q = deque()\n",
    "    node = node_tree_from_sequence(line)\n",
    "    q.append((node, 0))\n",
    "    while q:\n",
    "        node,level = q.popleft()\n",
    "        children = node.children\n",
    "        if len(children):\n",
    "            q.extend([(c, level+1) for c in children])\n",
    "            for c in children:\n",
    "                G.add_edge(f\"{node.tag}-{level}\",f\"{c.tag}-{level+1}\")\n",
    "    return G"
   ]
  },
  {
   "cell_type": "code",
   "execution_count": 116,
   "metadata": {},
   "outputs": [],
   "source": [
    "import networkx as nx\n",
    "def draw(graph):\n",
    "    pos=nx.circular_layout(G)\n",
    "    nx.draw_networkx_nodes(G,pos, node_color='w')\n",
    "    nx.draw_networkx_edges(G,pos)\n",
    "    nx.draw_networkx_labels(G,pos)"
   ]
  },
  {
   "cell_type": "code",
   "execution_count": 117,
   "metadata": {},
   "outputs": [
    {
     "data": {
      "image/png": "[encoded data removed]",
      "text/plain": [
       "<Figure size 432x288 with 1 Axes>"
      ]
     },
     "metadata": {},
     "output_type": "display_data"
    }
   ],
   "source": [
    "G=to_graph(predicted[0])\n",
    "draw(G)\n",
    "# nx.draw_networkx(G)"
   ]
  },
  {
   "cell_type": "code",
   "execution_count": 35,
   "metadata": {},
   "outputs": [],
   "source": [
    "import networkx as nx\n",
    "def analyze(predicted_line, gold_line):\n",
    "    difference\n"
   ]
  }
 ],
 "metadata": {
  "kernelspec": {
   "display_name": "Python 3",
   "language": "python",
   "name": "python3"
  },
  "language_info": {
   "codemirror_mode": {
    "name": "ipython",
    "version": 3
   },
   "file_extension": ".py",
   "mimetype": "text/x-python",
   "name": "python",
   "nbconvert_exporter": "python",
   "pygments_lexer": "ipython3",
   "version": "3.7.2"
  }
 },
 "nbformat": 4,
 "nbformat_minor": 2
}
