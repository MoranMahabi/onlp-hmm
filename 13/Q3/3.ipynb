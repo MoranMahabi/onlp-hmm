{
 "cells": [
  {
   "cell_type": "markdown",
   "metadata": {},
   "source": [
    "# Analysis of Question 3 results\n",
    "\n",
    "The following notebook analyses the results using helper code. First, let's define methods that will asist us further."
   ]
  },
  {
   "cell_type": "code",
   "execution_count": 2,
   "metadata": {},
   "outputs": [],
   "source": [
    "# Load the predicted and gold results\n",
    "\n",
    "def load(predicted, gold):\n",
    "    out = []\n",
    "    for file_name in [predicted, gold]:\n",
    "        with open(file_name, 'r') as f:\n",
    "            out.append(f.read().splitlines())\n",
    "    return out\n",
    "    \n",
    "predicted, gold = load('../output/predicted3.txt', '../data/heb-ctrees.mini')\n",
    "assert len(predicted) <= len(gold)"
   ]
  },
  {
   "cell_type": "code",
   "execution_count": 3,
   "metadata": {},
   "outputs": [],
   "source": [
    "# Load evalb output file to a dataframe\n",
    "\n",
    "from collections import defaultdict\n",
    "import pandas as pd\n",
    "\n",
    "def load_eval(file_name):\n",
    "    out = defaultdict(dict)\n",
    "    t_tags = ['index', '_', '_', '_', 'parent', 'tag']\n",
    "    nt_tags = ['index', '_', '_', '_', 'start', 'end', 'tag']\n",
    "    int_tags = ['index', 'start', 'end']\n",
    "    meta_tags = ['ID', 'Len.', 'Stat.', 'Recal', 'Prec.', 'Matched Bracket', 'Bracket gold', 'Bracket test', 'Cross Bracket', 'Words', 'Correct Tags', 'Tag Accracy']\n",
    "    with open(file_name, 'r') as f:\n",
    "        started = False\n",
    "\n",
    "        for line in f:\n",
    "            split = [word for word in line.strip().split(' ') if word]\n",
    "            if len(split) == 12:\n",
    "                try:\n",
    "                    _ = float(split[-2])  # Only meta lines have floats at [-2]\n",
    "                    line_num = int(split[0])\n",
    "                    out[line_num]['line'] = gold[line_num - 1]\n",
    "                    out[line_num]['meta'] = dict(zip(meta_tags, map(float, split)))\n",
    "                    continue\n",
    "                except ValueError:\n",
    "                    pass\n",
    "\n",
    "            if line == '============================================================================\\n':\n",
    "                if not started:\n",
    "                    started = True\n",
    "                else:\n",
    "                    return out  # ended\n",
    "            elif not started:\n",
    "                continue\n",
    "            else:\n",
    "                if len(split) == 12 or len(split) == 14:\n",
    "                    parsing_terminals = len(split) == 12\n",
    "                    keys = ['t-predicted', 't-gold'] if parsing_terminals else ['nt-predicted', 'nt-gold']\n",
    "                    tags = t_tags if parsing_terminals else nt_tags\n",
    "\n",
    "                    half = int(len(split) / 2)\n",
    "                    for i, place in enumerate(keys):\n",
    "                        out[line_num][place] = out[line_num].get(place, [])\n",
    "                        place_tags = dict(zip(tags, split[i * half:(i + 1) * half]))\n",
    "                        for t in int_tags:\n",
    "                            if t in place_tags:\n",
    "                                place_tags[t] = int(place_tags[t])\n",
    "                        out[line_num][place].append(place_tags)\n",
    "    return out\n",
    "\n",
    "evalb = load_eval('../output/evalb-result3.txt')\n",
    "\n",
    "data = [r['meta'] for r in evalb.values()]\n",
    "evalb_df = pd.DataFrame(data)"
   ]
  },
  {
   "cell_type": "markdown",
   "metadata": {},
   "source": [
    "For starters, we notice the obvious. There's a negative correlation between the __length__ of the sentence and the Precision/Recall metrics."
   ]
  },
  {
   "cell_type": "code",
   "execution_count": 4,
   "metadata": {},
   "outputs": [
    {
     "data": {
      "text/plain": [
       "Prec.    0.111686\n",
       "Recal    0.140819\n",
       "Name: Len., dtype: float64"
      ]
     },
     "execution_count": 4,
     "metadata": {},
     "output_type": "execute_result"
    }
   ],
   "source": [
    "evalb_df.corr()['Len.'].loc[['Prec.', 'Recal']]"
   ]
  },
  {
   "cell_type": "markdown",
   "metadata": {},
   "source": [
    "But, suprsingly, the correlation isn't that low, and there's no negative correlation between the __length__ of the sentence and the tag accuracy."
   ]
  },
  {
   "cell_type": "code",
   "execution_count": 5,
   "metadata": {},
   "outputs": [
    {
     "data": {
      "text/plain": [
       "Tag Accracy    0.19497\n",
       "Name: Len., dtype: float64"
      ]
     },
     "execution_count": 5,
     "metadata": {},
     "output_type": "execute_result"
    }
   ],
   "source": [
    "evalb_df.corr()['Len.'].loc[['Tag Accracy']]"
   ]
  },
  {
   "cell_type": "markdown",
   "metadata": {},
   "source": [
    "Now, we move deeper to analyze our __PCFG__ model internals.\n",
    "\n",
    "Some helper method below:"
   ]
  },
  {
   "cell_type": "code",
   "execution_count": 6,
   "metadata": {},
   "outputs": [],
   "source": [
    "# Load the trained model\n",
    "import sys\n",
    "sys.path.append('..')\n",
    "import dill\n",
    "pickle_file = \"../pcfg-p.pe\"\n",
    "with open(pickle_file, \"rb\") as f:\n",
    "    pcfg = dill.load(f)"
   ]
  },
  {
   "cell_type": "code",
   "execution_count": 7,
   "metadata": {},
   "outputs": [],
   "source": [
    "# Display helper methods\n",
    "import svgling, svgling.html, svgling.figure\n",
    "from svgling.figure import SideBySide, RowByRow, Caption\n",
    "from svgling.core import VertAlign\n",
    "import json\n",
    "import re\n",
    "from util.transliteration import to_heb, _trans_symbols\n",
    "from IPython.core.display import display, HTML\n",
    "\n",
    "def translate(word):\n",
    "    if word in _trans_symbols:\n",
    "        ret = to_heb(word)\n",
    "        if ret=='\"':\n",
    "            return \"\\\\\\\"\"\n",
    "        return ret\n",
    "    else:\n",
    "        return word.lower()+\"\\\\n\"+\"\".join(map(to_heb, word)).replace('\"', \"\\\\\\\"\")\n",
    "\n",
    "def translate_replace(word):\n",
    "    return word.group(1) + translate(word.group(2)) +  word.group(3)\n",
    "\n",
    "def to_graph(line):\n",
    "    formatted = line.replace(\"(\",\"[\").replace(\")\",\"]\")\n",
    "    formatted = re.sub(r'([a-zA-Z]+)', r'\"\\1\"',formatted)\n",
    "    formatted = re.sub(r'(\\s\\\")([a-zA-Z]+)(\\\"\\])', translate_replace, formatted)\n",
    "    formatted = re.sub(r'\\s', r',',formatted)\n",
    "    graph = json.loads(formatted)\n",
    "    return graph\n",
    "\n",
    "def html(text, tag):\n",
    "    display(HTML(f'<{tag}>{text}</{tag}>'))\n",
    "\n",
    "def h1(text):\n",
    "    html(text, 'h1')\n",
    "\n",
    "def h2(text):\n",
    "    html(text, 'h2')\n",
    "    \n",
    "def h3(text):\n",
    "    html(text, 'h3')\n",
    "    \n",
    "def describe(line_num, p_boxes=None, g_boxes=None):\n",
    "    meta = evalb[line_num]['meta']\n",
    "    h2(f'Line {line_num}')\n",
    "    \n",
    "    pred_graph = svgling.draw_tree(to_graph(predicted[line_num-1]), distance_to_daughter=0.2, leaf_nodes_align=True)\n",
    "    gold_graph = svgling.draw_tree(to_graph(gold[line_num-1]), distance_to_daughter=0.2, leaf_nodes_align=True)\n",
    "    \n",
    "    for b in p_boxes or []:\n",
    "        pred_graph.box_constituent(b)\n",
    "    for b in g_boxes or []:\n",
    "        gold_graph.box_constituent(b)\n",
    "    \n",
    "    printer = SideBySide if meta['Len.']<9 else RowByRow\n",
    "    display(printer(Caption(pred_graph, \"Prediction\"), Caption(gold_graph, \"Gold\")))"
   ]
  },
  {
   "cell_type": "code",
   "execution_count": 8,
   "metadata": {},
   "outputs": [],
   "source": [
    "# PCFG model inspection method\n",
    "\n",
    "known_words = set(pcfg.reverse_rules['T'].keys())\n",
    "\n",
    "def to_leafs(line): # return the leafs of a bracket notated line\n",
    "    return re.findall(r'([\\w]+)\\)', line)\n",
    "        \n",
    "def get_parent_to_child(parent, child, child_side):\n",
    "    index = 0 if child_side=='left' else 1\n",
    "    parent_to_child = dict((t,prob) for t, prob in pcfg.rules[parent][pcfg.NON_TERMINAL_RULES].items() \n",
    "                           if (len(t)==2 and t[index]==child) or (len(t)==1 and t[0]==child))\n",
    "    return sorted(parent_to_child.items(), key=lambda t:-t[1])\n",
    "\n",
    "def get_possible_terminal_tags(terminal):\n",
    "    return pcfg.reverse_rules['T'].get(terminal.upper(), [])\n",
    "\n",
    "def get_unknown_score(terminal):\n",
    "    unknowns = sorted(pcfg.unknown_rules, key=lambda k: -pcfg.unknown_rules[k]) \n",
    "    return unknowns.index(terminal)"
   ]
  },
  {
   "cell_type": "code",
   "execution_count": 9,
   "metadata": {},
   "outputs": [
    {
     "ename": "KeyError",
     "evalue": "'Contain unknowns'",
     "output_type": "error",
     "traceback": [
      "\u001b[1;31m---------------------------------------------------------------------------\u001b[0m",
      "\u001b[1;31mKeyError\u001b[0m                                  Traceback (most recent call last)",
      "\u001b[1;32mc:\\work\\venv\\13\\lib\\site-packages\\pandas\\core\\indexes\\base.py\u001b[0m in \u001b[0;36mget_loc\u001b[1;34m(self, key, method, tolerance)\u001b[0m\n\u001b[0;32m   2656\u001b[0m             \u001b[1;32mtry\u001b[0m\u001b[1;33m:\u001b[0m\u001b[1;33m\u001b[0m\u001b[1;33m\u001b[0m\u001b[0m\n\u001b[1;32m-> 2657\u001b[1;33m                 \u001b[1;32mreturn\u001b[0m \u001b[0mself\u001b[0m\u001b[1;33m.\u001b[0m\u001b[0m_engine\u001b[0m\u001b[1;33m.\u001b[0m\u001b[0mget_loc\u001b[0m\u001b[1;33m(\u001b[0m\u001b[0mkey\u001b[0m\u001b[1;33m)\u001b[0m\u001b[1;33m\u001b[0m\u001b[1;33m\u001b[0m\u001b[0m\n\u001b[0m\u001b[0;32m   2658\u001b[0m             \u001b[1;32mexcept\u001b[0m \u001b[0mKeyError\u001b[0m\u001b[1;33m:\u001b[0m\u001b[1;33m\u001b[0m\u001b[1;33m\u001b[0m\u001b[0m\n",
      "\u001b[1;32mpandas\\_libs\\index.pyx\u001b[0m in \u001b[0;36mpandas._libs.index.IndexEngine.get_loc\u001b[1;34m()\u001b[0m\n",
      "\u001b[1;32mpandas\\_libs\\index.pyx\u001b[0m in \u001b[0;36mpandas._libs.index.IndexEngine.get_loc\u001b[1;34m()\u001b[0m\n",
      "\u001b[1;32mpandas\\_libs\\hashtable_class_helper.pxi\u001b[0m in \u001b[0;36mpandas._libs.hashtable.PyObjectHashTable.get_item\u001b[1;34m()\u001b[0m\n",
      "\u001b[1;32mpandas\\_libs\\hashtable_class_helper.pxi\u001b[0m in \u001b[0;36mpandas._libs.hashtable.PyObjectHashTable.get_item\u001b[1;34m()\u001b[0m\n",
      "\u001b[1;31mKeyError\u001b[0m: 'Contain unknowns'",
      "\nDuring handling of the above exception, another exception occurred:\n",
      "\u001b[1;31mKeyError\u001b[0m                                  Traceback (most recent call last)",
      "\u001b[1;32m<ipython-input-9-f99223d4509f>\u001b[0m in \u001b[0;36m<module>\u001b[1;34m\u001b[0m\n\u001b[1;32m----> 1\u001b[1;33m \u001b[0mlist\u001b[0m\u001b[1;33m(\u001b[0m\u001b[0mdescribe\u001b[0m\u001b[1;33m(\u001b[0m\u001b[0mint\u001b[0m\u001b[1;33m(\u001b[0m\u001b[0ml\u001b[0m\u001b[1;33m)\u001b[0m\u001b[1;33m)\u001b[0m \u001b[1;32mfor\u001b[0m \u001b[0ml\u001b[0m \u001b[1;32min\u001b[0m \u001b[0mevalb_df\u001b[0m\u001b[1;33m[\u001b[0m\u001b[1;33m(\u001b[0m\u001b[0mevalb_df\u001b[0m\u001b[1;33m[\u001b[0m\u001b[1;34m'Tag Accracy'\u001b[0m\u001b[1;33m]\u001b[0m\u001b[1;33m<\u001b[0m\u001b[1;36m80\u001b[0m\u001b[1;33m)\u001b[0m \u001b[1;33m&\u001b[0m \u001b[1;33m(\u001b[0m\u001b[0mevalb_df\u001b[0m\u001b[1;33m[\u001b[0m\u001b[1;34m'Tag Accracy'\u001b[0m\u001b[1;33m]\u001b[0m\u001b[1;33m>\u001b[0m\u001b[1;36m0\u001b[0m\u001b[1;33m)\u001b[0m \u001b[1;33m&\u001b[0m \u001b[1;33m(\u001b[0m\u001b[0mevalb_df\u001b[0m\u001b[1;33m[\u001b[0m\u001b[1;34m'Contain unknowns'\u001b[0m\u001b[1;33m]\u001b[0m\u001b[1;33m==\u001b[0m\u001b[1;32mFalse\u001b[0m\u001b[1;33m)\u001b[0m\u001b[1;33m]\u001b[0m\u001b[1;33m[\u001b[0m\u001b[1;34m'ID'\u001b[0m\u001b[1;33m]\u001b[0m\u001b[1;33m.\u001b[0m\u001b[0mvalues\u001b[0m\u001b[1;33m)\u001b[0m\u001b[1;33m\u001b[0m\u001b[1;33m\u001b[0m\u001b[0m\n\u001b[0m",
      "\u001b[1;32mc:\\work\\venv\\13\\lib\\site-packages\\pandas\\core\\frame.py\u001b[0m in \u001b[0;36m__getitem__\u001b[1;34m(self, key)\u001b[0m\n\u001b[0;32m   2925\u001b[0m             \u001b[1;32mif\u001b[0m \u001b[0mself\u001b[0m\u001b[1;33m.\u001b[0m\u001b[0mcolumns\u001b[0m\u001b[1;33m.\u001b[0m\u001b[0mnlevels\u001b[0m \u001b[1;33m>\u001b[0m \u001b[1;36m1\u001b[0m\u001b[1;33m:\u001b[0m\u001b[1;33m\u001b[0m\u001b[1;33m\u001b[0m\u001b[0m\n\u001b[0;32m   2926\u001b[0m                 \u001b[1;32mreturn\u001b[0m \u001b[0mself\u001b[0m\u001b[1;33m.\u001b[0m\u001b[0m_getitem_multilevel\u001b[0m\u001b[1;33m(\u001b[0m\u001b[0mkey\u001b[0m\u001b[1;33m)\u001b[0m\u001b[1;33m\u001b[0m\u001b[1;33m\u001b[0m\u001b[0m\n\u001b[1;32m-> 2927\u001b[1;33m             \u001b[0mindexer\u001b[0m \u001b[1;33m=\u001b[0m \u001b[0mself\u001b[0m\u001b[1;33m.\u001b[0m\u001b[0mcolumns\u001b[0m\u001b[1;33m.\u001b[0m\u001b[0mget_loc\u001b[0m\u001b[1;33m(\u001b[0m\u001b[0mkey\u001b[0m\u001b[1;33m)\u001b[0m\u001b[1;33m\u001b[0m\u001b[1;33m\u001b[0m\u001b[0m\n\u001b[0m\u001b[0;32m   2928\u001b[0m             \u001b[1;32mif\u001b[0m \u001b[0mis_integer\u001b[0m\u001b[1;33m(\u001b[0m\u001b[0mindexer\u001b[0m\u001b[1;33m)\u001b[0m\u001b[1;33m:\u001b[0m\u001b[1;33m\u001b[0m\u001b[1;33m\u001b[0m\u001b[0m\n\u001b[0;32m   2929\u001b[0m                 \u001b[0mindexer\u001b[0m \u001b[1;33m=\u001b[0m \u001b[1;33m[\u001b[0m\u001b[0mindexer\u001b[0m\u001b[1;33m]\u001b[0m\u001b[1;33m\u001b[0m\u001b[1;33m\u001b[0m\u001b[0m\n",
      "\u001b[1;32mc:\\work\\venv\\13\\lib\\site-packages\\pandas\\core\\indexes\\base.py\u001b[0m in \u001b[0;36mget_loc\u001b[1;34m(self, key, method, tolerance)\u001b[0m\n\u001b[0;32m   2657\u001b[0m                 \u001b[1;32mreturn\u001b[0m \u001b[0mself\u001b[0m\u001b[1;33m.\u001b[0m\u001b[0m_engine\u001b[0m\u001b[1;33m.\u001b[0m\u001b[0mget_loc\u001b[0m\u001b[1;33m(\u001b[0m\u001b[0mkey\u001b[0m\u001b[1;33m)\u001b[0m\u001b[1;33m\u001b[0m\u001b[1;33m\u001b[0m\u001b[0m\n\u001b[0;32m   2658\u001b[0m             \u001b[1;32mexcept\u001b[0m \u001b[0mKeyError\u001b[0m\u001b[1;33m:\u001b[0m\u001b[1;33m\u001b[0m\u001b[1;33m\u001b[0m\u001b[0m\n\u001b[1;32m-> 2659\u001b[1;33m                 \u001b[1;32mreturn\u001b[0m \u001b[0mself\u001b[0m\u001b[1;33m.\u001b[0m\u001b[0m_engine\u001b[0m\u001b[1;33m.\u001b[0m\u001b[0mget_loc\u001b[0m\u001b[1;33m(\u001b[0m\u001b[0mself\u001b[0m\u001b[1;33m.\u001b[0m\u001b[0m_maybe_cast_indexer\u001b[0m\u001b[1;33m(\u001b[0m\u001b[0mkey\u001b[0m\u001b[1;33m)\u001b[0m\u001b[1;33m)\u001b[0m\u001b[1;33m\u001b[0m\u001b[1;33m\u001b[0m\u001b[0m\n\u001b[0m\u001b[0;32m   2660\u001b[0m         \u001b[0mindexer\u001b[0m \u001b[1;33m=\u001b[0m \u001b[0mself\u001b[0m\u001b[1;33m.\u001b[0m\u001b[0mget_indexer\u001b[0m\u001b[1;33m(\u001b[0m\u001b[1;33m[\u001b[0m\u001b[0mkey\u001b[0m\u001b[1;33m]\u001b[0m\u001b[1;33m,\u001b[0m \u001b[0mmethod\u001b[0m\u001b[1;33m=\u001b[0m\u001b[0mmethod\u001b[0m\u001b[1;33m,\u001b[0m \u001b[0mtolerance\u001b[0m\u001b[1;33m=\u001b[0m\u001b[0mtolerance\u001b[0m\u001b[1;33m)\u001b[0m\u001b[1;33m\u001b[0m\u001b[1;33m\u001b[0m\u001b[0m\n\u001b[0;32m   2661\u001b[0m         \u001b[1;32mif\u001b[0m \u001b[0mindexer\u001b[0m\u001b[1;33m.\u001b[0m\u001b[0mndim\u001b[0m \u001b[1;33m>\u001b[0m \u001b[1;36m1\u001b[0m \u001b[1;32mor\u001b[0m \u001b[0mindexer\u001b[0m\u001b[1;33m.\u001b[0m\u001b[0msize\u001b[0m \u001b[1;33m>\u001b[0m \u001b[1;36m1\u001b[0m\u001b[1;33m:\u001b[0m\u001b[1;33m\u001b[0m\u001b[1;33m\u001b[0m\u001b[0m\n",
      "\u001b[1;32mpandas\\_libs\\index.pyx\u001b[0m in \u001b[0;36mpandas._libs.index.IndexEngine.get_loc\u001b[1;34m()\u001b[0m\n",
      "\u001b[1;32mpandas\\_libs\\index.pyx\u001b[0m in \u001b[0;36mpandas._libs.index.IndexEngine.get_loc\u001b[1;34m()\u001b[0m\n",
      "\u001b[1;32mpandas\\_libs\\hashtable_class_helper.pxi\u001b[0m in \u001b[0;36mpandas._libs.hashtable.PyObjectHashTable.get_item\u001b[1;34m()\u001b[0m\n",
      "\u001b[1;32mpandas\\_libs\\hashtable_class_helper.pxi\u001b[0m in \u001b[0;36mpandas._libs.hashtable.PyObjectHashTable.get_item\u001b[1;34m()\u001b[0m\n",
      "\u001b[1;31mKeyError\u001b[0m: 'Contain unknowns'"
     ]
    }
   ],
   "source": [
    "list(describe(int(l)) for l in evalb_df[(evalb_df['Tag Accracy']<80) & (evalb_df['Tag Accracy']>0) & (evalb_df['Contain unknowns']==False)]['ID'].values)"
   ]
  },
  {
   "cell_type": "code",
   "execution_count": 10,
   "metadata": {},
   "outputs": [
    {
     "data": {
      "text/html": [
       "<h2>Line 61</h2>"
      ],
      "text/plain": [
       "<IPython.core.display.HTML object>"
      ]
     },
     "metadata": {},
     "output_type": "display_data"
    },
    {
     "data": {
      "image/svg+xml": [
       "<svg baseProfile=\"full\" height=\"168.5px\" preserveAspectRatio=\"xMidYMid meet\" version=\"1.1\" viewBox=\"0,0,456.0,168.5\" width=\"456px\" xmlns=\"http://www.w3.org/2000/svg\" xmlns:ev=\"http://www.w3.org/2001/xml-events\" xmlns:xlink=\"http://www.w3.org/1999/xlink\"><defs /><svg height=\"168.5\" width=\"208.0\" x=\"16\" y=\"0\"><defs /><svg baseProfile=\"full\" height=\"168.5px\" preserveAspectRatio=\"xMidYMid meet\" version=\"1.1\" viewBox=\"0,0,208.0,168.5\" width=\"208px\" xmlns=\"http://www.w3.org/2000/svg\" xmlns:ev=\"http://www.w3.org/2001/xml-events\" xmlns:xlink=\"http://www.w3.org/1999/xlink\"><defs /><svg height=\"136.0\" width=\"208.0\" x=\"0\" y=\"0\"><defs /><svg baseProfile=\"full\" height=\"136px\" preserveAspectRatio=\"xMidYMid meet\" style=\"font-family: times, serif; font-weight:normal; font-style: normal; font-size: 16px;\" version=\"1.1\" viewBox=\"0,0,208.0,136.0\" width=\"208px\" xmlns=\"http://www.w3.org/2000/svg\" xmlns:ev=\"http://www.w3.org/2001/xml-events\" xmlns:xlink=\"http://www.w3.org/1999/xlink\"><defs /><svg width=\"100%\" x=\"0\" y=\"0em\"><defs /><text text-anchor=\"middle\" x=\"50%\" y=\"1em\">TOP</text></svg><svg width=\"100%\" x=\"0%\" y=\"1.2em\"><defs /><svg width=\"100%\" x=\"0\" y=\"0em\"><defs /><text text-anchor=\"middle\" x=\"50%\" y=\"1em\">SQ</text></svg><svg width=\"26.9231%\" x=\"0%\" y=\"1.2em\"><defs /><svg width=\"100%\" x=\"0\" y=\"0em\"><defs /><text text-anchor=\"middle\" x=\"50%\" y=\"1em\">PREDP</text></svg><svg width=\"100%\" x=\"0%\" y=\"1.2em\"><defs /><svg width=\"100%\" x=\"0\" y=\"0em\"><defs /><text text-anchor=\"middle\" x=\"50%\" y=\"1em\">ADVP</text></svg><svg width=\"100%\" x=\"0%\" y=\"1.2em\"><defs /><svg width=\"100%\" x=\"0\" y=\"0em\"><defs /><text text-anchor=\"middle\" x=\"50%\" y=\"1em\">RB</text></svg><svg width=\"100%\" x=\"0%\" y=\"1.2em\"><defs /><svg width=\"100%\" x=\"0\" y=\"0em\"><defs /><text text-anchor=\"middle\" x=\"50%\" y=\"1em\">awli</text><text text-anchor=\"middle\" x=\"50%\" y=\"2em\">אולי</text></svg></svg><line stroke=\"black\" x1=\"50%\" x2=\"50%\" y1=\"1.2em\" y2=\"1.2em\" /></svg><line stroke=\"black\" x1=\"50%\" x2=\"50%\" y1=\"1.2em\" y2=\"1.2em\" /></svg><line stroke=\"black\" x1=\"50%\" x2=\"50%\" y1=\"1.2em\" y2=\"1.2em\" /></svg><line stroke=\"black\" x1=\"50%\" x2=\"13.4615%\" y1=\"1.2em\" y2=\"1.2em\" /><svg width=\"50%\" x=\"26.9231%\" y=\"1.2em\"><defs /><svg width=\"100%\" x=\"0\" y=\"0em\"><defs /><text text-anchor=\"middle\" x=\"50%\" y=\"1em\">NP</text></svg><svg width=\"38.4615%\" x=\"0%\" y=\"1.2em\"><defs /><svg width=\"100%\" x=\"0\" y=\"0em\"><defs /><text text-anchor=\"middle\" x=\"50%\" y=\"1em\">NP</text></svg><svg width=\"100%\" x=\"0%\" y=\"1.2em\"><defs /><svg width=\"100%\" x=\"0\" y=\"0em\"><defs /><text text-anchor=\"middle\" x=\"50%\" y=\"1em\">PRP</text></svg><svg width=\"100%\" x=\"0%\" y=\"1.2em\"><defs /><svg width=\"100%\" x=\"0\" y=\"0em\"><defs /><text text-anchor=\"middle\" x=\"50%\" y=\"1em\">hwa</text><text text-anchor=\"middle\" x=\"50%\" y=\"2em\">הוא</text></svg></svg><line stroke=\"black\" x1=\"50%\" x2=\"50%\" y1=\"1.2em\" y2=\"1.2em\" /></svg><line stroke=\"black\" x1=\"50%\" x2=\"50%\" y1=\"1.2em\" y2=\"1.2em\" /></svg><line stroke=\"black\" x1=\"50%\" x2=\"19.2308%\" y1=\"1.2em\" y2=\"1.2em\" /><svg width=\"61.5385%\" x=\"38.4615%\" y=\"1.2em\"><defs /><svg width=\"100%\" x=\"0\" y=\"0em\"><defs /><text text-anchor=\"middle\" x=\"50%\" y=\"1em\">ADJP</text></svg><svg width=\"37.5%\" x=\"0%\" y=\"1.2em\"><defs /><svg width=\"100%\" x=\"0\" y=\"0em\"><defs /><text text-anchor=\"middle\" x=\"50%\" y=\"1em\">H</text></svg><svg width=\"100%\" x=\"0%\" y=\"1.2em\"><defs /><svg width=\"100%\" x=\"0\" y=\"0em\"><defs /><text text-anchor=\"middle\" x=\"50%\" y=\"1em\">h</text><text text-anchor=\"middle\" x=\"50%\" y=\"2em\">ה</text></svg></svg><line stroke=\"black\" x1=\"50%\" x2=\"50%\" y1=\"1.2em\" y2=\"1.2em\" /></svg><line stroke=\"black\" x1=\"50%\" x2=\"18.75%\" y1=\"1.2em\" y2=\"1.2em\" /><svg width=\"62.5%\" x=\"37.5%\" y=\"1.2em\"><defs /><svg width=\"100%\" x=\"0\" y=\"0em\"><defs /><text text-anchor=\"middle\" x=\"50%\" y=\"1em\">JJ</text></svg><svg width=\"100%\" x=\"0%\" y=\"1.2em\"><defs /><svg width=\"100%\" x=\"0\" y=\"0em\"><defs /><text text-anchor=\"middle\" x=\"50%\" y=\"1em\">fkn</text><text text-anchor=\"middle\" x=\"50%\" y=\"2em\">שכנ</text></svg></svg><line stroke=\"black\" x1=\"50%\" x2=\"50%\" y1=\"1.2em\" y2=\"1.2em\" /></svg><line stroke=\"black\" x1=\"50%\" x2=\"68.75%\" y1=\"1.2em\" y2=\"1.2em\" /></svg><line stroke=\"black\" x1=\"50%\" x2=\"69.2308%\" y1=\"1.2em\" y2=\"1.2em\" /></svg><line stroke=\"black\" x1=\"50%\" x2=\"51.9231%\" y1=\"1.2em\" y2=\"1.2em\" /><svg width=\"23.0769%\" x=\"76.9231%\" y=\"1.2em\"><defs /><svg width=\"100%\" x=\"0\" y=\"0em\"><defs /><text text-anchor=\"middle\" x=\"50%\" y=\"1em\">yyQM</text></svg><svg width=\"100%\" x=\"0%\" y=\"3.6em\"><defs /><svg width=\"100%\" x=\"0\" y=\"0.5em\"><defs /><text text-anchor=\"middle\" x=\"50%\" y=\"1em\">?</text></svg></svg><line stroke=\"black\" x1=\"50%\" x2=\"50%\" y1=\"1.2em\" y2=\"4.1em\" /></svg><line stroke=\"black\" x1=\"50%\" x2=\"88.4615%\" y1=\"1.2em\" y2=\"1.2em\" /></svg><line stroke=\"black\" x1=\"50%\" x2=\"50%\" y1=\"1.2em\" y2=\"1.2em\" /></svg></svg><svg height=\"100%\" width=\"100%\" x=\"0\" y=\"142.5\"><defs /><text style=\"font-family: times, serif; font-weight:normal; font-style: italic; font-size: 13px;\" text-anchor=\"middle\" x=\"50%\" y=\"1em\">Prediction</text></svg></svg></svg><svg height=\"168.5\" width=\"200.0\" x=\"240.0\" y=\"0\"><defs /><svg baseProfile=\"full\" height=\"168.5px\" preserveAspectRatio=\"xMidYMid meet\" version=\"1.1\" viewBox=\"0,0,200.0,168.5\" width=\"200px\" xmlns=\"http://www.w3.org/2000/svg\" xmlns:ev=\"http://www.w3.org/2001/xml-events\" xmlns:xlink=\"http://www.w3.org/1999/xlink\"><defs /><svg height=\"136.0\" width=\"200.0\" x=\"0\" y=\"0\"><defs /><svg baseProfile=\"full\" height=\"136px\" preserveAspectRatio=\"xMidYMid meet\" style=\"font-family: times, serif; font-weight:normal; font-style: normal; font-size: 16px;\" version=\"1.1\" viewBox=\"0,0,200.0,136.0\" width=\"200px\" xmlns=\"http://www.w3.org/2000/svg\" xmlns:ev=\"http://www.w3.org/2001/xml-events\" xmlns:xlink=\"http://www.w3.org/1999/xlink\"><defs /><svg width=\"100%\" x=\"0\" y=\"0em\"><defs /><text text-anchor=\"middle\" x=\"50%\" y=\"1em\">TOP</text></svg><svg width=\"100%\" x=\"0%\" y=\"1.2em\"><defs /><svg width=\"100%\" x=\"0\" y=\"0em\"><defs /><text text-anchor=\"middle\" x=\"50%\" y=\"1em\">SQ</text></svg><svg width=\"24%\" x=\"0%\" y=\"1.2em\"><defs /><svg width=\"100%\" x=\"0\" y=\"0em\"><defs /><text text-anchor=\"middle\" x=\"50%\" y=\"1em\">ADVP</text></svg><svg width=\"100%\" x=\"0%\" y=\"1.2em\"><defs /><svg width=\"100%\" x=\"0\" y=\"0em\"><defs /><text text-anchor=\"middle\" x=\"50%\" y=\"1em\">RB</text></svg><svg width=\"100%\" x=\"0%\" y=\"2.4em\"><defs /><svg width=\"100%\" x=\"0\" y=\"0em\"><defs /><text text-anchor=\"middle\" x=\"50%\" y=\"1em\">awli</text><text text-anchor=\"middle\" x=\"50%\" y=\"2em\">אולי</text></svg></svg><line stroke=\"black\" x1=\"50%\" x2=\"50%\" y1=\"1.2em\" y2=\"2.4em\" /></svg><line stroke=\"black\" x1=\"50%\" x2=\"50%\" y1=\"1.2em\" y2=\"1.2em\" /></svg><line stroke=\"black\" x1=\"50%\" x2=\"12%\" y1=\"1.2em\" y2=\"1.2em\" /><svg width=\"20%\" x=\"24%\" y=\"1.2em\"><defs /><svg width=\"100%\" x=\"0\" y=\"0em\"><defs /><text text-anchor=\"middle\" x=\"50%\" y=\"1em\">NP</text></svg><svg width=\"100%\" x=\"0%\" y=\"1.2em\"><defs /><svg width=\"100%\" x=\"0\" y=\"0em\"><defs /><text text-anchor=\"middle\" x=\"50%\" y=\"1em\">PRP</text></svg><svg width=\"100%\" x=\"0%\" y=\"2.4em\"><defs /><svg width=\"100%\" x=\"0\" y=\"0em\"><defs /><text text-anchor=\"middle\" x=\"50%\" y=\"1em\">hwa</text><text text-anchor=\"middle\" x=\"50%\" y=\"2em\">הוא</text></svg></svg><line stroke=\"black\" x1=\"50%\" x2=\"50%\" y1=\"1.2em\" y2=\"2.4em\" /></svg><line stroke=\"black\" x1=\"50%\" x2=\"50%\" y1=\"1.2em\" y2=\"1.2em\" /></svg><line stroke=\"black\" x1=\"50%\" x2=\"34%\" y1=\"1.2em\" y2=\"1.2em\" /><svg width=\"32%\" x=\"44%\" y=\"1.2em\"><defs /><svg width=\"100%\" x=\"0\" y=\"0em\"><defs /><text text-anchor=\"middle\" x=\"50%\" y=\"1em\">PREDP</text></svg><svg width=\"100%\" x=\"0%\" y=\"1.2em\"><defs /><svg width=\"100%\" x=\"0\" y=\"0em\"><defs /><text text-anchor=\"middle\" x=\"50%\" y=\"1em\">NP</text></svg><svg width=\"37.5%\" x=\"0%\" y=\"1.2em\"><defs /><svg width=\"100%\" x=\"0\" y=\"0em\"><defs /><text text-anchor=\"middle\" x=\"50%\" y=\"1em\">H</text></svg><svg width=\"100%\" x=\"0%\" y=\"1.2em\"><defs /><svg width=\"100%\" x=\"0\" y=\"0em\"><defs /><text text-anchor=\"middle\" x=\"50%\" y=\"1em\">h</text><text text-anchor=\"middle\" x=\"50%\" y=\"2em\">ה</text></svg></svg><line stroke=\"black\" x1=\"50%\" x2=\"50%\" y1=\"1.2em\" y2=\"1.2em\" /></svg><line stroke=\"black\" x1=\"50%\" x2=\"18.75%\" y1=\"1.2em\" y2=\"1.2em\" /><svg width=\"62.5%\" x=\"37.5%\" y=\"1.2em\"><defs /><svg width=\"100%\" x=\"0\" y=\"0em\"><defs /><text text-anchor=\"middle\" x=\"50%\" y=\"1em\">NN</text></svg><svg width=\"100%\" x=\"0%\" y=\"1.2em\"><defs /><svg width=\"100%\" x=\"0\" y=\"0em\"><defs /><text text-anchor=\"middle\" x=\"50%\" y=\"1em\">fkn</text><text text-anchor=\"middle\" x=\"50%\" y=\"2em\">שכנ</text></svg></svg><line stroke=\"black\" x1=\"50%\" x2=\"50%\" y1=\"1.2em\" y2=\"1.2em\" /></svg><line stroke=\"black\" x1=\"50%\" x2=\"68.75%\" y1=\"1.2em\" y2=\"1.2em\" /></svg><line stroke=\"black\" x1=\"50%\" x2=\"50%\" y1=\"1.2em\" y2=\"1.2em\" /></svg><line stroke=\"black\" x1=\"50%\" x2=\"60%\" y1=\"1.2em\" y2=\"1.2em\" /><svg width=\"24%\" x=\"76%\" y=\"1.2em\"><defs /><svg width=\"100%\" x=\"0\" y=\"0em\"><defs /><text text-anchor=\"middle\" x=\"50%\" y=\"1em\">yyQM</text></svg><svg width=\"100%\" x=\"0%\" y=\"3.6em\"><defs /><svg width=\"100%\" x=\"0\" y=\"0.5em\"><defs /><text text-anchor=\"middle\" x=\"50%\" y=\"1em\">?</text></svg></svg><line stroke=\"black\" x1=\"50%\" x2=\"50%\" y1=\"1.2em\" y2=\"4.1em\" /></svg><line stroke=\"black\" x1=\"50%\" x2=\"88%\" y1=\"1.2em\" y2=\"1.2em\" /></svg><line stroke=\"black\" x1=\"50%\" x2=\"50%\" y1=\"1.2em\" y2=\"1.2em\" /></svg></svg><svg height=\"100%\" width=\"100%\" x=\"0\" y=\"142.5\"><defs /><text style=\"font-family: times, serif; font-weight:normal; font-style: italic; font-size: 13px;\" text-anchor=\"middle\" x=\"50%\" y=\"1em\">Gold</text></svg></svg></svg></svg>"
      ],
      "text/plain": [
       "<svgling.figure.SideBySide at 0x1e81865d9e8>"
      ]
     },
     "metadata": {},
     "output_type": "display_data"
    }
   ],
   "source": [
    "describe(61)"
   ]
  },
  {
   "cell_type": "markdown",
   "metadata": {},
   "source": [
    "## Now, let's examin some mistakes:"
   ]
  },
  {
   "cell_type": "markdown",
   "metadata": {},
   "source": [
    "As we can see below, in contrast to Solution 1.2, the improved solution can now parse __questions__ better.\n",
    "\n",
    "This is now due to the fact that when parsing איזה, we now respect its possible parent and grand-parent. We saw in Q1.2 that WDT matches better to איזה, and now because NP matches fits well in the form of the sentence, both their probabilities help איזה get the right tag."
   ]
  },
  {
   "cell_type": "code",
   "execution_count": 16,
   "metadata": {},
   "outputs": [
    {
     "data": {
      "text/html": [
       "<h2>Line 5</h2>"
      ],
      "text/plain": [
       "<IPython.core.display.HTML object>"
      ]
     },
     "metadata": {},
     "output_type": "display_data"
    },
    {
     "data": {
      "image/svg+xml": [
       "<svg baseProfile=\"full\" height=\"168.5px\" preserveAspectRatio=\"xMidYMid meet\" version=\"1.1\" viewBox=\"0,0,368.0,168.5\" width=\"368px\" xmlns=\"http://www.w3.org/2000/svg\" xmlns:ev=\"http://www.w3.org/2001/xml-events\" xmlns:xlink=\"http://www.w3.org/1999/xlink\"><defs /><svg height=\"168.5\" width=\"160.0\" x=\"16\" y=\"0\"><defs /><svg baseProfile=\"full\" height=\"168.5px\" preserveAspectRatio=\"xMidYMid meet\" version=\"1.1\" viewBox=\"0,0,160.0,168.5\" width=\"160px\" xmlns=\"http://www.w3.org/2000/svg\" xmlns:ev=\"http://www.w3.org/2001/xml-events\" xmlns:xlink=\"http://www.w3.org/1999/xlink\"><defs /><svg height=\"136.0\" width=\"160.0\" x=\"0\" y=\"0\"><defs /><svg baseProfile=\"full\" height=\"136px\" preserveAspectRatio=\"xMidYMid meet\" style=\"font-family: times, serif; font-weight:normal; font-style: normal; font-size: 16px;\" version=\"1.1\" viewBox=\"0,0,160.0,136.0\" width=\"160px\" xmlns=\"http://www.w3.org/2000/svg\" xmlns:ev=\"http://www.w3.org/2001/xml-events\" xmlns:xlink=\"http://www.w3.org/1999/xlink\"><defs /><svg width=\"100%\" x=\"0\" y=\"0em\"><defs /><text text-anchor=\"middle\" x=\"50%\" y=\"1em\">TOP</text></svg><svg width=\"100%\" x=\"0%\" y=\"1.2em\"><defs /><svg width=\"100%\" x=\"0\" y=\"0em\"><defs /><text text-anchor=\"middle\" x=\"50%\" y=\"1em\">SQ</text></svg><svg width=\"30%\" x=\"0%\" y=\"1.2em\"><defs /><svg width=\"100%\" x=\"0\" y=\"0em\"><defs /><text text-anchor=\"middle\" x=\"50%\" y=\"1em\">NP</text></svg><svg width=\"100%\" x=\"0%\" y=\"1.2em\"><defs /><svg width=\"100%\" x=\"0\" y=\"0em\"><defs /><text text-anchor=\"middle\" x=\"50%\" y=\"1em\">WDT</text></svg><svg width=\"100%\" x=\"0%\" y=\"2.4em\"><defs /><svg width=\"100%\" x=\"0\" y=\"0em\"><defs /><text text-anchor=\"middle\" x=\"50%\" y=\"1em\">aizh</text><text text-anchor=\"middle\" x=\"50%\" y=\"2em\">איזה</text></svg></svg><line stroke=\"black\" x1=\"50%\" x2=\"50%\" y1=\"1.2em\" y2=\"2.4em\" /></svg><line stroke=\"black\" x1=\"50%\" x2=\"50%\" y1=\"1.2em\" y2=\"1.2em\" /></svg><line stroke=\"black\" x1=\"50%\" x2=\"15%\" y1=\"1.2em\" y2=\"1.2em\" /><svg width=\"40%\" x=\"30%\" y=\"1.2em\"><defs /><svg width=\"100%\" x=\"0\" y=\"0em\"><defs /><text text-anchor=\"middle\" x=\"50%\" y=\"1em\">PREDP</text></svg><svg width=\"100%\" x=\"0%\" y=\"1.2em\"><defs /><svg width=\"100%\" x=\"0\" y=\"0em\"><defs /><text text-anchor=\"middle\" x=\"50%\" y=\"1em\">NP</text></svg><svg width=\"100%\" x=\"0%\" y=\"1.2em\"><defs /><svg width=\"100%\" x=\"0\" y=\"0em\"><defs /><text text-anchor=\"middle\" x=\"50%\" y=\"1em\">NN</text></svg><svg width=\"100%\" x=\"0%\" y=\"1.2em\"><defs /><svg width=\"100%\" x=\"0\" y=\"0em\"><defs /><text text-anchor=\"middle\" x=\"50%\" y=\"1em\">pcweim</text><text text-anchor=\"middle\" x=\"50%\" y=\"2em\">פצועימ</text></svg></svg><line stroke=\"black\" x1=\"50%\" x2=\"50%\" y1=\"1.2em\" y2=\"1.2em\" /></svg><line stroke=\"black\" x1=\"50%\" x2=\"50%\" y1=\"1.2em\" y2=\"1.2em\" /></svg><line stroke=\"black\" x1=\"50%\" x2=\"50%\" y1=\"1.2em\" y2=\"1.2em\" /></svg><line stroke=\"black\" x1=\"50%\" x2=\"50%\" y1=\"1.2em\" y2=\"1.2em\" /><svg width=\"30%\" x=\"70%\" y=\"1.2em\"><defs /><svg width=\"100%\" x=\"0\" y=\"0em\"><defs /><text text-anchor=\"middle\" x=\"50%\" y=\"1em\">yyQM</text></svg><svg width=\"100%\" x=\"0%\" y=\"3.6em\"><defs /><svg width=\"100%\" x=\"0\" y=\"0.5em\"><defs /><text text-anchor=\"middle\" x=\"50%\" y=\"1em\">?</text></svg></svg><line stroke=\"black\" x1=\"50%\" x2=\"50%\" y1=\"1.2em\" y2=\"4.1em\" /></svg><line stroke=\"black\" x1=\"50%\" x2=\"85%\" y1=\"1.2em\" y2=\"1.2em\" /></svg><line stroke=\"black\" x1=\"50%\" x2=\"50%\" y1=\"1.2em\" y2=\"1.2em\" /><rect fill=\"gray\" fill-opacity=\"0.15\" height=\"4.9em\" rx=\"8\" ry=\"8\" stroke=\"none\" stroke-width=\"1\" width=\"30%\" x=\"0%\" y=\"3.6em\" /><rect fill=\"gray\" fill-opacity=\"0.15\" height=\"4.9em\" rx=\"8\" ry=\"8\" stroke=\"none\" stroke-width=\"1\" width=\"30%\" x=\"0%\" y=\"3.6em\" /></svg></svg><svg height=\"100%\" width=\"100%\" x=\"0\" y=\"142.5\"><defs /><text style=\"font-family: times, serif; font-weight:normal; font-style: italic; font-size: 13px;\" text-anchor=\"middle\" x=\"50%\" y=\"1em\">Prediction</text></svg></svg></svg><svg height=\"168.5\" width=\"160.0\" x=\"192.0\" y=\"0\"><defs /><svg baseProfile=\"full\" height=\"168.5px\" preserveAspectRatio=\"xMidYMid meet\" version=\"1.1\" viewBox=\"0,0,160.0,168.5\" width=\"160px\" xmlns=\"http://www.w3.org/2000/svg\" xmlns:ev=\"http://www.w3.org/2001/xml-events\" xmlns:xlink=\"http://www.w3.org/1999/xlink\"><defs /><svg height=\"136.0\" width=\"160.0\" x=\"0\" y=\"0\"><defs /><svg baseProfile=\"full\" height=\"136px\" preserveAspectRatio=\"xMidYMid meet\" style=\"font-family: times, serif; font-weight:normal; font-style: normal; font-size: 16px;\" version=\"1.1\" viewBox=\"0,0,160.0,136.0\" width=\"160px\" xmlns=\"http://www.w3.org/2000/svg\" xmlns:ev=\"http://www.w3.org/2001/xml-events\" xmlns:xlink=\"http://www.w3.org/1999/xlink\"><defs /><svg width=\"100%\" x=\"0\" y=\"0em\"><defs /><text text-anchor=\"middle\" x=\"50%\" y=\"1em\">TOP</text></svg><svg width=\"100%\" x=\"0%\" y=\"1.2em\"><defs /><svg width=\"100%\" x=\"0\" y=\"0em\"><defs /><text text-anchor=\"middle\" x=\"50%\" y=\"1em\">FRAGQ</text></svg><svg width=\"70%\" x=\"0%\" y=\"1.2em\"><defs /><svg width=\"100%\" x=\"0\" y=\"0em\"><defs /><text text-anchor=\"middle\" x=\"50%\" y=\"1em\">NP</text></svg><svg width=\"42.8571%\" x=\"0%\" y=\"1.2em\"><defs /><svg width=\"100%\" x=\"0\" y=\"0em\"><defs /><text text-anchor=\"middle\" x=\"50%\" y=\"1em\">WDT</text></svg><svg width=\"100%\" x=\"0%\" y=\"2.4em\"><defs /><svg width=\"100%\" x=\"0\" y=\"0em\"><defs /><text text-anchor=\"middle\" x=\"50%\" y=\"1em\">aizh</text><text text-anchor=\"middle\" x=\"50%\" y=\"2em\">איזה</text></svg></svg><line stroke=\"black\" x1=\"50%\" x2=\"50%\" y1=\"1.2em\" y2=\"2.4em\" /></svg><line stroke=\"black\" x1=\"50%\" x2=\"21.4286%\" y1=\"1.2em\" y2=\"1.2em\" /><svg width=\"57.1429%\" x=\"42.8571%\" y=\"1.2em\"><defs /><svg width=\"100%\" x=\"0\" y=\"0em\"><defs /><text text-anchor=\"middle\" x=\"50%\" y=\"1em\">NP</text></svg><svg width=\"100%\" x=\"0%\" y=\"1.2em\"><defs /><svg width=\"100%\" x=\"0\" y=\"0em\"><defs /><text text-anchor=\"middle\" x=\"50%\" y=\"1em\">NN</text></svg><svg width=\"100%\" x=\"0%\" y=\"1.2em\"><defs /><svg width=\"100%\" x=\"0\" y=\"0em\"><defs /><text text-anchor=\"middle\" x=\"50%\" y=\"1em\">pcweim</text><text text-anchor=\"middle\" x=\"50%\" y=\"2em\">פצועימ</text></svg></svg><line stroke=\"black\" x1=\"50%\" x2=\"50%\" y1=\"1.2em\" y2=\"1.2em\" /></svg><line stroke=\"black\" x1=\"50%\" x2=\"50%\" y1=\"1.2em\" y2=\"1.2em\" /></svg><line stroke=\"black\" x1=\"50%\" x2=\"71.4286%\" y1=\"1.2em\" y2=\"1.2em\" /></svg><line stroke=\"black\" x1=\"50%\" x2=\"35%\" y1=\"1.2em\" y2=\"1.2em\" /><svg width=\"30%\" x=\"70%\" y=\"1.2em\"><defs /><svg width=\"100%\" x=\"0\" y=\"0em\"><defs /><text text-anchor=\"middle\" x=\"50%\" y=\"1em\">yyQM</text></svg><svg width=\"100%\" x=\"0%\" y=\"3.6em\"><defs /><svg width=\"100%\" x=\"0\" y=\"0.5em\"><defs /><text text-anchor=\"middle\" x=\"50%\" y=\"1em\">?</text></svg></svg><line stroke=\"black\" x1=\"50%\" x2=\"50%\" y1=\"1.2em\" y2=\"4.1em\" /></svg><line stroke=\"black\" x1=\"50%\" x2=\"85%\" y1=\"1.2em\" y2=\"1.2em\" /></svg><line stroke=\"black\" x1=\"50%\" x2=\"50%\" y1=\"1.2em\" y2=\"1.2em\" /><rect fill=\"gray\" fill-opacity=\"0.15\" height=\"4.9em\" rx=\"8\" ry=\"8\" stroke=\"none\" stroke-width=\"1\" width=\"30%\" x=\"0%\" y=\"3.6em\" /><rect fill=\"gray\" fill-opacity=\"0.15\" height=\"4.9em\" rx=\"8\" ry=\"8\" stroke=\"none\" stroke-width=\"1\" width=\"30%\" x=\"0%\" y=\"3.6em\" /></svg></svg><svg height=\"100%\" width=\"100%\" x=\"0\" y=\"142.5\"><defs /><text style=\"font-family: times, serif; font-weight:normal; font-style: italic; font-size: 13px;\" text-anchor=\"middle\" x=\"50%\" y=\"1em\">Gold</text></svg></svg></svg></svg>"
      ],
      "text/plain": [
       "<svgling.figure.SideBySide at 0x1e81850d860>"
      ]
     },
     "metadata": {},
     "output_type": "display_data"
    },
    {
     "data": {
      "text/html": [
       "<h3>איזה parents</h3>"
      ],
      "text/plain": [
       "<IPython.core.display.HTML object>"
      ]
     },
     "metadata": {},
     "output_type": "display_data"
    },
    {
     "data": {
      "text/plain": [
       "[('WDT@NP', ('AIZH',), 0.002523698141080881),\n",
       " ('DT@NP', ('AIZH',), 0.0009057189683429655)]"
      ]
     },
     "metadata": {},
     "output_type": "display_data"
    },
    {
     "data": {
      "text/html": [
       "<h3>The following example shows a correct tagging of אולי, as opposed to before:</h3>"
      ],
      "text/plain": [
       "<IPython.core.display.HTML object>"
      ]
     },
     "metadata": {},
     "output_type": "display_data"
    },
    {
     "data": {
      "text/html": [
       "<h2>Line 61</h2>"
      ],
      "text/plain": [
       "<IPython.core.display.HTML object>"
      ]
     },
     "metadata": {},
     "output_type": "display_data"
    },
    {
     "data": {
      "image/svg+xml": [
       "<svg baseProfile=\"full\" height=\"168.5px\" preserveAspectRatio=\"xMidYMid meet\" version=\"1.1\" viewBox=\"0,0,456.0,168.5\" width=\"456px\" xmlns=\"http://www.w3.org/2000/svg\" xmlns:ev=\"http://www.w3.org/2001/xml-events\" xmlns:xlink=\"http://www.w3.org/1999/xlink\"><defs /><svg height=\"168.5\" width=\"208.0\" x=\"16\" y=\"0\"><defs /><svg baseProfile=\"full\" height=\"168.5px\" preserveAspectRatio=\"xMidYMid meet\" version=\"1.1\" viewBox=\"0,0,208.0,168.5\" width=\"208px\" xmlns=\"http://www.w3.org/2000/svg\" xmlns:ev=\"http://www.w3.org/2001/xml-events\" xmlns:xlink=\"http://www.w3.org/1999/xlink\"><defs /><svg height=\"136.0\" width=\"208.0\" x=\"0\" y=\"0\"><defs /><svg baseProfile=\"full\" height=\"136px\" preserveAspectRatio=\"xMidYMid meet\" style=\"font-family: times, serif; font-weight:normal; font-style: normal; font-size: 16px;\" version=\"1.1\" viewBox=\"0,0,208.0,136.0\" width=\"208px\" xmlns=\"http://www.w3.org/2000/svg\" xmlns:ev=\"http://www.w3.org/2001/xml-events\" xmlns:xlink=\"http://www.w3.org/1999/xlink\"><defs /><svg width=\"100%\" x=\"0\" y=\"0em\"><defs /><text text-anchor=\"middle\" x=\"50%\" y=\"1em\">TOP</text></svg><svg width=\"100%\" x=\"0%\" y=\"1.2em\"><defs /><svg width=\"100%\" x=\"0\" y=\"0em\"><defs /><text text-anchor=\"middle\" x=\"50%\" y=\"1em\">SQ</text></svg><svg width=\"26.9231%\" x=\"0%\" y=\"1.2em\"><defs /><svg width=\"100%\" x=\"0\" y=\"0em\"><defs /><text text-anchor=\"middle\" x=\"50%\" y=\"1em\">PREDP</text></svg><svg width=\"100%\" x=\"0%\" y=\"1.2em\"><defs /><svg width=\"100%\" x=\"0\" y=\"0em\"><defs /><text text-anchor=\"middle\" x=\"50%\" y=\"1em\">ADVP</text></svg><svg width=\"100%\" x=\"0%\" y=\"1.2em\"><defs /><svg width=\"100%\" x=\"0\" y=\"0em\"><defs /><text text-anchor=\"middle\" x=\"50%\" y=\"1em\">RB</text></svg><svg width=\"100%\" x=\"0%\" y=\"1.2em\"><defs /><svg width=\"100%\" x=\"0\" y=\"0em\"><defs /><text text-anchor=\"middle\" x=\"50%\" y=\"1em\">awli</text><text text-anchor=\"middle\" x=\"50%\" y=\"2em\">אולי</text></svg></svg><line stroke=\"black\" x1=\"50%\" x2=\"50%\" y1=\"1.2em\" y2=\"1.2em\" /></svg><line stroke=\"black\" x1=\"50%\" x2=\"50%\" y1=\"1.2em\" y2=\"1.2em\" /></svg><line stroke=\"black\" x1=\"50%\" x2=\"50%\" y1=\"1.2em\" y2=\"1.2em\" /></svg><line stroke=\"black\" x1=\"50%\" x2=\"13.4615%\" y1=\"1.2em\" y2=\"1.2em\" /><svg width=\"50%\" x=\"26.9231%\" y=\"1.2em\"><defs /><svg width=\"100%\" x=\"0\" y=\"0em\"><defs /><text text-anchor=\"middle\" x=\"50%\" y=\"1em\">NP</text></svg><svg width=\"38.4615%\" x=\"0%\" y=\"1.2em\"><defs /><svg width=\"100%\" x=\"0\" y=\"0em\"><defs /><text text-anchor=\"middle\" x=\"50%\" y=\"1em\">NP</text></svg><svg width=\"100%\" x=\"0%\" y=\"1.2em\"><defs /><svg width=\"100%\" x=\"0\" y=\"0em\"><defs /><text text-anchor=\"middle\" x=\"50%\" y=\"1em\">PRP</text></svg><svg width=\"100%\" x=\"0%\" y=\"1.2em\"><defs /><svg width=\"100%\" x=\"0\" y=\"0em\"><defs /><text text-anchor=\"middle\" x=\"50%\" y=\"1em\">hwa</text><text text-anchor=\"middle\" x=\"50%\" y=\"2em\">הוא</text></svg></svg><line stroke=\"black\" x1=\"50%\" x2=\"50%\" y1=\"1.2em\" y2=\"1.2em\" /></svg><line stroke=\"black\" x1=\"50%\" x2=\"50%\" y1=\"1.2em\" y2=\"1.2em\" /></svg><line stroke=\"black\" x1=\"50%\" x2=\"19.2308%\" y1=\"1.2em\" y2=\"1.2em\" /><svg width=\"61.5385%\" x=\"38.4615%\" y=\"1.2em\"><defs /><svg width=\"100%\" x=\"0\" y=\"0em\"><defs /><text text-anchor=\"middle\" x=\"50%\" y=\"1em\">ADJP</text></svg><svg width=\"37.5%\" x=\"0%\" y=\"1.2em\"><defs /><svg width=\"100%\" x=\"0\" y=\"0em\"><defs /><text text-anchor=\"middle\" x=\"50%\" y=\"1em\">H</text></svg><svg width=\"100%\" x=\"0%\" y=\"1.2em\"><defs /><svg width=\"100%\" x=\"0\" y=\"0em\"><defs /><text text-anchor=\"middle\" x=\"50%\" y=\"1em\">h</text><text text-anchor=\"middle\" x=\"50%\" y=\"2em\">ה</text></svg></svg><line stroke=\"black\" x1=\"50%\" x2=\"50%\" y1=\"1.2em\" y2=\"1.2em\" /></svg><line stroke=\"black\" x1=\"50%\" x2=\"18.75%\" y1=\"1.2em\" y2=\"1.2em\" /><svg width=\"62.5%\" x=\"37.5%\" y=\"1.2em\"><defs /><svg width=\"100%\" x=\"0\" y=\"0em\"><defs /><text text-anchor=\"middle\" x=\"50%\" y=\"1em\">JJ</text></svg><svg width=\"100%\" x=\"0%\" y=\"1.2em\"><defs /><svg width=\"100%\" x=\"0\" y=\"0em\"><defs /><text text-anchor=\"middle\" x=\"50%\" y=\"1em\">fkn</text><text text-anchor=\"middle\" x=\"50%\" y=\"2em\">שכנ</text></svg></svg><line stroke=\"black\" x1=\"50%\" x2=\"50%\" y1=\"1.2em\" y2=\"1.2em\" /></svg><line stroke=\"black\" x1=\"50%\" x2=\"68.75%\" y1=\"1.2em\" y2=\"1.2em\" /></svg><line stroke=\"black\" x1=\"50%\" x2=\"69.2308%\" y1=\"1.2em\" y2=\"1.2em\" /></svg><line stroke=\"black\" x1=\"50%\" x2=\"51.9231%\" y1=\"1.2em\" y2=\"1.2em\" /><svg width=\"23.0769%\" x=\"76.9231%\" y=\"1.2em\"><defs /><svg width=\"100%\" x=\"0\" y=\"0em\"><defs /><text text-anchor=\"middle\" x=\"50%\" y=\"1em\">yyQM</text></svg><svg width=\"100%\" x=\"0%\" y=\"3.6em\"><defs /><svg width=\"100%\" x=\"0\" y=\"0.5em\"><defs /><text text-anchor=\"middle\" x=\"50%\" y=\"1em\">?</text></svg></svg><line stroke=\"black\" x1=\"50%\" x2=\"50%\" y1=\"1.2em\" y2=\"4.1em\" /></svg><line stroke=\"black\" x1=\"50%\" x2=\"88.4615%\" y1=\"1.2em\" y2=\"1.2em\" /></svg><line stroke=\"black\" x1=\"50%\" x2=\"50%\" y1=\"1.2em\" y2=\"1.2em\" /><rect fill=\"gray\" fill-opacity=\"0.15\" height=\"4.9em\" rx=\"8\" ry=\"8\" stroke=\"none\" stroke-width=\"1\" width=\"26.9231%\" x=\"0%\" y=\"3.6em\" /><rect fill=\"gray\" fill-opacity=\"0.15\" height=\"4.9em\" rx=\"8\" ry=\"8\" stroke=\"none\" stroke-width=\"1\" width=\"26.9231%\" x=\"0%\" y=\"3.6em\" /></svg></svg><svg height=\"100%\" width=\"100%\" x=\"0\" y=\"142.5\"><defs /><text style=\"font-family: times, serif; font-weight:normal; font-style: italic; font-size: 13px;\" text-anchor=\"middle\" x=\"50%\" y=\"1em\">Prediction</text></svg></svg></svg><svg height=\"168.5\" width=\"200.0\" x=\"240.0\" y=\"0\"><defs /><svg baseProfile=\"full\" height=\"168.5px\" preserveAspectRatio=\"xMidYMid meet\" version=\"1.1\" viewBox=\"0,0,200.0,168.5\" width=\"200px\" xmlns=\"http://www.w3.org/2000/svg\" xmlns:ev=\"http://www.w3.org/2001/xml-events\" xmlns:xlink=\"http://www.w3.org/1999/xlink\"><defs /><svg height=\"136.0\" width=\"200.0\" x=\"0\" y=\"0\"><defs /><svg baseProfile=\"full\" height=\"136px\" preserveAspectRatio=\"xMidYMid meet\" style=\"font-family: times, serif; font-weight:normal; font-style: normal; font-size: 16px;\" version=\"1.1\" viewBox=\"0,0,200.0,136.0\" width=\"200px\" xmlns=\"http://www.w3.org/2000/svg\" xmlns:ev=\"http://www.w3.org/2001/xml-events\" xmlns:xlink=\"http://www.w3.org/1999/xlink\"><defs /><svg width=\"100%\" x=\"0\" y=\"0em\"><defs /><text text-anchor=\"middle\" x=\"50%\" y=\"1em\">TOP</text></svg><svg width=\"100%\" x=\"0%\" y=\"1.2em\"><defs /><svg width=\"100%\" x=\"0\" y=\"0em\"><defs /><text text-anchor=\"middle\" x=\"50%\" y=\"1em\">SQ</text></svg><svg width=\"24%\" x=\"0%\" y=\"1.2em\"><defs /><svg width=\"100%\" x=\"0\" y=\"0em\"><defs /><text text-anchor=\"middle\" x=\"50%\" y=\"1em\">ADVP</text></svg><svg width=\"100%\" x=\"0%\" y=\"1.2em\"><defs /><svg width=\"100%\" x=\"0\" y=\"0em\"><defs /><text text-anchor=\"middle\" x=\"50%\" y=\"1em\">RB</text></svg><svg width=\"100%\" x=\"0%\" y=\"2.4em\"><defs /><svg width=\"100%\" x=\"0\" y=\"0em\"><defs /><text text-anchor=\"middle\" x=\"50%\" y=\"1em\">awli</text><text text-anchor=\"middle\" x=\"50%\" y=\"2em\">אולי</text></svg></svg><line stroke=\"black\" x1=\"50%\" x2=\"50%\" y1=\"1.2em\" y2=\"2.4em\" /></svg><line stroke=\"black\" x1=\"50%\" x2=\"50%\" y1=\"1.2em\" y2=\"1.2em\" /></svg><line stroke=\"black\" x1=\"50%\" x2=\"12%\" y1=\"1.2em\" y2=\"1.2em\" /><svg width=\"20%\" x=\"24%\" y=\"1.2em\"><defs /><svg width=\"100%\" x=\"0\" y=\"0em\"><defs /><text text-anchor=\"middle\" x=\"50%\" y=\"1em\">NP</text></svg><svg width=\"100%\" x=\"0%\" y=\"1.2em\"><defs /><svg width=\"100%\" x=\"0\" y=\"0em\"><defs /><text text-anchor=\"middle\" x=\"50%\" y=\"1em\">PRP</text></svg><svg width=\"100%\" x=\"0%\" y=\"2.4em\"><defs /><svg width=\"100%\" x=\"0\" y=\"0em\"><defs /><text text-anchor=\"middle\" x=\"50%\" y=\"1em\">hwa</text><text text-anchor=\"middle\" x=\"50%\" y=\"2em\">הוא</text></svg></svg><line stroke=\"black\" x1=\"50%\" x2=\"50%\" y1=\"1.2em\" y2=\"2.4em\" /></svg><line stroke=\"black\" x1=\"50%\" x2=\"50%\" y1=\"1.2em\" y2=\"1.2em\" /></svg><line stroke=\"black\" x1=\"50%\" x2=\"34%\" y1=\"1.2em\" y2=\"1.2em\" /><svg width=\"32%\" x=\"44%\" y=\"1.2em\"><defs /><svg width=\"100%\" x=\"0\" y=\"0em\"><defs /><text text-anchor=\"middle\" x=\"50%\" y=\"1em\">PREDP</text></svg><svg width=\"100%\" x=\"0%\" y=\"1.2em\"><defs /><svg width=\"100%\" x=\"0\" y=\"0em\"><defs /><text text-anchor=\"middle\" x=\"50%\" y=\"1em\">NP</text></svg><svg width=\"37.5%\" x=\"0%\" y=\"1.2em\"><defs /><svg width=\"100%\" x=\"0\" y=\"0em\"><defs /><text text-anchor=\"middle\" x=\"50%\" y=\"1em\">H</text></svg><svg width=\"100%\" x=\"0%\" y=\"1.2em\"><defs /><svg width=\"100%\" x=\"0\" y=\"0em\"><defs /><text text-anchor=\"middle\" x=\"50%\" y=\"1em\">h</text><text text-anchor=\"middle\" x=\"50%\" y=\"2em\">ה</text></svg></svg><line stroke=\"black\" x1=\"50%\" x2=\"50%\" y1=\"1.2em\" y2=\"1.2em\" /></svg><line stroke=\"black\" x1=\"50%\" x2=\"18.75%\" y1=\"1.2em\" y2=\"1.2em\" /><svg width=\"62.5%\" x=\"37.5%\" y=\"1.2em\"><defs /><svg width=\"100%\" x=\"0\" y=\"0em\"><defs /><text text-anchor=\"middle\" x=\"50%\" y=\"1em\">NN</text></svg><svg width=\"100%\" x=\"0%\" y=\"1.2em\"><defs /><svg width=\"100%\" x=\"0\" y=\"0em\"><defs /><text text-anchor=\"middle\" x=\"50%\" y=\"1em\">fkn</text><text text-anchor=\"middle\" x=\"50%\" y=\"2em\">שכנ</text></svg></svg><line stroke=\"black\" x1=\"50%\" x2=\"50%\" y1=\"1.2em\" y2=\"1.2em\" /></svg><line stroke=\"black\" x1=\"50%\" x2=\"68.75%\" y1=\"1.2em\" y2=\"1.2em\" /></svg><line stroke=\"black\" x1=\"50%\" x2=\"50%\" y1=\"1.2em\" y2=\"1.2em\" /></svg><line stroke=\"black\" x1=\"50%\" x2=\"60%\" y1=\"1.2em\" y2=\"1.2em\" /><svg width=\"24%\" x=\"76%\" y=\"1.2em\"><defs /><svg width=\"100%\" x=\"0\" y=\"0em\"><defs /><text text-anchor=\"middle\" x=\"50%\" y=\"1em\">yyQM</text></svg><svg width=\"100%\" x=\"0%\" y=\"3.6em\"><defs /><svg width=\"100%\" x=\"0\" y=\"0.5em\"><defs /><text text-anchor=\"middle\" x=\"50%\" y=\"1em\">?</text></svg></svg><line stroke=\"black\" x1=\"50%\" x2=\"50%\" y1=\"1.2em\" y2=\"4.1em\" /></svg><line stroke=\"black\" x1=\"50%\" x2=\"88%\" y1=\"1.2em\" y2=\"1.2em\" /></svg><line stroke=\"black\" x1=\"50%\" x2=\"50%\" y1=\"1.2em\" y2=\"1.2em\" /><rect fill=\"gray\" fill-opacity=\"0.15\" height=\"4.9em\" rx=\"8\" ry=\"8\" stroke=\"none\" stroke-width=\"1\" width=\"24%\" x=\"0%\" y=\"3.6em\" /><rect fill=\"gray\" fill-opacity=\"0.15\" height=\"4.9em\" rx=\"8\" ry=\"8\" stroke=\"none\" stroke-width=\"1\" width=\"24%\" x=\"0%\" y=\"3.6em\" /></svg></svg><svg height=\"100%\" width=\"100%\" x=\"0\" y=\"142.5\"><defs /><text style=\"font-family: times, serif; font-weight:normal; font-style: italic; font-size: 13px;\" text-anchor=\"middle\" x=\"50%\" y=\"1em\">Gold</text></svg></svg></svg></svg>"
      ],
      "text/plain": [
       "<svgling.figure.SideBySide at 0x1e818662128>"
      ]
     },
     "metadata": {},
     "output_type": "display_data"
    },
    {
     "data": {
      "text/html": [
       "<h3>אולי parents</h3>"
      ],
      "text/plain": [
       "<IPython.core.display.HTML object>"
      ]
     },
     "metadata": {},
     "output_type": "display_data"
    },
    {
     "data": {
      "text/plain": [
       "[('RB@ADVP', ('AWLI',), 0.010326841374668742),\n",
       " ('MOD@NP', ('AWLI',), 0.0021342484097756943),\n",
       " ('MOD@PP', ('AWLI',), 0.004488064707042809)]"
      ]
     },
     "metadata": {},
     "output_type": "display_data"
    }
   ],
   "source": [
    "describe(5, [(0,0,0)], [(0,0,0)])\n",
    "h3(\"איזה parents\")\n",
    "display(get_possible_terminal_tags('aizh'))\n",
    "\n",
    "h3(\"The following example shows a correct tagging of אולי, as opposed to before:\")\n",
    "describe(61, [(0,0,0)], [(0,0,0)])\n",
    "h3(\"אולי parents\")\n",
    "display(get_possible_terminal_tags('awli')[0:3])"
   ]
  },
  {
   "cell_type": "markdown",
   "metadata": {},
   "source": [
    "---\n",
    "Many mistakes happen when parsing __proper nouns__, like __people names__. These are more unknown words that aren't treated \n",
    "properly."
   ]
  },
  {
   "cell_type": "markdown",
   "metadata": {},
   "source": [
    "## Now, let's gather some statistics\n",
    "\n",
    "After we got a feeling from example mistakes, let's back it with data."
   ]
  },
  {
   "cell_type": "markdown",
   "metadata": {},
   "source": [
    "### Unknown words statistics\n",
    "\n",
    "We can notice that sentences with unknown words are parsed less successfuly:"
   ]
  },
  {
   "cell_type": "code",
   "execution_count": 59,
   "metadata": {},
   "outputs": [
    {
     "data": {
      "text/html": [
       "<h3></h3>"
      ],
      "text/plain": [
       "<IPython.core.display.HTML object>"
      ]
     },
     "metadata": {},
     "output_type": "display_data"
    },
    {
     "data": {
      "text/html": [
       "<h3>There's a negative correlation between existance of unknown words, and other performance metrics:</h3>"
      ],
      "text/plain": [
       "<IPython.core.display.HTML object>"
      ]
     },
     "metadata": {},
     "output_type": "display_data"
    },
    {
     "data": {
      "text/plain": [
       "Tag Accracy   -0.248366\n",
       "Prec.         -0.085417\n",
       "Recal         -0.192433\n",
       "Name: Contain unknowns, dtype: float64"
      ]
     },
     "execution_count": 59,
     "metadata": {},
     "output_type": "execute_result"
    }
   ],
   "source": [
    "# For each row check if it contains unknown words\n",
    "\n",
    "def does_contain_unknowns(line_num):\n",
    "    leafs = to_leafs(predicted[int(line_num)-1])\n",
    "    for leaf in leafs:\n",
    "        if leaf not in known_words:\n",
    "            return True\n",
    "    return False\n",
    "\n",
    "def is_question(line_num):\n",
    "    leafs = to_leafs(predicted[int(line_num)-1])\n",
    "    return leafs and leafs[-1] == 'yyQM'\n",
    "\n",
    "evalb_df['Contain unknowns'] = evalb_df['ID'].apply(does_contain_unknowns)\n",
    "evalb_df['Is question'] = evalb_df['ID'].apply(is_question)\n",
    "evalb_df = evalb_df.assign(F1 = lambda x: 2 * x['Prec.'] * x['Recal'] / (x['Prec.'] + x['Recal']))\n",
    "\n",
    "h3('')\n",
    "h3(\"There's a negative correlation between existance of unknown words, and other performance metrics:\")\n",
    "evalb_df.corr()['Contain unknowns'].loc[['Tag Accracy', 'Prec.', 'Recal']]"
   ]
  },
  {
   "cell_type": "code",
   "execution_count": 61,
   "metadata": {},
   "outputs": [
    {
     "data": {
      "text/html": [
       "<h3>F1 scores are significally different for sentences with unknown words:</h3>"
      ],
      "text/plain": [
       "<IPython.core.display.HTML object>"
      ]
     },
     "metadata": {},
     "output_type": "display_data"
    },
    {
     "name": "stdout",
     "output_type": "stream",
     "text": [
      "F1 for all sentences 79.8\n",
      "F1 for sentences with unknown words 75.6\n",
      "F1 for sentences without unknown words 86.6\n"
     ]
    }
   ],
   "source": [
    "# Calc F1 for unknown words \n",
    "\n",
    "def df_f1(df):\n",
    "    return round(df['F1'].mean(), 1)\n",
    "\n",
    "h3(\"F1 scores are significally different for sentences with unknown words:\")\n",
    "print(\"F1 for all sentences\", df_f1(evalb_df))\n",
    "print(\"F1 for sentences with unknown words\", df_f1(evalb_df[evalb_df['Contain unknowns']==True]))\n",
    "print(\"F1 for sentences without unknown words\", df_f1(evalb_df[evalb_df['Contain unknowns']==False]))"
   ]
  },
  {
   "cell_type": "markdown",
   "metadata": {},
   "source": [
    "We also notice that the vast majority of unknown words are tagged incorrectly, and that most sentences turned out to have unknown words in them."
   ]
  },
  {
   "cell_type": "code",
   "execution_count": 212,
   "metadata": {},
   "outputs": [
    {
     "data": {
      "text/html": [
       "<h3>Ratio of sentences with unknown words</h3>"
      ],
      "text/plain": [
       "<IPython.core.display.HTML object>"
      ]
     },
     "metadata": {},
     "output_type": "display_data"
    },
    {
     "name": "stdout",
     "output_type": "stream",
     "text": [
      "66.0 %\n"
     ]
    },
    {
     "data": {
      "text/html": [
       "<h3>Ratio of unknown words tagged incorrectly</h3>"
      ],
      "text/plain": [
       "<IPython.core.display.HTML object>"
      ]
     },
     "metadata": {},
     "output_type": "display_data"
    },
    {
     "name": "stdout",
     "output_type": "stream",
     "text": [
      "71.0 %\n"
     ]
    }
   ],
   "source": [
    "import statistics\n",
    "\n",
    "def unknown_mistake_ratio(line_num):\n",
    "    leafs = to_leafs(predicted[int(line_num)-1])\n",
    "    unknown = 0\n",
    "    mistakes = 0\n",
    "\n",
    "    evalb_tags = evalb[int(line_num)]\n",
    "    for i, leaf in enumerate(leafs):\n",
    "        if leaf not in known_words:\n",
    "            unknown += 1\n",
    "            t_predicted = evalb_tags['t-predicted'][i]\n",
    "            t_gold = evalb_tags['t-gold'][i]\n",
    "            assert t_predicted['tag']==leaf\n",
    "            assert t_gold['tag']==leaf\n",
    "            if t_predicted['parent']!=t_gold['parent']:\n",
    "                mistakes += 1\n",
    "    return mistakes / unknown if unknown else None\n",
    "\n",
    "unknown_words_ratio = statistics.mean(map(unknown_mistake_ratio, list(evalb_df[evalb_df['Contain unknowns']==True]['ID'])))\n",
    "\n",
    "h3(\"Ratio of sentences with unknown words\")\n",
    "ratio = len(evalb_df[evalb_df['Contain unknowns']==True]) / len(evalb_df)\n",
    "print(round(ratio,2)*100, '%')\n",
    "\n",
    "h3(\"Ratio of unknown words tagged incorrectly\")\n",
    "print(round(unknown_words_ratio,2)*100, '%')"
   ]
  },
  {
   "cell_type": "markdown",
   "metadata": {},
   "source": [
    "## Missed non-terminal tags statistics"
   ]
  },
  {
   "cell_type": "markdown",
   "metadata": {},
   "source": [
    "Let's try to investigate where non-terminal tags are parsed incorrectly\n",
    "\n",
    "First, let's collect data about nodes in which level of the trees got wrong tags"
   ]
  },
  {
   "cell_type": "code",
   "execution_count": 81,
   "metadata": {},
   "outputs": [],
   "source": [
    "# Add a height parameter to each NT tag, and find which layer in the tree had wrong tags\n",
    "\n",
    "def set_heights(line_num, node=None):\n",
    "    eval_tags = evalb[int(line_num)]\n",
    "    nt_predicted = eval_tags['nt-predicted']\n",
    "    if not node:\n",
    "        node = nt_predicted[0]\n",
    "    children = [c for c in nt_predicted[nt_predicted.index(node) + 1:] if node['start'] <= c['start'] < node['end']]\n",
    "    if children:\n",
    "        children_height = [set_heights(line_num, c) for c in children]\n",
    "        node['height'] = max(children_height) + 1\n",
    "    else:\n",
    "        node['height'] = 2\n",
    "    return node['height']\n",
    "    \n",
    "def incorrect_NT_stats(line_num):\n",
    "    eval_tags = evalb[int(line_num)]\n",
    "    set_heights(line_num)\n",
    "    misses = defaultdict(int)\n",
    "    misses['tree_height'] = eval_tags['nt-predicted'][0]['height']\n",
    "    for p in eval_tags['nt-predicted']:\n",
    "        # find the gold tag at the same position in the tree\n",
    "        match_gold_nt = next((g for g in eval_tags['nt-gold'] if g['start']==p['start'] and g['end']==p['end']), None)\n",
    "        if not match_gold_nt:\n",
    "            misses[p['height']] += 1\n",
    "    return misses"
   ]
  },
  {
   "cell_type": "code",
   "execution_count": 83,
   "metadata": {},
   "outputs": [],
   "source": [
    "misses = dict((line_num, incorrect_NT_stats(line_num)) for line_num in evalb_df[evalb_df['Prec.']!=0]['ID'].values)"
   ]
  },
  {
   "cell_type": "code",
   "execution_count": 85,
   "metadata": {},
   "outputs": [],
   "source": [
    "missed_layers_pct = []\n",
    "for line_num, miss in misses.items():\n",
    "    tree_height = miss['tree_height']\n",
    "    missed_layers = len(miss.values()) - 1\n",
    "    missed_percent = (missed_layers / (tree_height - 2))\n",
    "    missed_layers_pct.append(missed_percent)\n",
    "    \n",
    "missed_df = pd.DataFrame(missed_layers_pct)"
   ]
  },
  {
   "cell_type": "code",
   "execution_count": 90,
   "metadata": {},
   "outputs": [
    {
     "data": {
      "text/html": [
       "<div>\n",
       "<style scoped>\n",
       "    .dataframe tbody tr th:only-of-type {\n",
       "        vertical-align: middle;\n",
       "    }\n",
       "\n",
       "    .dataframe tbody tr th {\n",
       "        vertical-align: top;\n",
       "    }\n",
       "\n",
       "    .dataframe thead th {\n",
       "        text-align: right;\n",
       "    }\n",
       "</style>\n",
       "<table border=\"1\" class=\"dataframe\">\n",
       "  <thead>\n",
       "    <tr style=\"text-align: right;\">\n",
       "      <th></th>\n",
       "      <th>0</th>\n",
       "    </tr>\n",
       "  </thead>\n",
       "  <tbody>\n",
       "    <tr>\n",
       "      <th>0</th>\n",
       "      <td>0.000000</td>\n",
       "    </tr>\n",
       "    <tr>\n",
       "      <th>1</th>\n",
       "      <td>0.000000</td>\n",
       "    </tr>\n",
       "    <tr>\n",
       "      <th>2</th>\n",
       "      <td>0.000000</td>\n",
       "    </tr>\n",
       "    <tr>\n",
       "      <th>3</th>\n",
       "      <td>0.000000</td>\n",
       "    </tr>\n",
       "    <tr>\n",
       "      <th>4</th>\n",
       "      <td>0.333333</td>\n",
       "    </tr>\n",
       "  </tbody>\n",
       "</table>\n",
       "</div>"
      ],
      "text/plain": [
       "          0\n",
       "0  0.000000\n",
       "1  0.000000\n",
       "2  0.000000\n",
       "3  0.000000\n",
       "4  0.333333"
      ]
     },
     "execution_count": 90,
     "metadata": {},
     "output_type": "execute_result"
    }
   ],
   "source": [
    "# missed_df contains the percent of levels in the tree that were tagged incorrectly\n",
    "missed_df[:5]"
   ]
  },
  {
   "cell_type": "markdown",
   "metadata": {},
   "source": [
    "Let's plot the distribution"
   ]
  },
  {
   "cell_type": "code",
   "execution_count": 92,
   "metadata": {},
   "outputs": [
    {
     "data": {
      "image/png": "[encoded data removed]",
      "text/plain": [
       "<Figure size 864x432 with 1 Axes>"
      ]
     },
     "metadata": {
      "needs_background": "light"
     },
     "output_type": "display_data"
    }
   ],
   "source": [
    "import matplotlib.pyplot as plt\n",
    "from IPython.core.pylabtools import figsize\n",
    "\n",
    "figsize(12, 6)\n",
    "plt.hist(missed_df[0])\n",
    "plt.title('Percent of incorrectly tagged tree-levels')\n",
    "plt.ylabel('# sentences');"
   ]
  },
  {
   "cell_type": "code",
   "execution_count": 93,
   "metadata": {},
   "outputs": [
    {
     "data": {
      "text/html": [
       "<h3>In cases were a tree was tagged incorrectly, on average 44% of its levels were wrong</h3>"
      ],
      "text/plain": [
       "<IPython.core.display.HTML object>"
      ]
     },
     "metadata": {},
     "output_type": "display_data"
    }
   ],
   "source": [
    "import statistics \n",
    "median = statistics.mean(v for v in missed_layers_pct if v)\n",
    "\n",
    "h3(f\"In cases were a tree was tagged incorrectly, on average {round(median*100)}% of its levels were wrong\")"
   ]
  },
  {
   "cell_type": "markdown",
   "metadata": {},
   "source": [
    "### Surprising results\n",
    "This is surprising, failing to tag a non-terminal doesn't seem to always cause its parent to be tagged incorrectly.\n",
    "\n",
    "This is a nice feature of CYK, where each node evenly respects the calculation of its two children, and may ignore a child mistake."
   ]
  }
 ],
 "metadata": {
  "kernelspec": {
   "display_name": "Python 3",
   "language": "python",
   "name": "python3"
  },
  "language_info": {
   "codemirror_mode": {
    "name": "ipython",
    "version": 3
   },
   "file_extension": ".py",
   "mimetype": "text/x-python",
   "name": "python",
   "nbconvert_exporter": "python",
   "pygments_lexer": "ipython3",
   "version": "3.7.3"
  }
 },
 "nbformat": 4,
 "nbformat_minor": 2
}
