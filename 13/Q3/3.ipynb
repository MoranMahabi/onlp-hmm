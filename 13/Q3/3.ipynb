{
 "cells": [
  {
   "cell_type": "markdown",
   "metadata": {},
   "source": [
    "# Analysis of Question 3 results\n",
    "\n",
    "The following notebook analyses the results using helper code. First, let's define methods that will asist us further."
   ]
  },
  {
   "cell_type": "code",
   "execution_count": 1,
   "metadata": {},
   "outputs": [],
   "source": [
    "# Load the predicted and gold results\n",
    "\n",
    "def load(predicted, gold):\n",
    "    out = []\n",
    "    for file_name in [predicted, gold]:\n",
    "        with open(file_name, 'r') as f:\n",
    "            out.append(f.read().splitlines())\n",
    "    return out\n",
    "    \n",
    "predicted, gold = load('../output/predicted3j.txt', '../data/heb-ctrees.joint')\n",
    "assert len(predicted) <= len(gold)"
   ]
  },
  {
   "cell_type": "code",
   "execution_count": 27,
   "metadata": {},
   "outputs": [],
   "source": [
    "# Load evalb output file to a dataframe\n",
    "\n",
    "from collections import defaultdict\n",
    "import pandas as pd\n",
    "\n",
    "def load_eval(file_name):\n",
    "    out = defaultdict(dict)\n",
    "    t_tags = ['index', '_', '_', '_', 'parent', 'tag']\n",
    "    nt_tags = ['index', '_', '_', '_', 'start', 'end', 'tag']\n",
    "    int_tags = ['index', 'start', 'end']\n",
    "    meta_tags = ['ID', 'Len.', 'Stat.', 'Recal', 'Prec.', 'Matched Bracket', 'Bracket gold', 'Bracket test', 'Cross Bracket', 'Words', 'Correct Tags', 'Tag Accracy']\n",
    "    with open(file_name, 'r') as f:\n",
    "        started = False\n",
    "\n",
    "        for line in f:\n",
    "            split = [word for word in line.strip().split(' ') if word]\n",
    "            if len(split) == 12:\n",
    "                try:\n",
    "                    _ = float(split[-2])  # Only meta lines have floats at [-2]\n",
    "                    line_num = int(split[0])\n",
    "                    out[line_num]['line'] = gold[line_num - 1]\n",
    "                    out[line_num]['meta'] = dict(zip(meta_tags, map(float, split)))\n",
    "                    continue\n",
    "                except ValueError:\n",
    "                    pass\n",
    "\n",
    "            if line == '============================================================================\\n':\n",
    "                if not started:\n",
    "                    started = True\n",
    "                else:\n",
    "                    return out  # ended\n",
    "            elif not started:\n",
    "                continue\n",
    "            else:\n",
    "                if len(split) == 12 or len(split) == 14:\n",
    "                    parsing_terminals = len(split) == 12\n",
    "                    keys = ['t-predicted', 't-gold'] if parsing_terminals else ['nt-predicted', 'nt-gold']\n",
    "                    tags = t_tags if parsing_terminals else nt_tags\n",
    "\n",
    "                    half = int(len(split) / 2)\n",
    "                    for i, place in enumerate(keys):\n",
    "                        out[line_num][place] = out[line_num].get(place, [])\n",
    "                        place_tags = dict(zip(tags, split[i * half:(i + 1) * half]))\n",
    "                        for t in int_tags:\n",
    "                            if t in place_tags:\n",
    "                                place_tags[t] = int(place_tags[t])\n",
    "                        out[line_num][place].append(place_tags)\n",
    "    return out\n",
    "\n",
    "evalb = load_eval('../output/evalb-result3j.txt')\n",
    "evalb12 = load_eval('../output/evalb-result12j.txt')\n",
    "\n",
    "\n",
    "data = [r['meta'] for r in evalb.values()]\n",
    "evalb_df = pd.DataFrame(data)\n",
    "\n",
    "data = [r['meta'] for r in evalb12.values()]\n",
    "evalb12_df = pd.DataFrame(data)[:len(evalb_df)]"
   ]
  },
  {
   "cell_type": "markdown",
   "metadata": {},
   "source": [
    "For starters, we notice that again there's a negative correlation between the __length__ of the sentence and the Precision/Recall metrics, but now, it's less obvious than in solution 1.2."
   ]
  },
  {
   "cell_type": "code",
   "execution_count": 13,
   "metadata": {},
   "outputs": [
    {
     "name": "stdout",
     "output_type": "stream",
     "text": [
      "Solution 3 correlation between length, and performance metrics:\n"
     ]
    },
    {
     "data": {
      "text/plain": [
       "Prec.   -0.051364\n",
       "Recal   -0.054662\n",
       "Name: Len., dtype: float64"
      ]
     },
     "metadata": {},
     "output_type": "display_data"
    },
    {
     "name": "stdout",
     "output_type": "stream",
     "text": [
      "Solution 1.2:\n"
     ]
    },
    {
     "data": {
      "text/plain": [
       "Prec.   -0.160588\n",
       "Recal   -0.146985\n",
       "Name: Len., dtype: float64"
      ]
     },
     "metadata": {},
     "output_type": "display_data"
    }
   ],
   "source": [
    "print(\"Solution 3 correlation between length, and performance metrics:\")\n",
    "display(evalb_df.corr()['Len.'].loc[['Prec.', 'Recal']])\n",
    "\n",
    "print(\"Solution 1.2:\")\n",
    "display(evalb12_df.corr()['Len.'].loc[['Prec.', 'Recal']])"
   ]
  },
  {
   "cell_type": "markdown",
   "metadata": {},
   "source": [
    "And again, suprsingly, there's no negative correlation between the __length__ of the sentence and the tag accuracy."
   ]
  },
  {
   "cell_type": "code",
   "execution_count": 4,
   "metadata": {},
   "outputs": [
    {
     "data": {
      "text/plain": [
       "Tag Accracy    0.197511\n",
       "Name: Len., dtype: float64"
      ]
     },
     "execution_count": 4,
     "metadata": {},
     "output_type": "execute_result"
    }
   ],
   "source": [
    "evalb_df.corr()['Len.'].loc[['Tag Accracy']]"
   ]
  },
  {
   "cell_type": "markdown",
   "metadata": {},
   "source": [
    "Now, we move deeper to analyze our __PCFG__ model internals.\n",
    "\n",
    "Some helper method below:"
   ]
  },
  {
   "cell_type": "code",
   "execution_count": 16,
   "metadata": {},
   "outputs": [],
   "source": [
    "# Load the trained model\n",
    "import sys\n",
    "sys.path.append('..')\n",
    "import dill\n",
    "pickle_file = \"../pcfg-p.pe\"\n",
    "with open(pickle_file, \"rb\") as f:\n",
    "    pcfg = dill.load(f)"
   ]
  },
  {
   "cell_type": "code",
   "execution_count": 17,
   "metadata": {},
   "outputs": [],
   "source": [
    "# Display helper methods\n",
    "import svgling, svgling.html, svgling.figure\n",
    "from svgling.figure import SideBySide, RowByRow, Caption\n",
    "from svgling.core import VertAlign\n",
    "import json\n",
    "import re\n",
    "from util.transliteration import to_heb, _trans_symbols\n",
    "from IPython.core.display import display, HTML\n",
    "\n",
    "def translate(word):\n",
    "    if word in _trans_symbols:\n",
    "        ret = to_heb(word)\n",
    "        if ret=='\"':\n",
    "            return \"\\\\\\\"\"\n",
    "        return ret\n",
    "    else:\n",
    "        return word.lower()+\"\\\\n\"+\"\".join(map(to_heb, word)).replace('\"', \"\\\\\\\"\")\n",
    "\n",
    "def translate_replace(word):\n",
    "    return word.group(1) + translate(word.group(2)) +  word.group(3)\n",
    "\n",
    "def to_graph(line):\n",
    "    formatted = line.replace(\"(\",\"[\").replace(\")\",\"]\")\n",
    "    formatted = re.sub(r'([a-zA-Z]+)', r'\"\\1\"',formatted)\n",
    "    formatted = re.sub(r'(\\s\\\")([a-zA-Z]+)(\\\"\\])', translate_replace, formatted)\n",
    "    formatted = re.sub(r'\\s', r',',formatted)\n",
    "    graph = json.loads(formatted)\n",
    "    return graph\n",
    "\n",
    "def html(text, tag):\n",
    "    display(HTML(f'<{tag}>{text}</{tag}>'))\n",
    "\n",
    "def h1(text):\n",
    "    html(text, 'h1')\n",
    "\n",
    "def h2(text):\n",
    "    html(text, 'h2')\n",
    "    \n",
    "def h3(text):\n",
    "    html(text, 'h3')\n",
    "    \n",
    "def describe(line_num, p_boxes=None, g_boxes=None):\n",
    "    meta = evalb[line_num]['meta']\n",
    "    h2(f'Line {line_num}')\n",
    "    \n",
    "    pred_graph = svgling.draw_tree(to_graph(predicted[line_num-1]), distance_to_daughter=0.2, leaf_nodes_align=True)\n",
    "    gold_graph = svgling.draw_tree(to_graph(gold[line_num-1]), distance_to_daughter=0.2, leaf_nodes_align=True)\n",
    "    \n",
    "    for b in p_boxes or []:\n",
    "        pred_graph.box_constituent(b)\n",
    "    for b in g_boxes or []:\n",
    "        gold_graph.box_constituent(b)\n",
    "    \n",
    "    printer = SideBySide if meta['Len.']<9 else RowByRow\n",
    "    display(printer(Caption(pred_graph, \"Prediction\"), Caption(gold_graph, \"Gold\")))"
   ]
  },
  {
   "cell_type": "code",
   "execution_count": 19,
   "metadata": {},
   "outputs": [],
   "source": [
    "# PCFG model inspection method\n",
    "\n",
    "known_words = set(pcfg.reverse_rules['T'].keys())\n",
    "\n",
    "def to_leafs(line): # return the leafs of a bracket notated line\n",
    "    return re.findall(r'([\\w]+)\\)', line)\n",
    "        \n",
    "def get_parent_to_child(parent, child, child_side):\n",
    "    index = 0 if child_side=='left' else 1\n",
    "    parent_to_child = dict((t,prob) for t, prob in pcfg.rules[parent][pcfg.NON_TERMINAL_RULES].items() \n",
    "                           if (len(t)==2 and t[index]==child) or (len(t)==1 and t[0]==child))\n",
    "    return sorted(parent_to_child.items(), key=lambda t:-t[1])\n",
    "\n",
    "def get_possible_terminal_tags(terminal):\n",
    "    return pcfg.reverse_rules['T'].get(terminal.upper(), [])\n",
    "\n",
    "def get_unknown_score(terminal):\n",
    "    unknowns = sorted(pcfg.unknown_rules, key=lambda k: -pcfg.unknown_rules[k]) \n",
    "    return unknowns.index(terminal)"
   ]
  },
  {
   "cell_type": "markdown",
   "metadata": {},
   "source": [
    "## Now, let's examin some mistakes:"
   ]
  },
  {
   "cell_type": "markdown",
   "metadata": {},
   "source": [
    "As we can see below, in contrast to Solution 1.2, the improved solution can now parse __questions__ better.\n",
    "\n",
    "This is now due to the fact that when parsing איזה, we now respect its possible parent and grand-parent. We saw in Q1.2 that WDT matches better to איזה, and now because NP matches fits well in the form of the sentence, both their probabilities help איזה get the right tag."
   ]
  },
  {
   "cell_type": "code",
   "execution_count": 16,
   "metadata": {},
   "outputs": [
    {
     "data": {
      "text/html": [
       "<h2>Line 5</h2>"
      ],
      "text/plain": [
       "<IPython.core.display.HTML object>"
      ]
     },
     "metadata": {},
     "output_type": "display_data"
    },
    {
     "data": {
      "image/svg+xml": [
       "<svg baseProfile=\"full\" height=\"168.5px\" preserveAspectRatio=\"xMidYMid meet\" version=\"1.1\" viewBox=\"0,0,368.0,168.5\" width=\"368px\" xmlns=\"http://www.w3.org/2000/svg\" xmlns:ev=\"http://www.w3.org/2001/xml-events\" xmlns:xlink=\"http://www.w3.org/1999/xlink\"><defs /><svg height=\"168.5\" width=\"160.0\" x=\"16\" y=\"0\"><defs /><svg baseProfile=\"full\" height=\"168.5px\" preserveAspectRatio=\"xMidYMid meet\" version=\"1.1\" viewBox=\"0,0,160.0,168.5\" width=\"160px\" xmlns=\"http://www.w3.org/2000/svg\" xmlns:ev=\"http://www.w3.org/2001/xml-events\" xmlns:xlink=\"http://www.w3.org/1999/xlink\"><defs /><svg height=\"136.0\" width=\"160.0\" x=\"0\" y=\"0\"><defs /><svg baseProfile=\"full\" height=\"136px\" preserveAspectRatio=\"xMidYMid meet\" style=\"font-family: times, serif; font-weight:normal; font-style: normal; font-size: 16px;\" version=\"1.1\" viewBox=\"0,0,160.0,136.0\" width=\"160px\" xmlns=\"http://www.w3.org/2000/svg\" xmlns:ev=\"http://www.w3.org/2001/xml-events\" xmlns:xlink=\"http://www.w3.org/1999/xlink\"><defs /><svg width=\"100%\" x=\"0\" y=\"0em\"><defs /><text text-anchor=\"middle\" x=\"50%\" y=\"1em\">TOP</text></svg><svg width=\"100%\" x=\"0%\" y=\"1.2em\"><defs /><svg width=\"100%\" x=\"0\" y=\"0em\"><defs /><text text-anchor=\"middle\" x=\"50%\" y=\"1em\">SQ</text></svg><svg width=\"30%\" x=\"0%\" y=\"1.2em\"><defs /><svg width=\"100%\" x=\"0\" y=\"0em\"><defs /><text text-anchor=\"middle\" x=\"50%\" y=\"1em\">NP</text></svg><svg width=\"100%\" x=\"0%\" y=\"1.2em\"><defs /><svg width=\"100%\" x=\"0\" y=\"0em\"><defs /><text text-anchor=\"middle\" x=\"50%\" y=\"1em\">WDT</text></svg><svg width=\"100%\" x=\"0%\" y=\"2.4em\"><defs /><svg width=\"100%\" x=\"0\" y=\"0em\"><defs /><text text-anchor=\"middle\" x=\"50%\" y=\"1em\">aizh</text><text text-anchor=\"middle\" x=\"50%\" y=\"2em\">איזה</text></svg></svg><line stroke=\"black\" x1=\"50%\" x2=\"50%\" y1=\"1.2em\" y2=\"2.4em\" /></svg><line stroke=\"black\" x1=\"50%\" x2=\"50%\" y1=\"1.2em\" y2=\"1.2em\" /></svg><line stroke=\"black\" x1=\"50%\" x2=\"15%\" y1=\"1.2em\" y2=\"1.2em\" /><svg width=\"40%\" x=\"30%\" y=\"1.2em\"><defs /><svg width=\"100%\" x=\"0\" y=\"0em\"><defs /><text text-anchor=\"middle\" x=\"50%\" y=\"1em\">PREDP</text></svg><svg width=\"100%\" x=\"0%\" y=\"1.2em\"><defs /><svg width=\"100%\" x=\"0\" y=\"0em\"><defs /><text text-anchor=\"middle\" x=\"50%\" y=\"1em\">NP</text></svg><svg width=\"100%\" x=\"0%\" y=\"1.2em\"><defs /><svg width=\"100%\" x=\"0\" y=\"0em\"><defs /><text text-anchor=\"middle\" x=\"50%\" y=\"1em\">NN</text></svg><svg width=\"100%\" x=\"0%\" y=\"1.2em\"><defs /><svg width=\"100%\" x=\"0\" y=\"0em\"><defs /><text text-anchor=\"middle\" x=\"50%\" y=\"1em\">pcweim</text><text text-anchor=\"middle\" x=\"50%\" y=\"2em\">פצועימ</text></svg></svg><line stroke=\"black\" x1=\"50%\" x2=\"50%\" y1=\"1.2em\" y2=\"1.2em\" /></svg><line stroke=\"black\" x1=\"50%\" x2=\"50%\" y1=\"1.2em\" y2=\"1.2em\" /></svg><line stroke=\"black\" x1=\"50%\" x2=\"50%\" y1=\"1.2em\" y2=\"1.2em\" /></svg><line stroke=\"black\" x1=\"50%\" x2=\"50%\" y1=\"1.2em\" y2=\"1.2em\" /><svg width=\"30%\" x=\"70%\" y=\"1.2em\"><defs /><svg width=\"100%\" x=\"0\" y=\"0em\"><defs /><text text-anchor=\"middle\" x=\"50%\" y=\"1em\">yyQM</text></svg><svg width=\"100%\" x=\"0%\" y=\"3.6em\"><defs /><svg width=\"100%\" x=\"0\" y=\"0.5em\"><defs /><text text-anchor=\"middle\" x=\"50%\" y=\"1em\">?</text></svg></svg><line stroke=\"black\" x1=\"50%\" x2=\"50%\" y1=\"1.2em\" y2=\"4.1em\" /></svg><line stroke=\"black\" x1=\"50%\" x2=\"85%\" y1=\"1.2em\" y2=\"1.2em\" /></svg><line stroke=\"black\" x1=\"50%\" x2=\"50%\" y1=\"1.2em\" y2=\"1.2em\" /><rect fill=\"gray\" fill-opacity=\"0.15\" height=\"4.9em\" rx=\"8\" ry=\"8\" stroke=\"none\" stroke-width=\"1\" width=\"30%\" x=\"0%\" y=\"3.6em\" /><rect fill=\"gray\" fill-opacity=\"0.15\" height=\"4.9em\" rx=\"8\" ry=\"8\" stroke=\"none\" stroke-width=\"1\" width=\"30%\" x=\"0%\" y=\"3.6em\" /></svg></svg><svg height=\"100%\" width=\"100%\" x=\"0\" y=\"142.5\"><defs /><text style=\"font-family: times, serif; font-weight:normal; font-style: italic; font-size: 13px;\" text-anchor=\"middle\" x=\"50%\" y=\"1em\">Prediction</text></svg></svg></svg><svg height=\"168.5\" width=\"160.0\" x=\"192.0\" y=\"0\"><defs /><svg baseProfile=\"full\" height=\"168.5px\" preserveAspectRatio=\"xMidYMid meet\" version=\"1.1\" viewBox=\"0,0,160.0,168.5\" width=\"160px\" xmlns=\"http://www.w3.org/2000/svg\" xmlns:ev=\"http://www.w3.org/2001/xml-events\" xmlns:xlink=\"http://www.w3.org/1999/xlink\"><defs /><svg height=\"136.0\" width=\"160.0\" x=\"0\" y=\"0\"><defs /><svg baseProfile=\"full\" height=\"136px\" preserveAspectRatio=\"xMidYMid meet\" style=\"font-family: times, serif; font-weight:normal; font-style: normal; font-size: 16px;\" version=\"1.1\" viewBox=\"0,0,160.0,136.0\" width=\"160px\" xmlns=\"http://www.w3.org/2000/svg\" xmlns:ev=\"http://www.w3.org/2001/xml-events\" xmlns:xlink=\"http://www.w3.org/1999/xlink\"><defs /><svg width=\"100%\" x=\"0\" y=\"0em\"><defs /><text text-anchor=\"middle\" x=\"50%\" y=\"1em\">TOP</text></svg><svg width=\"100%\" x=\"0%\" y=\"1.2em\"><defs /><svg width=\"100%\" x=\"0\" y=\"0em\"><defs /><text text-anchor=\"middle\" x=\"50%\" y=\"1em\">FRAGQ</text></svg><svg width=\"70%\" x=\"0%\" y=\"1.2em\"><defs /><svg width=\"100%\" x=\"0\" y=\"0em\"><defs /><text text-anchor=\"middle\" x=\"50%\" y=\"1em\">NP</text></svg><svg width=\"42.8571%\" x=\"0%\" y=\"1.2em\"><defs /><svg width=\"100%\" x=\"0\" y=\"0em\"><defs /><text text-anchor=\"middle\" x=\"50%\" y=\"1em\">WDT</text></svg><svg width=\"100%\" x=\"0%\" y=\"2.4em\"><defs /><svg width=\"100%\" x=\"0\" y=\"0em\"><defs /><text text-anchor=\"middle\" x=\"50%\" y=\"1em\">aizh</text><text text-anchor=\"middle\" x=\"50%\" y=\"2em\">איזה</text></svg></svg><line stroke=\"black\" x1=\"50%\" x2=\"50%\" y1=\"1.2em\" y2=\"2.4em\" /></svg><line stroke=\"black\" x1=\"50%\" x2=\"21.4286%\" y1=\"1.2em\" y2=\"1.2em\" /><svg width=\"57.1429%\" x=\"42.8571%\" y=\"1.2em\"><defs /><svg width=\"100%\" x=\"0\" y=\"0em\"><defs /><text text-anchor=\"middle\" x=\"50%\" y=\"1em\">NP</text></svg><svg width=\"100%\" x=\"0%\" y=\"1.2em\"><defs /><svg width=\"100%\" x=\"0\" y=\"0em\"><defs /><text text-anchor=\"middle\" x=\"50%\" y=\"1em\">NN</text></svg><svg width=\"100%\" x=\"0%\" y=\"1.2em\"><defs /><svg width=\"100%\" x=\"0\" y=\"0em\"><defs /><text text-anchor=\"middle\" x=\"50%\" y=\"1em\">pcweim</text><text text-anchor=\"middle\" x=\"50%\" y=\"2em\">פצועימ</text></svg></svg><line stroke=\"black\" x1=\"50%\" x2=\"50%\" y1=\"1.2em\" y2=\"1.2em\" /></svg><line stroke=\"black\" x1=\"50%\" x2=\"50%\" y1=\"1.2em\" y2=\"1.2em\" /></svg><line stroke=\"black\" x1=\"50%\" x2=\"71.4286%\" y1=\"1.2em\" y2=\"1.2em\" /></svg><line stroke=\"black\" x1=\"50%\" x2=\"35%\" y1=\"1.2em\" y2=\"1.2em\" /><svg width=\"30%\" x=\"70%\" y=\"1.2em\"><defs /><svg width=\"100%\" x=\"0\" y=\"0em\"><defs /><text text-anchor=\"middle\" x=\"50%\" y=\"1em\">yyQM</text></svg><svg width=\"100%\" x=\"0%\" y=\"3.6em\"><defs /><svg width=\"100%\" x=\"0\" y=\"0.5em\"><defs /><text text-anchor=\"middle\" x=\"50%\" y=\"1em\">?</text></svg></svg><line stroke=\"black\" x1=\"50%\" x2=\"50%\" y1=\"1.2em\" y2=\"4.1em\" /></svg><line stroke=\"black\" x1=\"50%\" x2=\"85%\" y1=\"1.2em\" y2=\"1.2em\" /></svg><line stroke=\"black\" x1=\"50%\" x2=\"50%\" y1=\"1.2em\" y2=\"1.2em\" /><rect fill=\"gray\" fill-opacity=\"0.15\" height=\"4.9em\" rx=\"8\" ry=\"8\" stroke=\"none\" stroke-width=\"1\" width=\"30%\" x=\"0%\" y=\"3.6em\" /><rect fill=\"gray\" fill-opacity=\"0.15\" height=\"4.9em\" rx=\"8\" ry=\"8\" stroke=\"none\" stroke-width=\"1\" width=\"30%\" x=\"0%\" y=\"3.6em\" /></svg></svg><svg height=\"100%\" width=\"100%\" x=\"0\" y=\"142.5\"><defs /><text style=\"font-family: times, serif; font-weight:normal; font-style: italic; font-size: 13px;\" text-anchor=\"middle\" x=\"50%\" y=\"1em\">Gold</text></svg></svg></svg></svg>"
      ],
      "text/plain": [
       "<svgling.figure.SideBySide at 0x1e81850d860>"
      ]
     },
     "metadata": {},
     "output_type": "display_data"
    },
    {
     "data": {
      "text/html": [
       "<h3>איזה parents</h3>"
      ],
      "text/plain": [
       "<IPython.core.display.HTML object>"
      ]
     },
     "metadata": {},
     "output_type": "display_data"
    },
    {
     "data": {
      "text/plain": [
       "[('WDT@NP', ('AIZH',), 0.002523698141080881),\n",
       " ('DT@NP', ('AIZH',), 0.0009057189683429655)]"
      ]
     },
     "metadata": {},
     "output_type": "display_data"
    },
    {
     "data": {
      "text/html": [
       "<h3>The following example shows a correct tagging of אולי, as opposed to before:</h3>"
      ],
      "text/plain": [
       "<IPython.core.display.HTML object>"
      ]
     },
     "metadata": {},
     "output_type": "display_data"
    },
    {
     "data": {
      "text/html": [
       "<h2>Line 61</h2>"
      ],
      "text/plain": [
       "<IPython.core.display.HTML object>"
      ]
     },
     "metadata": {},
     "output_type": "display_data"
    },
    {
     "data": {
      "image/svg+xml": [
       "<svg baseProfile=\"full\" height=\"168.5px\" preserveAspectRatio=\"xMidYMid meet\" version=\"1.1\" viewBox=\"0,0,456.0,168.5\" width=\"456px\" xmlns=\"http://www.w3.org/2000/svg\" xmlns:ev=\"http://www.w3.org/2001/xml-events\" xmlns:xlink=\"http://www.w3.org/1999/xlink\"><defs /><svg height=\"168.5\" width=\"208.0\" x=\"16\" y=\"0\"><defs /><svg baseProfile=\"full\" height=\"168.5px\" preserveAspectRatio=\"xMidYMid meet\" version=\"1.1\" viewBox=\"0,0,208.0,168.5\" width=\"208px\" xmlns=\"http://www.w3.org/2000/svg\" xmlns:ev=\"http://www.w3.org/2001/xml-events\" xmlns:xlink=\"http://www.w3.org/1999/xlink\"><defs /><svg height=\"136.0\" width=\"208.0\" x=\"0\" y=\"0\"><defs /><svg baseProfile=\"full\" height=\"136px\" preserveAspectRatio=\"xMidYMid meet\" style=\"font-family: times, serif; font-weight:normal; font-style: normal; font-size: 16px;\" version=\"1.1\" viewBox=\"0,0,208.0,136.0\" width=\"208px\" xmlns=\"http://www.w3.org/2000/svg\" xmlns:ev=\"http://www.w3.org/2001/xml-events\" xmlns:xlink=\"http://www.w3.org/1999/xlink\"><defs /><svg width=\"100%\" x=\"0\" y=\"0em\"><defs /><text text-anchor=\"middle\" x=\"50%\" y=\"1em\">TOP</text></svg><svg width=\"100%\" x=\"0%\" y=\"1.2em\"><defs /><svg width=\"100%\" x=\"0\" y=\"0em\"><defs /><text text-anchor=\"middle\" x=\"50%\" y=\"1em\">SQ</text></svg><svg width=\"26.9231%\" x=\"0%\" y=\"1.2em\"><defs /><svg width=\"100%\" x=\"0\" y=\"0em\"><defs /><text text-anchor=\"middle\" x=\"50%\" y=\"1em\">PREDP</text></svg><svg width=\"100%\" x=\"0%\" y=\"1.2em\"><defs /><svg width=\"100%\" x=\"0\" y=\"0em\"><defs /><text text-anchor=\"middle\" x=\"50%\" y=\"1em\">ADVP</text></svg><svg width=\"100%\" x=\"0%\" y=\"1.2em\"><defs /><svg width=\"100%\" x=\"0\" y=\"0em\"><defs /><text text-anchor=\"middle\" x=\"50%\" y=\"1em\">RB</text></svg><svg width=\"100%\" x=\"0%\" y=\"1.2em\"><defs /><svg width=\"100%\" x=\"0\" y=\"0em\"><defs /><text text-anchor=\"middle\" x=\"50%\" y=\"1em\">awli</text><text text-anchor=\"middle\" x=\"50%\" y=\"2em\">אולי</text></svg></svg><line stroke=\"black\" x1=\"50%\" x2=\"50%\" y1=\"1.2em\" y2=\"1.2em\" /></svg><line stroke=\"black\" x1=\"50%\" x2=\"50%\" y1=\"1.2em\" y2=\"1.2em\" /></svg><line stroke=\"black\" x1=\"50%\" x2=\"50%\" y1=\"1.2em\" y2=\"1.2em\" /></svg><line stroke=\"black\" x1=\"50%\" x2=\"13.4615%\" y1=\"1.2em\" y2=\"1.2em\" /><svg width=\"50%\" x=\"26.9231%\" y=\"1.2em\"><defs /><svg width=\"100%\" x=\"0\" y=\"0em\"><defs /><text text-anchor=\"middle\" x=\"50%\" y=\"1em\">NP</text></svg><svg width=\"38.4615%\" x=\"0%\" y=\"1.2em\"><defs /><svg width=\"100%\" x=\"0\" y=\"0em\"><defs /><text text-anchor=\"middle\" x=\"50%\" y=\"1em\">NP</text></svg><svg width=\"100%\" x=\"0%\" y=\"1.2em\"><defs /><svg width=\"100%\" x=\"0\" y=\"0em\"><defs /><text text-anchor=\"middle\" x=\"50%\" y=\"1em\">PRP</text></svg><svg width=\"100%\" x=\"0%\" y=\"1.2em\"><defs /><svg width=\"100%\" x=\"0\" y=\"0em\"><defs /><text text-anchor=\"middle\" x=\"50%\" y=\"1em\">hwa</text><text text-anchor=\"middle\" x=\"50%\" y=\"2em\">הוא</text></svg></svg><line stroke=\"black\" x1=\"50%\" x2=\"50%\" y1=\"1.2em\" y2=\"1.2em\" /></svg><line stroke=\"black\" x1=\"50%\" x2=\"50%\" y1=\"1.2em\" y2=\"1.2em\" /></svg><line stroke=\"black\" x1=\"50%\" x2=\"19.2308%\" y1=\"1.2em\" y2=\"1.2em\" /><svg width=\"61.5385%\" x=\"38.4615%\" y=\"1.2em\"><defs /><svg width=\"100%\" x=\"0\" y=\"0em\"><defs /><text text-anchor=\"middle\" x=\"50%\" y=\"1em\">ADJP</text></svg><svg width=\"37.5%\" x=\"0%\" y=\"1.2em\"><defs /><svg width=\"100%\" x=\"0\" y=\"0em\"><defs /><text text-anchor=\"middle\" x=\"50%\" y=\"1em\">H</text></svg><svg width=\"100%\" x=\"0%\" y=\"1.2em\"><defs /><svg width=\"100%\" x=\"0\" y=\"0em\"><defs /><text text-anchor=\"middle\" x=\"50%\" y=\"1em\">h</text><text text-anchor=\"middle\" x=\"50%\" y=\"2em\">ה</text></svg></svg><line stroke=\"black\" x1=\"50%\" x2=\"50%\" y1=\"1.2em\" y2=\"1.2em\" /></svg><line stroke=\"black\" x1=\"50%\" x2=\"18.75%\" y1=\"1.2em\" y2=\"1.2em\" /><svg width=\"62.5%\" x=\"37.5%\" y=\"1.2em\"><defs /><svg width=\"100%\" x=\"0\" y=\"0em\"><defs /><text text-anchor=\"middle\" x=\"50%\" y=\"1em\">JJ</text></svg><svg width=\"100%\" x=\"0%\" y=\"1.2em\"><defs /><svg width=\"100%\" x=\"0\" y=\"0em\"><defs /><text text-anchor=\"middle\" x=\"50%\" y=\"1em\">fkn</text><text text-anchor=\"middle\" x=\"50%\" y=\"2em\">שכנ</text></svg></svg><line stroke=\"black\" x1=\"50%\" x2=\"50%\" y1=\"1.2em\" y2=\"1.2em\" /></svg><line stroke=\"black\" x1=\"50%\" x2=\"68.75%\" y1=\"1.2em\" y2=\"1.2em\" /></svg><line stroke=\"black\" x1=\"50%\" x2=\"69.2308%\" y1=\"1.2em\" y2=\"1.2em\" /></svg><line stroke=\"black\" x1=\"50%\" x2=\"51.9231%\" y1=\"1.2em\" y2=\"1.2em\" /><svg width=\"23.0769%\" x=\"76.9231%\" y=\"1.2em\"><defs /><svg width=\"100%\" x=\"0\" y=\"0em\"><defs /><text text-anchor=\"middle\" x=\"50%\" y=\"1em\">yyQM</text></svg><svg width=\"100%\" x=\"0%\" y=\"3.6em\"><defs /><svg width=\"100%\" x=\"0\" y=\"0.5em\"><defs /><text text-anchor=\"middle\" x=\"50%\" y=\"1em\">?</text></svg></svg><line stroke=\"black\" x1=\"50%\" x2=\"50%\" y1=\"1.2em\" y2=\"4.1em\" /></svg><line stroke=\"black\" x1=\"50%\" x2=\"88.4615%\" y1=\"1.2em\" y2=\"1.2em\" /></svg><line stroke=\"black\" x1=\"50%\" x2=\"50%\" y1=\"1.2em\" y2=\"1.2em\" /><rect fill=\"gray\" fill-opacity=\"0.15\" height=\"4.9em\" rx=\"8\" ry=\"8\" stroke=\"none\" stroke-width=\"1\" width=\"26.9231%\" x=\"0%\" y=\"3.6em\" /><rect fill=\"gray\" fill-opacity=\"0.15\" height=\"4.9em\" rx=\"8\" ry=\"8\" stroke=\"none\" stroke-width=\"1\" width=\"26.9231%\" x=\"0%\" y=\"3.6em\" /></svg></svg><svg height=\"100%\" width=\"100%\" x=\"0\" y=\"142.5\"><defs /><text style=\"font-family: times, serif; font-weight:normal; font-style: italic; font-size: 13px;\" text-anchor=\"middle\" x=\"50%\" y=\"1em\">Prediction</text></svg></svg></svg><svg height=\"168.5\" width=\"200.0\" x=\"240.0\" y=\"0\"><defs /><svg baseProfile=\"full\" height=\"168.5px\" preserveAspectRatio=\"xMidYMid meet\" version=\"1.1\" viewBox=\"0,0,200.0,168.5\" width=\"200px\" xmlns=\"http://www.w3.org/2000/svg\" xmlns:ev=\"http://www.w3.org/2001/xml-events\" xmlns:xlink=\"http://www.w3.org/1999/xlink\"><defs /><svg height=\"136.0\" width=\"200.0\" x=\"0\" y=\"0\"><defs /><svg baseProfile=\"full\" height=\"136px\" preserveAspectRatio=\"xMidYMid meet\" style=\"font-family: times, serif; font-weight:normal; font-style: normal; font-size: 16px;\" version=\"1.1\" viewBox=\"0,0,200.0,136.0\" width=\"200px\" xmlns=\"http://www.w3.org/2000/svg\" xmlns:ev=\"http://www.w3.org/2001/xml-events\" xmlns:xlink=\"http://www.w3.org/1999/xlink\"><defs /><svg width=\"100%\" x=\"0\" y=\"0em\"><defs /><text text-anchor=\"middle\" x=\"50%\" y=\"1em\">TOP</text></svg><svg width=\"100%\" x=\"0%\" y=\"1.2em\"><defs /><svg width=\"100%\" x=\"0\" y=\"0em\"><defs /><text text-anchor=\"middle\" x=\"50%\" y=\"1em\">SQ</text></svg><svg width=\"24%\" x=\"0%\" y=\"1.2em\"><defs /><svg width=\"100%\" x=\"0\" y=\"0em\"><defs /><text text-anchor=\"middle\" x=\"50%\" y=\"1em\">ADVP</text></svg><svg width=\"100%\" x=\"0%\" y=\"1.2em\"><defs /><svg width=\"100%\" x=\"0\" y=\"0em\"><defs /><text text-anchor=\"middle\" x=\"50%\" y=\"1em\">RB</text></svg><svg width=\"100%\" x=\"0%\" y=\"2.4em\"><defs /><svg width=\"100%\" x=\"0\" y=\"0em\"><defs /><text text-anchor=\"middle\" x=\"50%\" y=\"1em\">awli</text><text text-anchor=\"middle\" x=\"50%\" y=\"2em\">אולי</text></svg></svg><line stroke=\"black\" x1=\"50%\" x2=\"50%\" y1=\"1.2em\" y2=\"2.4em\" /></svg><line stroke=\"black\" x1=\"50%\" x2=\"50%\" y1=\"1.2em\" y2=\"1.2em\" /></svg><line stroke=\"black\" x1=\"50%\" x2=\"12%\" y1=\"1.2em\" y2=\"1.2em\" /><svg width=\"20%\" x=\"24%\" y=\"1.2em\"><defs /><svg width=\"100%\" x=\"0\" y=\"0em\"><defs /><text text-anchor=\"middle\" x=\"50%\" y=\"1em\">NP</text></svg><svg width=\"100%\" x=\"0%\" y=\"1.2em\"><defs /><svg width=\"100%\" x=\"0\" y=\"0em\"><defs /><text text-anchor=\"middle\" x=\"50%\" y=\"1em\">PRP</text></svg><svg width=\"100%\" x=\"0%\" y=\"2.4em\"><defs /><svg width=\"100%\" x=\"0\" y=\"0em\"><defs /><text text-anchor=\"middle\" x=\"50%\" y=\"1em\">hwa</text><text text-anchor=\"middle\" x=\"50%\" y=\"2em\">הוא</text></svg></svg><line stroke=\"black\" x1=\"50%\" x2=\"50%\" y1=\"1.2em\" y2=\"2.4em\" /></svg><line stroke=\"black\" x1=\"50%\" x2=\"50%\" y1=\"1.2em\" y2=\"1.2em\" /></svg><line stroke=\"black\" x1=\"50%\" x2=\"34%\" y1=\"1.2em\" y2=\"1.2em\" /><svg width=\"32%\" x=\"44%\" y=\"1.2em\"><defs /><svg width=\"100%\" x=\"0\" y=\"0em\"><defs /><text text-anchor=\"middle\" x=\"50%\" y=\"1em\">PREDP</text></svg><svg width=\"100%\" x=\"0%\" y=\"1.2em\"><defs /><svg width=\"100%\" x=\"0\" y=\"0em\"><defs /><text text-anchor=\"middle\" x=\"50%\" y=\"1em\">NP</text></svg><svg width=\"37.5%\" x=\"0%\" y=\"1.2em\"><defs /><svg width=\"100%\" x=\"0\" y=\"0em\"><defs /><text text-anchor=\"middle\" x=\"50%\" y=\"1em\">H</text></svg><svg width=\"100%\" x=\"0%\" y=\"1.2em\"><defs /><svg width=\"100%\" x=\"0\" y=\"0em\"><defs /><text text-anchor=\"middle\" x=\"50%\" y=\"1em\">h</text><text text-anchor=\"middle\" x=\"50%\" y=\"2em\">ה</text></svg></svg><line stroke=\"black\" x1=\"50%\" x2=\"50%\" y1=\"1.2em\" y2=\"1.2em\" /></svg><line stroke=\"black\" x1=\"50%\" x2=\"18.75%\" y1=\"1.2em\" y2=\"1.2em\" /><svg width=\"62.5%\" x=\"37.5%\" y=\"1.2em\"><defs /><svg width=\"100%\" x=\"0\" y=\"0em\"><defs /><text text-anchor=\"middle\" x=\"50%\" y=\"1em\">NN</text></svg><svg width=\"100%\" x=\"0%\" y=\"1.2em\"><defs /><svg width=\"100%\" x=\"0\" y=\"0em\"><defs /><text text-anchor=\"middle\" x=\"50%\" y=\"1em\">fkn</text><text text-anchor=\"middle\" x=\"50%\" y=\"2em\">שכנ</text></svg></svg><line stroke=\"black\" x1=\"50%\" x2=\"50%\" y1=\"1.2em\" y2=\"1.2em\" /></svg><line stroke=\"black\" x1=\"50%\" x2=\"68.75%\" y1=\"1.2em\" y2=\"1.2em\" /></svg><line stroke=\"black\" x1=\"50%\" x2=\"50%\" y1=\"1.2em\" y2=\"1.2em\" /></svg><line stroke=\"black\" x1=\"50%\" x2=\"60%\" y1=\"1.2em\" y2=\"1.2em\" /><svg width=\"24%\" x=\"76%\" y=\"1.2em\"><defs /><svg width=\"100%\" x=\"0\" y=\"0em\"><defs /><text text-anchor=\"middle\" x=\"50%\" y=\"1em\">yyQM</text></svg><svg width=\"100%\" x=\"0%\" y=\"3.6em\"><defs /><svg width=\"100%\" x=\"0\" y=\"0.5em\"><defs /><text text-anchor=\"middle\" x=\"50%\" y=\"1em\">?</text></svg></svg><line stroke=\"black\" x1=\"50%\" x2=\"50%\" y1=\"1.2em\" y2=\"4.1em\" /></svg><line stroke=\"black\" x1=\"50%\" x2=\"88%\" y1=\"1.2em\" y2=\"1.2em\" /></svg><line stroke=\"black\" x1=\"50%\" x2=\"50%\" y1=\"1.2em\" y2=\"1.2em\" /><rect fill=\"gray\" fill-opacity=\"0.15\" height=\"4.9em\" rx=\"8\" ry=\"8\" stroke=\"none\" stroke-width=\"1\" width=\"24%\" x=\"0%\" y=\"3.6em\" /><rect fill=\"gray\" fill-opacity=\"0.15\" height=\"4.9em\" rx=\"8\" ry=\"8\" stroke=\"none\" stroke-width=\"1\" width=\"24%\" x=\"0%\" y=\"3.6em\" /></svg></svg><svg height=\"100%\" width=\"100%\" x=\"0\" y=\"142.5\"><defs /><text style=\"font-family: times, serif; font-weight:normal; font-style: italic; font-size: 13px;\" text-anchor=\"middle\" x=\"50%\" y=\"1em\">Gold</text></svg></svg></svg></svg>"
      ],
      "text/plain": [
       "<svgling.figure.SideBySide at 0x1e818662128>"
      ]
     },
     "metadata": {},
     "output_type": "display_data"
    },
    {
     "data": {
      "text/html": [
       "<h3>אולי parents</h3>"
      ],
      "text/plain": [
       "<IPython.core.display.HTML object>"
      ]
     },
     "metadata": {},
     "output_type": "display_data"
    },
    {
     "data": {
      "text/plain": [
       "[('RB@ADVP', ('AWLI',), 0.010326841374668742),\n",
       " ('MOD@NP', ('AWLI',), 0.0021342484097756943),\n",
       " ('MOD@PP', ('AWLI',), 0.004488064707042809)]"
      ]
     },
     "metadata": {},
     "output_type": "display_data"
    }
   ],
   "source": [
    "describe(5, [(0,0,0)], [(0,0,0)])\n",
    "h3(\"איזה parents\")\n",
    "display(get_possible_terminal_tags('aizh'))\n",
    "\n",
    "h3(\"The following example shows a correct tagging of אולי, as opposed to before:\")\n",
    "describe(61, [(0,0,0)], [(0,0,0)])\n",
    "h3(\"אולי parents\")\n",
    "display(get_possible_terminal_tags('awli')[0:3])"
   ]
  },
  {
   "cell_type": "markdown",
   "metadata": {},
   "source": [
    "---\n",
    "Seems like sentences with unknown words still fail to parse  most of the time."
   ]
  },
  {
   "cell_type": "markdown",
   "metadata": {},
   "source": [
    "## Now, let's gather some statistics\n",
    "\n",
    "### Unknown words statistics\n",
    "\n",
    "We can notice that sentences with unknown words are parsed less successfuly:"
   ]
  },
  {
   "cell_type": "code",
   "execution_count": 65,
   "metadata": {},
   "outputs": [
    {
     "data": {
      "text/html": [
       "<h3></h3>"
      ],
      "text/plain": [
       "<IPython.core.display.HTML object>"
      ]
     },
     "metadata": {},
     "output_type": "display_data"
    },
    {
     "data": {
      "text/html": [
       "<h3>There's still a negative correlation between existance of unknown words, and other performance metrics, but much less obvious than in solution 1.2:</h3>"
      ],
      "text/plain": [
       "<IPython.core.display.HTML object>"
      ]
     },
     "metadata": {},
     "output_type": "display_data"
    },
    {
     "data": {
      "text/html": [
       "<h3>Solution 3:</h3>"
      ],
      "text/plain": [
       "<IPython.core.display.HTML object>"
      ]
     },
     "metadata": {},
     "output_type": "display_data"
    },
    {
     "data": {
      "text/plain": [
       "Tag Accracy   -0.228116\n",
       "Prec.         -0.095852\n",
       "Recal         -0.196800\n",
       "Name: Contain unknowns, dtype: float64"
      ]
     },
     "metadata": {},
     "output_type": "display_data"
    },
    {
     "data": {
      "text/html": [
       "<h3>Solution 1.2:</h3>"
      ],
      "text/plain": [
       "<IPython.core.display.HTML object>"
      ]
     },
     "metadata": {},
     "output_type": "display_data"
    },
    {
     "data": {
      "text/plain": [
       "Tag Accracy   -0.460065\n",
       "Prec.         -0.353147\n",
       "Recal         -0.399885\n",
       "Name: Contain unknowns, dtype: float64"
      ]
     },
     "metadata": {},
     "output_type": "display_data"
    }
   ],
   "source": [
    "# For each row check if it contains unknown words\n",
    "\n",
    "def does_contain_unknowns(line_num):\n",
    "    leafs = to_leafs(predicted[int(line_num)-1])\n",
    "    for leaf in leafs:\n",
    "        if leaf not in known_words:\n",
    "            return True\n",
    "    return False\n",
    "\n",
    "def is_question(line_num):\n",
    "    leafs = to_leafs(predicted[int(line_num)-1])\n",
    "    return leafs and leafs[-1] == 'yyQM'\n",
    "\n",
    "def add_data(df):\n",
    "    df['Contain unknowns'] = df['ID'].apply(does_contain_unknowns)\n",
    "    df['Is question'] = df['ID'].apply(is_question)\n",
    "    df = df.assign(F1 = lambda x: 2 * x['Prec.'] * x['Recal'] / (x['Prec.'] + x['Recal']))\n",
    "    return df\n",
    "\n",
    "evalb_df = add_data(evalb_df)\n",
    "evalb12_df = add_data(evalb12_df)\n",
    "\n",
    "h3('')\n",
    "h3(\"There's still a negative correlation between existance of unknown words, and other performance metrics, but much less obvious than in solution 1.2:\")\n",
    "h3(\"Solution 3:\")\n",
    "display(evalb_df.corr()['Contain unknowns'].loc[['Tag Accracy', 'Prec.', 'Recal']])\n",
    "h3(\"Solution 1.2:\")\n",
    "display(evalb12_df.corr()['Contain unknowns'].loc[['Tag Accracy', 'Prec.', 'Recal']])"
   ]
  },
  {
   "cell_type": "markdown",
   "metadata": {},
   "source": [
    "This shows that solution 3 parses sentences with unknown words much better than solution 1.2.\n",
    "\n",
    "Let's see how much worse it performs with such sentences."
   ]
  },
  {
   "cell_type": "code",
   "execution_count": 40,
   "metadata": {},
   "outputs": [
    {
     "data": {
      "text/html": [
       "<h3>F1 scores are indeed different for sentences with unknown words, but in comparison to solution 1.2, we see that the main improvement was when parsing such sentences:</h3>"
      ],
      "text/plain": [
       "<IPython.core.display.HTML object>"
      ]
     },
     "metadata": {},
     "output_type": "display_data"
    },
    {
     "data": {
      "text/html": [
       "<h3>Solution 3 scores:</h3>"
      ],
      "text/plain": [
       "<IPython.core.display.HTML object>"
      ]
     },
     "metadata": {},
     "output_type": "display_data"
    },
    {
     "name": "stdout",
     "output_type": "stream",
     "text": [
      "F1 for all sentences 78.6\n",
      "F1 for sentences with unknown words 74.8\n",
      "F1 for sentences without unknown words 85.6\n"
     ]
    },
    {
     "data": {
      "text/html": [
       "<h3>Solution 1.2 scores:</h3>"
      ],
      "text/plain": [
       "<IPython.core.display.HTML object>"
      ]
     },
     "metadata": {},
     "output_type": "display_data"
    },
    {
     "name": "stdout",
     "output_type": "stream",
     "text": [
      "F1 for all sentences 73.3\n",
      "F1 for sentences with unknown words 67.3\n",
      "F1 for sentences without unknown words 83.9\n"
     ]
    }
   ],
   "source": [
    "# Calc F1 for unknown words \n",
    "\n",
    "def df_f1(df):\n",
    "    return round(df['F1'].mean(), 1)\n",
    "\n",
    "def print_f1(df):\n",
    "    print(\"F1 for all sentences\", df_f1(df))\n",
    "    print(\"F1 for sentences with unknown words\", df_f1(df[df['Contain unknowns']==True]))\n",
    "    print(\"F1 for sentences without unknown words\", df_f1(df[df['Contain unknowns']==False]))\n",
    "\n",
    "h3(\"F1 scores are indeed different for sentences with unknown words, but in comparison to solution 1.2, we see that the main improvement was when parsing such sentences:\")\n",
    "h3(\"Solution 3 scores:\")\n",
    "print_f1(evalb_df)\n",
    "\n",
    "h3(\"Solution 1.2 scores:\")\n",
    "print_f1(evalb12_df)"
   ]
  },
  {
   "cell_type": "markdown",
   "metadata": {},
   "source": [
    "We also notice that the vast majority of unknown words are tagged incorrectly, and that most sentences turned out to have unknown words in them. But then again, they are parsed better in solution 3."
   ]
  },
  {
   "cell_type": "code",
   "execution_count": 52,
   "metadata": {},
   "outputs": [
    {
     "data": {
      "text/html": [
       "<h3>Ratio of unknown words tagged incorrectly</h3>"
      ],
      "text/plain": [
       "<IPython.core.display.HTML object>"
      ]
     },
     "metadata": {},
     "output_type": "display_data"
    },
    {
     "data": {
      "text/html": [
       "<h3>Solution 3</h3>"
      ],
      "text/plain": [
       "<IPython.core.display.HTML object>"
      ]
     },
     "metadata": {},
     "output_type": "display_data"
    },
    {
     "name": "stdout",
     "output_type": "stream",
     "text": [
      "66.0 %\n"
     ]
    },
    {
     "data": {
      "text/html": [
       "<h3>Solution 1.2</h3>"
      ],
      "text/plain": [
       "<IPython.core.display.HTML object>"
      ]
     },
     "metadata": {},
     "output_type": "display_data"
    },
    {
     "name": "stdout",
     "output_type": "stream",
     "text": [
      "74.0 %\n"
     ]
    }
   ],
   "source": [
    "import statistics\n",
    "\n",
    "def unknown_mistake_ratio(line_num):\n",
    "    leafs = to_leafs(predicted[int(line_num)-1])\n",
    "    unknown = 0\n",
    "    mistakes = 0\n",
    "\n",
    "    evalb_tags = eb[int(line_num)]\n",
    "    for i, leaf in enumerate(leafs):\n",
    "        if leaf not in known_words:\n",
    "            unknown += 1\n",
    "            t_predicted = evalb_tags['t-predicted'][i]\n",
    "            t_gold = evalb_tags['t-gold'][i]\n",
    "            assert t_predicted['tag']==leaf\n",
    "            assert t_gold['tag']==leaf\n",
    "            if t_predicted['parent']!=t_gold['parent']:\n",
    "                mistakes += 1\n",
    "    return mistakes / unknown if unknown else None\n",
    "\n",
    "h3(\"Ratio of unknown words tagged incorrectly\")\n",
    "h3(\"Solution 3\")\n",
    "eb = evalb\n",
    "unknown_words_ratio1 = statistics.mean(map(unknown_mistake_ratio, list(evalb_df[evalb_df['Contain unknowns']==True]['ID'])))\n",
    "print(round(unknown_words_ratio1,2)*100, '%')\n",
    "\n",
    "h3(\"Solution 1.2\")\n",
    "eb = evalb12\n",
    "unknown_words_ratio2 = statistics.mean(map(unknown_mistake_ratio, list(evalb12_df[evalb12_df['Contain unknowns']==True]['ID'])))\n",
    "print(round(unknown_words_ratio2,2)*100, '%')"
   ]
  },
  {
   "cell_type": "markdown",
   "metadata": {},
   "source": [
    "## Missed non-terminal tags statistics"
   ]
  },
  {
   "cell_type": "markdown",
   "metadata": {},
   "source": [
    "Let's try to investigate where non-terminal tags are parsed incorrectly\n",
    "\n",
    "First, let's collect data about nodes in which level of the trees got wrong tags"
   ]
  },
  {
   "cell_type": "code",
   "execution_count": 58,
   "metadata": {},
   "outputs": [],
   "source": [
    "# Add a height parameter to each NT tag, and find which layer in the tree had wrong tags\n",
    "\n",
    "def set_heights(line_num, node=None):\n",
    "    eval_tags = evalb[int(line_num)]\n",
    "    nt_predicted = eval_tags['nt-predicted']\n",
    "    if not node:\n",
    "        node = nt_predicted[0]\n",
    "    children = [c for c in nt_predicted[nt_predicted.index(node) + 1:] if node['start'] <= c['start'] < node['end']]\n",
    "    if children:\n",
    "        children_height = [set_heights(line_num, c) for c in children]\n",
    "        node['height'] = max(children_height) + 1\n",
    "    else:\n",
    "        node['height'] = 2\n",
    "    return node['height']\n",
    "    \n",
    "def incorrect_NT_stats(line_num):\n",
    "    eval_tags = evalb[int(line_num)]\n",
    "    set_heights(line_num)\n",
    "    misses = defaultdict(int)\n",
    "    misses['tree_height'] = eval_tags['nt-predicted'][0]['height']\n",
    "    for p in eval_tags['nt-predicted']:\n",
    "        # find the gold tag at the same position in the tree\n",
    "        match_gold_nt = next((g for g in eval_tags['nt-gold'] if g['start']==p['start'] and g['end']==p['end']), None)\n",
    "        if not match_gold_nt:\n",
    "            misses[p['height']] += 1\n",
    "    return misses"
   ]
  },
  {
   "cell_type": "code",
   "execution_count": 59,
   "metadata": {},
   "outputs": [],
   "source": [
    "misses = dict((line_num, incorrect_NT_stats(line_num)) for line_num in evalb_df[evalb_df['Prec.']!=0]['ID'].values)"
   ]
  },
  {
   "cell_type": "code",
   "execution_count": 60,
   "metadata": {},
   "outputs": [],
   "source": [
    "missed_layers_pct = []\n",
    "for line_num, miss in misses.items():\n",
    "    tree_height = miss['tree_height']\n",
    "    missed_layers = len(miss.values()) - 1\n",
    "    missed_percent = (missed_layers / (tree_height - 2))\n",
    "    missed_layers_pct.append(missed_percent)\n",
    "    \n",
    "missed_df = pd.DataFrame(missed_layers_pct)"
   ]
  },
  {
   "cell_type": "code",
   "execution_count": 61,
   "metadata": {},
   "outputs": [
    {
     "data": {
      "text/html": [
       "<div>\n",
       "<style scoped>\n",
       "    .dataframe tbody tr th:only-of-type {\n",
       "        vertical-align: middle;\n",
       "    }\n",
       "\n",
       "    .dataframe tbody tr th {\n",
       "        vertical-align: top;\n",
       "    }\n",
       "\n",
       "    .dataframe thead th {\n",
       "        text-align: right;\n",
       "    }\n",
       "</style>\n",
       "<table border=\"1\" class=\"dataframe\">\n",
       "  <thead>\n",
       "    <tr style=\"text-align: right;\">\n",
       "      <th></th>\n",
       "      <th>0</th>\n",
       "    </tr>\n",
       "  </thead>\n",
       "  <tbody>\n",
       "    <tr>\n",
       "      <th>0</th>\n",
       "      <td>0.000000</td>\n",
       "    </tr>\n",
       "    <tr>\n",
       "      <th>1</th>\n",
       "      <td>0.000000</td>\n",
       "    </tr>\n",
       "    <tr>\n",
       "      <th>2</th>\n",
       "      <td>0.000000</td>\n",
       "    </tr>\n",
       "    <tr>\n",
       "      <th>3</th>\n",
       "      <td>0.000000</td>\n",
       "    </tr>\n",
       "    <tr>\n",
       "      <th>4</th>\n",
       "      <td>0.333333</td>\n",
       "    </tr>\n",
       "  </tbody>\n",
       "</table>\n",
       "</div>"
      ],
      "text/plain": [
       "          0\n",
       "0  0.000000\n",
       "1  0.000000\n",
       "2  0.000000\n",
       "3  0.000000\n",
       "4  0.333333"
      ]
     },
     "execution_count": 61,
     "metadata": {},
     "output_type": "execute_result"
    }
   ],
   "source": [
    "# missed_df contains the percent of levels in the tree that were tagged incorrectly\n",
    "missed_df[:5]"
   ]
  },
  {
   "cell_type": "markdown",
   "metadata": {},
   "source": [
    "Let's plot the distribution"
   ]
  },
  {
   "cell_type": "code",
   "execution_count": 62,
   "metadata": {},
   "outputs": [
    {
     "data": {
      "image/png": "[encoded data removed]",
      "text/plain": [
       "<Figure size 864x432 with 1 Axes>"
      ]
     },
     "metadata": {
      "needs_background": "light"
     },
     "output_type": "display_data"
    }
   ],
   "source": [
    "import matplotlib.pyplot as plt\n",
    "from IPython.core.pylabtools import figsize\n",
    "\n",
    "figsize(12, 6)\n",
    "plt.hist(missed_df[0])\n",
    "plt.title('Percent of incorrectly tagged tree-levels')\n",
    "plt.ylabel('# sentences');"
   ]
  },
  {
   "cell_type": "code",
   "execution_count": 64,
   "metadata": {},
   "outputs": [
    {
     "data": {
      "text/html": [
       "<h3>In cases were a tree was tagged incorrectly, on average 47% of its levels were wrong, again, better than solution 1.2</h3>"
      ],
      "text/plain": [
       "<IPython.core.display.HTML object>"
      ]
     },
     "metadata": {},
     "output_type": "display_data"
    }
   ],
   "source": [
    "import statistics \n",
    "median = statistics.mean(v for v in missed_layers_pct if v)\n",
    "\n",
    "h3(f\"In cases were a tree was tagged incorrectly, on average {round(median*100)}% of its levels were wrong, again, better than solution 1.2\")"
   ]
  },
  {
   "cell_type": "markdown",
   "metadata": {},
   "source": [
    "### Final words\n",
    "Parent Encoding is a simple, but powerful improvement for the CYK algorithm. It helps it tag more accurately, as it respects the probabilities of the parent, the grandparent, and therefor more siblings of a node.\n",
    "\n",
    "We saw that it improved every performance measure, and even helped tagging unknown words much better, as it considers more their nearby words."
   ]
  }
 ],
 "metadata": {
  "kernelspec": {
   "display_name": "Python 3",
   "language": "python",
   "name": "python3"
  },
  "language_info": {
   "codemirror_mode": {
    "name": "ipython",
    "version": 3
   },
   "file_extension": ".py",
   "mimetype": "text/x-python",
   "name": "python",
   "nbconvert_exporter": "python",
   "pygments_lexer": "ipython3",
   "version": "3.7.3"
  }
 },
 "nbformat": 4,
 "nbformat_minor": 2
}
